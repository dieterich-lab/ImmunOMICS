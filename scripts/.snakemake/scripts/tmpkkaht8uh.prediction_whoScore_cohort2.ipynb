{
 "cells": [
  {
   "cell_type": "code",
   "execution_count": null,
   "id": "7d57aab9",
   "metadata": {
    "tags": [
     "snakemake-job-properties"
    ]
   },
   "outputs": [],
   "source": [
    "\n",
    "######## snakemake preamble start (automatically inserted, do not edit) ########\n",
    "import sys; sys.path.extend(['/home/alemsara/miniconda3/lib/python3.9/site-packages', '/beegfs/prj/NUM_CODEX_PLUS/Amina/scripts']); import pickle; snakemake = pickle.loads(b\"\\x80\\x04\\x95\\xcb\\x03\\x00\\x00\\x00\\x00\\x00\\x00\\x8c\\x10snakemake.script\\x94\\x8c\\tSnakemake\\x94\\x93\\x94)\\x81\\x94}\\x94(\\x8c\\x05input\\x94\\x8c\\x0csnakemake.io\\x94\\x8c\\nInputFiles\\x94\\x93\\x94)\\x81\\x94}\\x94(\\x8c\\x06_names\\x94}\\x94\\x8c\\x12_allowed_overrides\\x94]\\x94(\\x8c\\x05index\\x94\\x8c\\x04sort\\x94eh\\x0f\\x8c\\tfunctools\\x94\\x8c\\x07partial\\x94\\x93\\x94h\\x06\\x8c\\x19Namedlist._used_attribute\\x94\\x93\\x94\\x85\\x94R\\x94(h\\x15)}\\x94\\x8c\\x05_name\\x94h\\x0fsNt\\x94bh\\x10h\\x13h\\x15\\x85\\x94R\\x94(h\\x15)}\\x94h\\x19h\\x10sNt\\x94bub\\x8c\\x06output\\x94h\\x06\\x8c\\x0bOutputFiles\\x94\\x93\\x94)\\x81\\x94}\\x94(h\\x0b}\\x94h\\r]\\x94(h\\x0fh\\x10eh\\x0fh\\x13h\\x15\\x85\\x94R\\x94(h\\x15)}\\x94h\\x19h\\x0fsNt\\x94bh\\x10h\\x13h\\x15\\x85\\x94R\\x94(h\\x15)}\\x94h\\x19h\\x10sNt\\x94bub\\x8c\\x06params\\x94h\\x06\\x8c\\x06Params\\x94\\x93\\x94)\\x81\\x94}\\x94(h\\x0b}\\x94h\\r]\\x94(h\\x0fh\\x10eh\\x0fh\\x13h\\x15\\x85\\x94R\\x94(h\\x15)}\\x94h\\x19h\\x0fsNt\\x94bh\\x10h\\x13h\\x15\\x85\\x94R\\x94(h\\x15)}\\x94h\\x19h\\x10sNt\\x94bub\\x8c\\twildcards\\x94h\\x06\\x8c\\tWildcards\\x94\\x93\\x94)\\x81\\x94}\\x94(h\\x0b}\\x94h\\r]\\x94(h\\x0fh\\x10eh\\x0fh\\x13h\\x15\\x85\\x94R\\x94(h\\x15)}\\x94h\\x19h\\x0fsNt\\x94bh\\x10h\\x13h\\x15\\x85\\x94R\\x94(h\\x15)}\\x94h\\x19h\\x10sNt\\x94bub\\x8c\\x07threads\\x94K\\x01\\x8c\\tresources\\x94h\\x06\\x8c\\tResources\\x94\\x93\\x94)\\x81\\x94(K\\x01K\\x01\\x8c\\x04/tmp\\x94e}\\x94(h\\x0b}\\x94(\\x8c\\x06_cores\\x94K\\x00N\\x86\\x94\\x8c\\x06_nodes\\x94K\\x01N\\x86\\x94\\x8c\\x06tmpdir\\x94K\\x02N\\x86\\x94uh\\r]\\x94(h\\x0fh\\x10eh\\x0fh\\x13h\\x15\\x85\\x94R\\x94(h\\x15)}\\x94h\\x19h\\x0fsNt\\x94bh\\x10h\\x13h\\x15\\x85\\x94R\\x94(h\\x15)}\\x94h\\x19h\\x10sNt\\x94bhTK\\x01hVK\\x01hXhQub\\x8c\\x03log\\x94h\\x06\\x8c\\x03Log\\x94\\x93\\x94)\\x81\\x94\\x8c'logs/notebooks/processed_notebook.ipynb\\x94a}\\x94(h\\x0b}\\x94\\x8c\\x08notebook\\x94K\\x00N\\x86\\x94sh\\r]\\x94(h\\x0fh\\x10eh\\x0fh\\x13h\\x15\\x85\\x94R\\x94(h\\x15)}\\x94h\\x19h\\x0fsNt\\x94bh\\x10h\\x13h\\x15\\x85\\x94R\\x94(h\\x15)}\\x94h\\x19h\\x10sNt\\x94bhjhgub\\x8c\\x06config\\x94}\\x94\\x8c\\x04rule\\x94\\x8c\\x03all\\x94\\x8c\\x0fbench_iteration\\x94N\\x8c\\tscriptdir\\x94\\x8c(/beegfs/prj/NUM_CODEX_PLUS/Amina/scripts\\x94ub.\"); from snakemake.logging import logger; logger.printshellcmds = False; import os; os.chdir(r'/beegfs/prj/NUM_CODEX_PLUS/Amina/scripts');\n",
    "######## snakemake preamble end #########\n"
   ]
  },
  {
   "cell_type": "code",
   "execution_count": 1,
   "id": "d7ccb960",
   "metadata": {},
   "outputs": [],
   "source": [
    "import scanpy as sc\n",
    "import sklearn.model_selection as sks\n",
    "import numpy as np\n",
    "import pandas as pd\n",
    "from sklearn import svm\n",
    "import warnings\n",
    "warnings.filterwarnings(\"ignore\")\n",
    "import matplotlib.pyplot as plt\n",
    "from matplotlib.pyplot import rc_context\n",
    "import sklearn.metrics as skm\n",
    "from itertools import cycle"
   ]
  },
  {
   "cell_type": "markdown",
   "id": "762cbd1c",
   "metadata": {},
   "source": [
    "## LOAD Seurat object "
   ]
  },
  {
   "cell_type": "code",
   "execution_count": 2,
   "id": "eca9db48",
   "metadata": {},
   "outputs": [
    {
     "data": {
      "text/plain": [
       "AnnData object with n_obs × n_vars = 139848 × 33417\n",
       "    obs: 'orig.ident', 'nCount_RNA', 'nFeature_RNA', 'nCount_HTO', 'nFeature_HTO', 'percent.mito', 'meanCount_RNA', 'meanCount_HTO', 'HTO_maxID', 'HTO_secondID', 'HTO_margin', 'HTO_classification', 'HTO_classification.global', 'hash.ID', 'demultID', 'experiment', 'cartridge', 'ID', 'sample', 'abseq', 'date_of_sampling', 'donor', 'cells', 'purification', 'nCount_AB', 'nFeature_AB', 'group_4', 'group', 'diagnosis', 'onset_of_symptoms', 'outcome', 'oxygen', 'highest_WHO_classification', 'primary_complaint', 'bacterial_superinfection', 'medication', 'comorbidities', 'age', 'sex', 'days_after_onset', 'disease_stage', 'who_per_sample', 'group_per_sample', 'glucocorticoids', 'covid19_therapy', 'leukocyte_counts', 'neutrophil_counts', 'lymphocyte_counts', 'monocyte_counts', 'eosinophil_counts', 'basophil_counts', 'imm_granulocyte_counts', 'thrombocyte_counts', 'pCT', 'CRP', 'IL6', 'group_4_per_sample', 'percent.hb', 'group_per_sample_per_stage', 'group_4_per_sample_per_stage', 'hpca.labels', 'blueprint.labels', 'monaco.labels', 'immune.labels', 'dmap.labels', 'hemato.labels', 'RNA_snn_res.0.5', 'seurat_clusters', 'RNA_snn_res.0.4', 'cluster_labels_res.0.5', 'cluster_labels_res.0.4', 'new_order', 'fresh', 'Condition', 'cell.cond', 'celltype', 'celltypeL0'\n",
       "    var: 'vst.mean', 'vst.variance', 'vst.variance.expected', 'vst.variance.standardized', 'vst.variable'\n",
       "    obsm: 'X_pca', 'X_umap'\n",
       "    varm: 'PCs'"
      ]
     },
     "execution_count": 2,
     "metadata": {},
     "output_type": "execute_result"
    }
   ],
   "source": [
    "adata = sc.read_h5ad(\"data/cohort2.h5ad\")\n",
    "adata"
   ]
  },
  {
   "cell_type": "markdown",
   "id": "cffd5d48",
   "metadata": {},
   "source": [
    "## Use metadata object to manipulate meta data"
   ]
  },
  {
   "cell_type": "code",
   "execution_count": 3,
   "id": "d1b3da72",
   "metadata": {},
   "outputs": [],
   "source": [
    "metadata = adata.obs\n",
    "metadata = metadata.set_index(adata.obs.index)\n",
    "metadata= metadata.replace('NA', np.nan)\n"
   ]
  },
  {
   "cell_type": "markdown",
   "id": "371885c7",
   "metadata": {},
   "source": [
    "## Start prediction ...."
   ]
  },
  {
   "cell_type": "markdown",
   "id": "c9ce592d",
   "metadata": {},
   "source": [
    "Split COVID data (exclude control samples) : 75% training set and 25% test set by preserving classes percentages"
   ]
  },
  {
   "cell_type": "code",
   "execution_count": 4,
   "id": "ea9daa3b",
   "metadata": {},
   "outputs": [],
   "source": [
    "df= adata.obsm['X_pca'][adata.obs['Condition']!= 'Control']\n",
    "meta = adata.obs[adata.obs['Condition']!= 'Control']\n",
    "df = pd.DataFrame(df, index = meta.index)\n",
    "y = metadata[metadata['Condition']!= 'Control'].who_per_sample\n",
    "train, test, y_train, y_test = sks.train_test_split(df,y, test_size=0.25, random_state=42, stratify=y)"
   ]
  },
  {
   "cell_type": "markdown",
   "id": "a4fa5ada",
   "metadata": {},
   "source": [
    "Statistics about the split"
   ]
  },
  {
   "cell_type": "code",
   "execution_count": 5,
   "id": "c0e080eb",
   "metadata": {},
   "outputs": [
    {
     "data": {
      "image/png": "[encoded data removed]",
      "text/plain": [
       "<Figure size 432x288 with 1 Axes>"
      ]
     },
     "metadata": {
      "needs_background": "light"
     },
     "output_type": "display_data"
    }
   ],
   "source": [
    "with plt.rc_context({'figure.figsize': (4.5, 3), 'figure.dpi':96}):\n",
    "    fig, ax = plt.subplots()\n",
    "    y_train.sort_values().hist( ax=ax)\n",
    "    y_test.hist( ax=ax)\n",
    "    ax.legend(['Train','Test'])\n",
    "    plt.title('WHO scores counts')\n"
   ]
  },
  {
   "cell_type": "code",
   "execution_count": 6,
   "id": "5f5361e5",
   "metadata": {},
   "outputs": [],
   "source": [
    "metadata['split']= None\n",
    "metadata.loc[metadata.index.isin(train.index),'split']=0\n",
    "metadata.loc[metadata.index.isin(test.index),'split']=1"
   ]
  },
  {
   "cell_type": "markdown",
   "id": "1c4dc590",
   "metadata": {},
   "source": [
    "### Apply SVM"
   ]
  },
  {
   "cell_type": "code",
   "execution_count": null,
   "id": "51177956",
   "metadata": {},
   "outputs": [],
   "source": [
    "clf = svm.SVC(probability=True)\n",
    "clf.fit(train, y_train)\n",
    "pred=clf.predict(test)"
   ]
  },
  {
   "cell_type": "code",
   "execution_count": null,
   "id": "532bbc1f",
   "metadata": {},
   "outputs": [],
   "source": [
    "meatadata['svm']= None\n",
    "meatadata.loc[test.index,'svm']=pred"
   ]
  },
  {
   "cell_type": "markdown",
   "id": "d357663d",
   "metadata": {},
   "source": [
    "### Append classification to  metadata"
   ]
  },
  {
   "cell_type": "code",
   "execution_count": null,
   "id": "2f867b8a",
   "metadata": {},
   "outputs": [],
   "source": [
    "adata.obs['split'] = meatadata['split']\n",
    "adata.obs['svm'] = meatadata['svm'].astype(str)"
   ]
  },
  {
   "cell_type": "markdown",
   "id": "3dc30e80",
   "metadata": {},
   "source": [
    "## Plot UMAP with real and predicted classes"
   ]
  },
  {
   "cell_type": "code",
   "execution_count": null,
   "id": "14ec67de",
   "metadata": {},
   "outputs": [],
   "source": [
    "with rc_context({'figure.figsize': (4.5, 3), 'figure.dpi':300}):\n",
    "    sc.pl.umap(\n",
    "        adata[adata.obs[\"split\"] == 1],\n",
    "        color=[\"svm\",'who_per_sample'],\n",
    "        palette='viridis_r',\n",
    "        title = ['Predicted WHO scores','Real WHO scores']\n",
    "    )"
   ]
  },
  {
   "cell_type": "markdown",
   "id": "c6d3e76b",
   "metadata": {},
   "source": [
    "## Some evaluation metrics ..."
   ]
  },
  {
   "cell_type": "markdown",
   "id": "2382507d",
   "metadata": {},
   "source": [
    "### Classification report"
   ]
  },
  {
   "cell_type": "code",
   "execution_count": null,
   "id": "63056992",
   "metadata": {},
   "outputs": [],
   "source": [
    "print(skm.classification_report(y_test, pred, target_names=clf.classes_))"
   ]
  },
  {
   "cell_type": "markdown",
   "id": "6ca28ddf",
   "metadata": {},
   "source": [
    "### ROC curves"
   ]
  },
  {
   "cell_type": "code",
   "execution_count": null,
   "id": "ab86bd5e",
   "metadata": {},
   "outputs": [],
   "source": [
    "y_score = clf.predict_proba(test)\n",
    "n_classes = 5\n",
    "fpr = dict()\n",
    "tpr = dict()\n",
    "roc_auc = dict()\n",
    "for i in range(n_classes):\n",
    "    fpr[i], tpr[i], _ = skm.roc_curve(pd.get_dummies(y_test).loc[:, clf.classes_[i]], y_score[:, i])\n",
    "    roc_auc[i] = skm.auc(fpr[i], tpr[i])\n",
    "\n",
    "with rc_context({'figure.figsize': (4.5, 3), 'figure.dpi':96}):\n",
    "    colors = plt.rcParams['axes.prop_cycle'].by_key()['color']\n",
    "    for i, color in zip(range(n_classes), colors):\n",
    "        plt.plot(\n",
    "            fpr[i],\n",
    "            tpr[i],\n",
    "            color=color,\n",
    "            lw=lw,\n",
    "            label=\"ROC curve of class {0} (area = {1:0.2f})\".format(clf.classes_[i], roc_auc[i]),\n",
    "        )\n",
    "\n",
    "    plt.plot([0, 1], [0, 1], \"k--\", lw=2)\n",
    "    plt.xlim([0.0, 1.0])\n",
    "    plt.ylim([0.0, 1.05])\n",
    "    plt.xlabel(\"False Positive Rate\")\n",
    "    plt.ylabel(\"True Positive Rate\")\n",
    "    plt.title(\"Receiver Operating Characteristic\")\n",
    "    plt.legend(loc=\"lower right\")\n",
    "    plt.show()\n"
   ]
  },
  {
   "cell_type": "markdown",
   "id": "6d101fcf",
   "metadata": {},
   "source": [
    "### Confusion matrix"
   ]
  },
  {
   "cell_type": "code",
   "execution_count": null,
   "id": "58a3ec5c",
   "metadata": {
    "scrolled": false
   },
   "outputs": [],
   "source": [
    "# pred_df = pd.DataFrame({\"y\":y_test,\"pred\":pred, \"value\":pred})\n",
    "# pred_df.pivot_table(index='y', columns='pred',values='value',aggfunc='count')"
   ]
  },
  {
   "cell_type": "code",
   "execution_count": null,
   "id": "5ff30b23",
   "metadata": {},
   "outputs": [],
   "source": [
    "with rc_context({'figure.figsize': (4.5, 3), 'figure.dpi':96}):\n",
    "    skm.ConfusionMatrixDisplay.from_estimator(\n",
    "         clf, test, y_test, normalize='true', cmap='Reds')\n",
    "    plt.show()"
   ]
  },
  {
   "cell_type": "code",
   "execution_count": null,
   "id": "8136cf20",
   "metadata": {},
   "outputs": [],
   "source": []
  }
 ],
 "metadata": {
  "kernelspec": {
   "display_name": "base",
   "language": "python",
   "name": "base"
  },
  "language_info": {
   "codemirror_mode": {
    "name": "ipython",
    "version": 3
   },
   "file_extension": ".py",
   "mimetype": "text/x-python",
   "name": "python",
   "nbconvert_exporter": "python",
   "pygments_lexer": "ipython3",
   "version": "3.9.4"
  }
 },
 "nbformat": 4,
 "nbformat_minor": 5
}