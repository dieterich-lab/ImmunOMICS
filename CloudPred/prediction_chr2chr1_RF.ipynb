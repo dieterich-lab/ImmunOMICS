{
 "cells": [
  {
   "cell_type": "markdown",
   "id": "ffed37bc",
   "metadata": {},
   "source": [
    "#Prediction based on Linear SVM with average at sample level"
   ]
  },
  {
   "cell_type": "code",
   "execution_count": 1,
   "id": "dbcadad3",
   "metadata": {},
   "outputs": [],
   "source": [
    "import pickle\n",
    "import scipy\n",
    "import scipy.io\n",
    "import os\n",
    "import numpy as np\n",
    "import scanpy as sc\n",
    "from sklearn.preprocessing import LabelEncoder\n",
    "import pandas as pd\n",
    "import scanpy as sc\n",
    "import sklearn.model_selection as sks\n",
    "import numpy as np\n",
    "import pandas as pd\n",
    "from sklearn import svm\n",
    "import warnings\n",
    "warnings.filterwarnings(\"ignore\")\n",
    "import matplotlib.pyplot as plt\n",
    "from matplotlib.pyplot import rc_context\n",
    "import sklearn.metrics as skm\n",
    "from itertools import cycle\n",
    "from sklearn.ensemble import RandomForestClassifier\n",
    "import matplotlib.gridspec as gridspec\n",
    "import matplotlib.colors as clr\n",
    "from matplotlib.ticker import MaxNLocator\n",
    "import random\n",
    "import collections\n"
   ]
  },
  {
   "cell_type": "markdown",
   "id": "202f4d96",
   "metadata": {},
   "source": [
    "We use cohort 2 as a training set and cohort1 as test set and we use top marker genes as features "
   ]
  },
  {
   "cell_type": "markdown",
   "id": "7e5bd6d2",
   "metadata": {},
   "source": [
    "# Load cohort1 and cohort2"
   ]
  },
  {
   "cell_type": "code",
   "execution_count": null,
   "id": "9ffc36a6",
   "metadata": {},
   "outputs": [],
   "source": [
    "adata = sc.read_h5ad(\"../../data_/cohort2.h5ad\")\n",
    "adata"
   ]
  },
  {
   "cell_type": "code",
   "execution_count": null,
   "id": "d469c921",
   "metadata": {},
   "outputs": [],
   "source": [
    "sc.pp.normalize_total(adata, target_sum=1e4)\n",
    "sc.pp.log1p(adata)\n"
   ]
  },
  {
   "cell_type": "code",
   "execution_count": null,
   "id": "ef142060",
   "metadata": {},
   "outputs": [],
   "source": [
    "adata1 = sc.read_h5ad(\"../../data_/cohort1.h5ad\")\n",
    "sc.pp.normalize_total(adata1, target_sum=1e4)\n",
    "sc.pp.log1p(adata1)"
   ]
  },
  {
   "cell_type": "code",
   "execution_count": null,
   "id": "f5e52a67",
   "metadata": {},
   "outputs": [],
   "source": [
    "adata1_x=adata1.X\n",
    "adata_x=adata.X\n",
    "adata_c=adata.var.index\n",
    "adata1_c=adata1.var.index"
   ]
  },
  {
   "cell_type": "markdown",
   "id": "95b74e59",
   "metadata": {},
   "source": [
    "# Extract COVID samples and format the structure of input as sample(cells) -list of arrays"
   ]
  },
  {
   "cell_type": "code",
   "execution_count": null,
   "id": "2fab73a7",
   "metadata": {},
   "outputs": [],
   "source": [
    "le = LabelEncoder()"
   ]
  },
  {
   "cell_type": "markdown",
   "id": "3d6dec66",
   "metadata": {},
   "source": [
    "### Test set"
   ]
  },
  {
   "cell_type": "code",
   "execution_count": null,
   "id": "c97bc682",
   "metadata": {},
   "outputs": [],
   "source": [
    "#cohort1_xtest\n",
    "label = le.fit_transform(adata1.obs[\"Condition\"])\n",
    "print(np.unique(adata1.obs[\"Condition\"]))\n",
    "label = label-1\n",
    "\n",
    "\n",
    "Xtest = []\n",
    "samples = np.unique(adata1.obs.SampleID[adata1.obs.Condition != 'Control'])\n",
    "X_ = []\n",
    "print(len(samples))\n",
    "for sample in samples:\n",
    "    x = adata1_x[adata1.obs.SampleID == sample,:]\n",
    "    y=label[adata1.obs.SampleID == sample][0] \n",
    "    y_= adata1.obs[\"new.id\"][adata1.obs.SampleID == sample].values \n",
    "    X_.append((x,y,y_))\n",
    "# X = list(map(lambda x: (x, y, None), X_))\n",
    "Xtest=X_\n",
    "# with open(\"../../2cohorts/chr2chr1/Xtest__.pkl\", \"wb\") as f:\n",
    "#             pickle.dump(Xtest, f)\n",
    "# with open(\"../../2cohorts/chr2chr1/Ctest__.pkl\", \"wb\") as f:\n",
    "#             pickle.dump(adata1_c, f)"
   ]
  },
  {
   "cell_type": "markdown",
   "id": "dbd2765e",
   "metadata": {},
   "source": [
    "### Training set "
   ]
  },
  {
   "cell_type": "code",
   "execution_count": null,
   "id": "215ad845",
   "metadata": {},
   "outputs": [],
   "source": [
    "label = le.fit_transform(adata.obs[\"Condition\"])\n",
    "print(np.unique(adata.obs[\"Condition\"]))\n",
    "label = label-1\n",
    "#cohort2\n",
    "Xall = []\n",
    "state = []\n",
    "samples = np.unique(adata.obs.ID[adata.obs.Condition == 'Mild'])\n",
    "X_ = []\n",
    "print(len(samples))\n",
    "for sample in samples:\n",
    "    x = adata_x[adata.obs.ID == sample,:]\n",
    "    y= label[adata.obs.ID == sample][0] \n",
    "    y_= adata.obs[\"new_order\"][adata.obs.ID == sample].values \n",
    "    X_.append((x,y_))\n",
    "X = list(map(lambda x: (x[0], y, x[1]), X_))\n",
    "state.append('Mild')\n",
    "Xall.append(X)\n",
    "\n",
    "samples = np.unique(adata.obs.ID[adata.obs.Condition == 'Severe'])\n",
    "print(len(samples))\n",
    "\n",
    "X_ = []\n",
    "for sample in samples:\n",
    "    x = adata_x[adata.obs.ID == sample,:]\n",
    "    y= label[adata.obs.ID == sample][0] \n",
    "    y_= adata.obs[\"new_order\"][adata.obs.ID == sample].values \n",
    "    X_.append((x,y_))\n",
    "X = list(map(lambda x: (x[0], y, x[1]), X_))\n",
    "state.append('Severe')\n",
    "Xall.append(X)\n",
    "# with open(\"../../2cohorts/chr2chr1/Xall.pkl\", \"wb\") as f:\n",
    "#             pickle.dump(Xall, f)\n",
    "# with open( \"../../2cohorts/chr2chr1/state.pkl\", \"wb\") as f:\n",
    "#             pickle.dump(state, f)\n",
    "# with open(\"../../2cohorts/chr2chr1/Call__.pkl\", \"wb\") as f:\n",
    "#             pickle.dump(adata_c, f)"
   ]
  },
  {
   "cell_type": "code",
   "execution_count": 2,
   "id": "3ff88a75",
   "metadata": {},
   "outputs": [],
   "source": [
    "with open(\"../../2cohorts/chr2chr1/Xtest__.pkl\", \"rb\") as f:\n",
    "                Xtest = pickle.load(f)\n",
    "with open(\"../../2cohorts/chr2chr1/Xall.pkl\", \"rb\") as f:\n",
    "                Xall = pickle.load(f)\n",
    "with open(\"../../2cohorts/chr2chr1/Ctest__.pkl\", \"rb\") as f:\n",
    "                adata1_c = pickle.load(f)\n",
    "with open(\"../../2cohorts/chr2chr1/Call__.pkl\", \"rb\") as f:\n",
    "                adata_c = pickle.load(f)\n",
    "                "
   ]
  },
  {
   "cell_type": "markdown",
   "id": "89015e41",
   "metadata": {},
   "source": [
    "## Load marker genes obtanined using seurat code"
   ]
  },
  {
   "cell_type": "code",
   "execution_count": 3,
   "id": "acc8f7aa",
   "metadata": {},
   "outputs": [],
   "source": [
    "df= pd.read_csv('../scripts/marker_cohort2')\n",
    "df[\"avg_log2FC\"] = np.abs(df[\"avg_log2FC\"])\n",
    "feat_tab = df.groupby('cluster')\n",
    "df2= feat_tab.apply(lambda x: x.sort_values([\"avg_log2FC\"], ascending=False)).reset_index(drop=True)\n",
    "feat=df2.groupby('cluster').head(50)        "
   ]
  },
  {
   "cell_type": "code",
   "execution_count": 4,
   "id": "ee567efb",
   "metadata": {},
   "outputs": [],
   "source": [
    "markers=feat.gene.values"
   ]
  },
  {
   "cell_type": "markdown",
   "id": "8d1fd37d",
   "metadata": {},
   "source": [
    "### Markers from the published paper"
   ]
  },
  {
   "cell_type": "code",
   "execution_count": 5,
   "id": "952f372c",
   "metadata": {},
   "outputs": [],
   "source": [
    "# markers = ['HLA-DRA','HLA-DRB1','LYZ','CST3','TYROBP','AP1S2','CSTA','FCN1','MS4A6A','LST1','CYBB','CTSS','DUSP6','IL1B','SGK1','KLF4','CLEC7A','ATP2B1-AS1','MARCKS',\n",
    "# 'SAT1','MYADM','IFI27','IFITM3','ISG15','APOBEC3A','IFI6','TNFSF10','MT2A','MX1','IFIT3','MNDA','S100A12','S100A9','S100A8','MAFB','VCAN','PLBD1','CXCL8',\n",
    "# 'RNASE2','FCGR3A','MS4A7','CDKN1C','AIF1','COTL1','FCER1G','C1QA','RHOC','FCGR3B','IFITM2','NAMPT','G0S2','PROK2','CMTM2',\n",
    "# 'BASP1','BCL2A1','SLC25A37','DEFA3','LTF','LCN2','CAMP','RETN','DEFA4','CD24','PGLYRP1','OLFM4']"
   ]
  },
  {
   "cell_type": "code",
   "execution_count": 6,
   "id": "3e83a9c2",
   "metadata": {},
   "outputs": [
    {
     "data": {
      "text/plain": [
       "446"
      ]
     },
     "execution_count": 6,
     "metadata": {},
     "output_type": "execute_result"
    }
   ],
   "source": [
    "idx_te= np.where(adata1_c.isin (markers))[0]\n",
    "idx_tr= np.where(adata_c.isin (adata1_c[idx_te]))[0]\n",
    "len(idx_tr)"
   ]
  },
  {
   "cell_type": "markdown",
   "id": "2e3cbb2f",
   "metadata": {},
   "source": [
    "# Input formating for the prediction "
   ]
  },
  {
   "cell_type": "code",
   "execution_count": 7,
   "id": "ef41644e",
   "metadata": {},
   "outputs": [
    {
     "name": "stdout",
     "output_type": "stream",
     "text": [
      "25\n",
      "18\n",
      "6\n",
      "\n",
      "25\n",
      "18\n",
      "6\n",
      "\n",
      "(32767, 446)\n",
      "(5932, 446)\n"
     ]
    }
   ],
   "source": [
    "gm = collections.defaultdict(list)\n",
    "count_train = collections.defaultdict(int)\n",
    "count_test = collections.defaultdict(int)\n",
    "count_train_s = []\n",
    "count_test_s = []\n",
    "\n",
    "for XX in Xall:\n",
    "    random.shuffle(XX)\n",
    "    Xtrain = list(map(lambda x: (x[0].todense(), *x[1:]), XX))\n",
    "    Xtrain = list(map(lambda x: (x[0][:,idx_tr], *x[1:]), Xtrain))\n",
    "    print(len(Xtrain))\n",
    "    nb = int(len(Xtrain)*0.75)\n",
    "    print(nb)\n",
    "    nb_ = int(len(Xtrain)*0.25)\n",
    "    print(nb_)\n",
    "    print()\n",
    "    for i in range(nb+1):\n",
    "        X, y, *_ = Xtrain[i]\n",
    "        gm['train'].append(X)\n",
    "        count_train[y] += 1\n",
    "        count_train_s.append(X.shape[0])\n",
    "    for i in range(nb_):\n",
    "        X, y, *_ = Xtrain[nb+1+i]\n",
    "        gm['test'].append(X)\n",
    "        count_test[y] += 1   \n",
    "        count_test_s.append(X.shape[0])\n",
    "for state in gm:\n",
    "        gm[state] = np.concatenate(gm[state])\n",
    "        print(gm[state].shape)"
   ]
  },
  {
   "cell_type": "code",
   "execution_count": 22,
   "id": "6d0ad530",
   "metadata": {},
   "outputs": [
    {
     "data": {
      "text/plain": [
       "38699"
      ]
     },
     "execution_count": 22,
     "metadata": {},
     "output_type": "execute_result"
    }
   ],
   "source": [
    "32767+5932"
   ]
  },
  {
   "cell_type": "markdown",
   "id": "61f7a6f5",
   "metadata": {},
   "source": [
    "# RandomForestClassifier"
   ]
  },
  {
   "cell_type": "code",
   "execution_count": 9,
   "id": "7b56741b",
   "metadata": {},
   "outputs": [
    {
     "name": "stdout",
     "output_type": "stream",
     "text": [
      "Best: 0.801132 using {'class_weight': 'balanced', 'n_estimators': 200}\n"
     ]
    }
   ],
   "source": [
    "n_estimators = [20, 50, 70, 100, 200]\n",
    "class_weight = ['balanced', None]\n",
    "hyperparam_grid = dict(n_estimators = n_estimators, class_weight= class_weight)\n",
    "brf = RandomForestClassifier(random_state=42)\n",
    "clf = sks.GridSearchCV(brf,hyperparam_grid,scoring='f1',cv=5, n_jobs=-1, refit=True)\n",
    "a= np.zeros(sum(count_train_s[:count_train[0]]))\n",
    "y_train=np.append(a,np.ones(sum(count_train_s[count_train[0]:])) )\n",
    "grid_result = clf.fit(gm['train'], y_train)\n",
    "print(\"Best: %f using %s\" % (grid_result.best_score_, grid_result.best_params_))\n"
   ]
  },
  {
   "cell_type": "markdown",
   "id": "aae9101b",
   "metadata": {},
   "source": [
    "### prediction on 25% of cohort2"
   ]
  },
  {
   "cell_type": "code",
   "execution_count": 10,
   "id": "3ebf45af",
   "metadata": {},
   "outputs": [],
   "source": [
    "pred=clf.predict_proba(gm['test'])\n",
    "a= np.zeros(sum(count_test_s[:count_test[0]]))\n",
    "y_true=np.append(a,np.ones(sum(count_test_s[count_test[0]:])) )"
   ]
  },
  {
   "cell_type": "markdown",
   "id": "5746ccae",
   "metadata": {},
   "source": [
    "### Extract prediction at sample level"
   ]
  },
  {
   "cell_type": "code",
   "execution_count": 11,
   "id": "05908790",
   "metadata": {},
   "outputs": [],
   "source": [
    "pred_agg=[]\n",
    "y_t=[]\n",
    "a= np.zeros(sum(count_test_s[:count_test[0]]))\n",
    "for ii in range(len(count_test_s)):\n",
    "    if ii ==0:\n",
    "        pred_agg.append(np.mean(pred[:count_test_s[ii]]))\n",
    "        y_t.append(np.mean(y_true[:count_test_s[ii]]))\n",
    "\n",
    "    else:\n",
    "        iiii=ii-1\n",
    "        iii = sum(count_test_s[:ii])\n",
    "        pred_agg.append(np.mean(pred[iii:iii+count_test_s[ii]]))\n",
    "        y_t.append(np.mean(y_true[iii:iii+count_test_s[ii]]))\n"
   ]
  },
  {
   "cell_type": "markdown",
   "id": "f58bbc9a",
   "metadata": {},
   "source": [
    "### AUC"
   ]
  },
  {
   "cell_type": "code",
   "execution_count": 12,
   "id": "1b015223",
   "metadata": {},
   "outputs": [
    {
     "data": {
      "image/png": "[encoded data removed]",
      "text/plain": [
       "<Figure size 432x288 with 1 Axes>"
      ]
     },
     "metadata": {
      "needs_background": "light"
     },
     "output_type": "display_data"
    }
   ],
   "source": [
    "    classes_=[0,1]\n",
    "    fpr, tpr, _ = skm.roc_curve(y_t,  pred_agg)\n",
    "    auc = skm.roc_auc_score(y_t,  pred_agg)\n",
    "\n",
    "    #create ROC curve\n",
    "    plt.plot(fpr,tpr,label=\"AUC=\"+str(auc))\n",
    "    plt.ylabel('True Positive Rate')\n",
    "    plt.xlabel('False Positive Rate')\n",
    "    plt.legend(loc=4)\n",
    "    plt.show()"
   ]
  },
  {
   "cell_type": "markdown",
   "id": "25d0a4dc",
   "metadata": {},
   "source": [
    "# Test on Cohort1"
   ]
  },
  {
   "cell_type": "code",
   "execution_count": 13,
   "id": "cf67ec58",
   "metadata": {},
   "outputs": [],
   "source": [
    "# idx_te= np.where(adata1_c.isin (markers))[0]\n",
    "# len(idx_te)"
   ]
  },
  {
   "cell_type": "code",
   "execution_count": 14,
   "id": "2f2abac7",
   "metadata": {},
   "outputs": [
    {
     "name": "stdout",
     "output_type": "stream",
     "text": [
      "27\n",
      "(11703, 446)\n"
     ]
    }
   ],
   "source": [
    "XX = list(map(lambda x: (x[0].todense(), *x[1:]), Xtest))\n",
    "gm2 = collections.defaultdict(list)\n",
    "count_test2 = collections.defaultdict(int)\n",
    "count_test2_s = []\n",
    "Xtest_ = list(map(lambda x: (x[0][:,idx_te], *x[1:]), XX))\n",
    "print(len(Xtest_))\n",
    "for X, y, *_ in Xtest_:\n",
    "        gm2['test'].append(X)\n",
    "        count_test2[y] += 1   \n",
    "        count_test2_s.append(X.shape[0])\n",
    "for state in gm2:\n",
    "        gm2[state] = np.concatenate(gm2[state])\n",
    "        print(gm2[state].shape)"
   ]
  },
  {
   "cell_type": "code",
   "execution_count": 19,
   "id": "69a0cab5",
   "metadata": {},
   "outputs": [],
   "source": [
    "pred2=clf.predict_proba(gm2['test'])\n",
    "a= np.zeros(sum(count_test2_s[:count_test2[0]]))\n",
    "y_true2=np.append(a,np.ones(sum(count_test2_s[count_test2[0]:])) )\n"
   ]
  },
  {
   "cell_type": "code",
   "execution_count": 20,
   "id": "1a979baf",
   "metadata": {},
   "outputs": [],
   "source": [
    "pred_agg2=[]\n",
    "y_t2=[]\n",
    "for ii in range(len(count_test2_s)):\n",
    "    if ii ==0:\n",
    "        pred_agg2.append(np.mean(pred2[:count_test2_s[ii]]))\n",
    "        y_t2.append(np.mean(y_true2[:count_test2_s[ii]]))\n",
    "\n",
    "    else:\n",
    "        iiii=ii-1\n",
    "        iii = sum(count_test2_s[:ii])\n",
    "        pred_agg2.append(np.mean(pred2[iii:iii+count_test2_s[ii]]))\n",
    "        y_t2.append(np.mean(y_true2[iii:iii+count_test2_s[ii]]))\n"
   ]
  },
  {
   "cell_type": "code",
   "execution_count": 21,
   "id": "ab259b5b",
   "metadata": {},
   "outputs": [
    {
     "data": {
      "image/png": "[encoded data removed]",
      "text/plain": [
       "<Figure size 432x288 with 1 Axes>"
      ]
     },
     "metadata": {
      "needs_background": "light"
     },
     "output_type": "display_data"
    }
   ],
   "source": [
    "    classes_=[0,1]\n",
    "    fpr, tpr, _ = skm.roc_curve(y_t2,  pred_agg2)\n",
    "    auc = skm.roc_auc_score(y_t2,  pred_agg2)\n",
    "\n",
    "    #create ROC curve\n",
    "    plt.plot(fpr,tpr,label=\"AUC=\"+str(auc))\n",
    "    plt.ylabel('True Positive Rate')\n",
    "    plt.xlabel('False Positive Rate')\n",
    "    plt.legend(loc=4)\n",
    "    plt.show()"
   ]
  },
  {
   "cell_type": "code",
   "execution_count": null,
   "id": "0169e1e2",
   "metadata": {},
   "outputs": [],
   "source": [
    "            df= pd.read_csv('../scripts/marker_cohort2')\n",
    "            df[\"avg_log2FC\"] = np.abs(df[\"avg_log2FC\"])\n",
    "            df = df.loc[df[\"cluster\"].isin([7,11,3,4,6]),:]"
   ]
  },
  {
   "cell_type": "code",
   "execution_count": null,
   "id": "7a0193c6",
   "metadata": {},
   "outputs": [],
   "source": [
    "df"
   ]
  },
  {
   "cell_type": "code",
   "execution_count": null,
   "id": "e34a4a89",
   "metadata": {},
   "outputs": [],
   "source": []
  },
  {
   "cell_type": "code",
   "execution_count": null,
   "id": "0cccf063",
   "metadata": {},
   "outputs": [],
   "source": []
  }
 ],
 "metadata": {
  "kernelspec": {
   "display_name": "base",
   "language": "python",
   "name": "base"
  },
  "language_info": {
   "codemirror_mode": {
    "name": "ipython",
    "version": 3
   },
   "file_extension": ".py",
   "mimetype": "text/x-python",
   "name": "python",
   "nbconvert_exporter": "python",
   "pygments_lexer": "ipython3",
   "version": "3.9.4"
  }
 },
 "nbformat": 4,
 "nbformat_minor": 5
}
