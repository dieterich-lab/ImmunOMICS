{
 "cells": [
  {
   "cell_type": "markdown",
   "id": "bbbcb50e",
   "metadata": {},
   "source": [
    "#Prediction based on Linear SVM with average at sample level"
   ]
  },
  {
   "cell_type": "code",
   "execution_count": 89,
   "id": "dbcadad3",
   "metadata": {},
   "outputs": [],
   "source": [
    "import pickle\n",
    "import scipy\n",
    "import scipy.io\n",
    "import os\n",
    "import numpy as np\n",
    "import scanpy as sc\n",
    "from sklearn.preprocessing import LabelEncoder\n",
    "import pandas as pd\n",
    "import scanpy as sc\n",
    "import sklearn.model_selection as sks\n",
    "import numpy as np\n",
    "import pandas as pd\n",
    "from sklearn import svm\n",
    "import warnings\n",
    "warnings.filterwarnings(\"ignore\")\n",
    "import matplotlib.pyplot as plt\n",
    "from matplotlib.pyplot import rc_context\n",
    "import sklearn.metrics as skm\n",
    "from itertools import cycle\n",
    "from sklearn.ensemble import RandomForestClassifier\n",
    "import matplotlib.gridspec as gridspec\n",
    "import matplotlib.colors as clr\n",
    "from matplotlib.ticker import MaxNLocator\n",
    "import random\n",
    "import collections\n"
   ]
  },
  {
   "cell_type": "markdown",
   "id": "c2536355",
   "metadata": {},
   "source": [
    "We use cohort 2 as a training set and cohort1 as test set and we use top marker genes as features "
   ]
  },
  {
   "cell_type": "markdown",
   "id": "5b984f27",
   "metadata": {},
   "source": [
    "# Load cohort1 and cohort2"
   ]
  },
  {
   "cell_type": "code",
   "execution_count": 90,
   "id": "0702d46a",
   "metadata": {},
   "outputs": [],
   "source": [
    "with open(\"../../2cohorts/chr2chr1/Xtest__.pkl\", \"rb\") as f:\n",
    "                Xtest = pickle.load(f)\n",
    "with open(\"../../2cohorts/chr2chr1/Xall.pkl\", \"rb\") as f:\n",
    "                Xall = pickle.load(f)\n",
    "with open(\"../../2cohorts/chr2chr1/Ctest__.pkl\", \"rb\") as f:\n",
    "                adata1_c = pickle.load(f)\n",
    "with open(\"../../2cohorts/chr2chr1/Call__.pkl\", \"rb\") as f:\n",
    "                adata_c = pickle.load(f)\n",
    "                "
   ]
  },
  {
   "cell_type": "markdown",
   "id": "9cfde0f8",
   "metadata": {},
   "source": [
    "## Load marker genes obtanined using seurat code"
   ]
  },
  {
   "cell_type": "code",
   "execution_count": 135,
   "id": "acc8f7aa",
   "metadata": {},
   "outputs": [],
   "source": [
    "df= pd.read_csv('../scripts/marker_cohort2')\n",
    "df[\"avg_log2FC\"] = np.abs(df[\"avg_log2FC\"])\n",
    "feat_tab = df.groupby('cluster')\n",
    "df2= feat_tab.apply(lambda x: x.sort_values([\"avg_log2FC\"], ascending=False)).reset_index(drop=True)\n",
    "feat=df2.groupby('cluster').head(20)     "
   ]
  },
  {
   "cell_type": "code",
   "execution_count": 136,
   "id": "ee567efb",
   "metadata": {},
   "outputs": [],
   "source": [
    "markers=feat.gene.values"
   ]
  },
  {
   "cell_type": "code",
   "execution_count": 137,
   "id": "22af6d99",
   "metadata": {},
   "outputs": [
    {
     "data": {
      "text/plain": [
       "array(['IL7R', 'TCF7', 'LTB', 'MAL', 'LEF1', 'RCAN3', 'TRAC', 'LDHB',\n",
       "       'TRBC2', 'CCR7', 'CD3E', 'AC245427.1', 'RPS12', 'DGKA', 'PIM2',\n",
       "       'BCL11B', 'TRABD2A', 'PCED1B-AS1', 'ETS1', 'AQP3', 'MAFB', 'RGCC',\n",
       "       'C5AR1', 'CXCL8', 'DUSP6', 'PLAUR', 'CD14', 'FCN1', 'LYZ',\n",
       "       'S100A9', 'VCAN', 'IL1B', 'G0S2', 'SGK1', 'KLF4', 'FOS', 'PSAP',\n",
       "       'CLEC7A', 'FTH1', 'PLBD1', 'CCL5', 'CD8A', 'GZMH', 'NKG7', 'TRGC2',\n",
       "       'GZMA', 'IL32', 'CST7', 'DUSP2', 'CD8B', 'CD3G', 'GZMK', 'FGFBP2',\n",
       "       'KLRG1', 'CD2', 'RUNX3', 'TRAC', 'CD3D', 'CD3E', 'ARL4C', 'GNLY',\n",
       "       'PRF1', 'FGFBP2', 'SPON2', 'NKG7', 'GZMB', 'IL2RB', 'KLRF1',\n",
       "       'CTSW', 'KLRD1', 'CST7', 'GZMA', 'CCL4', 'CCL5', 'RUNX3', 'SH2D1B',\n",
       "       'KLRB1', 'CD7', 'CX3CR1', 'FCGR3A', 'IFI27', 'IFI6', 'IFITM3',\n",
       "       'CLU', 'RNASE2', 'CD163', 'FCER1G', 'ISG15', 'SIGLEC1', 'APOBEC3A',\n",
       "       'MS4A4A', 'S100A9', 'FTL', 'PLBD1', 'SPI1', 'PSAP', 'MX1', 'CTSB',\n",
       "       'SELL', 'CCR1', 'MS4A1', 'CD79A', 'IGHM', 'IGHD', 'BANK1', 'CD22',\n",
       "       'RALGPS2', 'PAX5', 'FAM129C', 'CD74', 'HLA-DQB1', 'FCRL1',\n",
       "       'LINC00926', 'AFF3', 'HLA-DQA1', 'CD83', 'MEF2C', 'BACH2',\n",
       "       'HLA-DRA', 'BIRC3', 'LYZ', 'FGL2', 'MS4A6A', 'CTSS', 'AP1S2',\n",
       "       'MPEG1', 'CPVL', 'CST3', 'MNDA', 'TNFAIP2', 'HLA-DRA', 'HLA-DRB5',\n",
       "       'HLA-DRB1', 'CD302', 'FCN1', 'KCTD12', 'AIF1', 'CYBB', 'EGR1',\n",
       "       'TGFBI', 'IGHGP', 'FOSB', 'PLAUR', 'NAMPT', 'VCAN', 'IGKC', 'CD14',\n",
       "       'FCN1', 'CXCL8', 'S100A12', 'S100A9', 'C5AR1', 'LYZ', 'CST3',\n",
       "       'DOCK8', 'S100A8', 'USP15', 'LRRFIP1', 'TYROBP', 'FOS', 'FCGR3B',\n",
       "       'CSF3R', 'CXCR2', 'IFITM2', 'BASP1', 'SLC25A37', 'IL1R2', 'G0S2',\n",
       "       'CD177', 'NAMPT', 'PROK2', 'SOD2', 'GCA', 'ALPL', 'MME', 'KCNJ15',\n",
       "       'CXCR1', 'LIMK2', 'VNN2', 'FAM129A', 'CD247', 'TSHZ2', 'PDE3B',\n",
       "       'ARHGAP15', 'SKAP1', 'LINC-PINT', 'ZBTB20', 'MAML2', 'PRKCH',\n",
       "       'ANK3', 'SMYD3', 'INPP4B', 'FHIT', 'LINC01619', 'KLF12',\n",
       "       'RABGAP1L', 'PRKCA', 'DOCK10', 'LRBA', 'BTBD9', 'CDKN1C', 'FCGR3A',\n",
       "       'MS4A7', 'LST1', 'TCF7L2', 'CSF1R', 'AIF1', 'COTL1', 'SMIM25',\n",
       "       'PECAM1', 'LILRB2', 'SIGLEC10', 'HLA-DPA1', 'WARS', 'HMOX1',\n",
       "       'LRRC25', 'NR4A1', 'LYN', 'CUX1', 'CST3', 'IGKC', 'JCHAIN',\n",
       "       'IGHA1', 'IGHG1', 'IGLC2', 'IGHGP', 'IGLC3', 'IGHG3', 'IGHA2',\n",
       "       'IGHG2', 'IGHM', 'IGHG4', 'MZB1', 'HSP90B1', 'AC244205.1', 'ITM2C',\n",
       "       'SEC11C', 'IGLL5', 'POU2AF1', 'ENAM', 'STMN1', 'TUBA1B', 'TUBB',\n",
       "       'TYMS', 'HMGB2', 'MKI67', 'PCNA', 'DUT', 'HIST1H4C', 'TOP2A',\n",
       "       'GZMA', 'MCM4', 'SMC4', 'H2AFZ', 'GZMB', 'NUSAP1', 'RRM2', 'NASP',\n",
       "       'GNLY', 'CENPF', 'LTF', 'DEFA3', 'LCN2', 'CAMP', 'BPI', 'DEFA4',\n",
       "       'PGLYRP1', 'CEACAM8', 'MMP8', 'AZU1', 'CRISP3', 'CD24', 'MPO',\n",
       "       'TCN1', 'RETN', 'S100A8', 'CHI3L1', 'ELANE', 'RNASE3', 'ANXA3',\n",
       "       'PF4', 'PPBP', 'NRGN', 'TUBB1', 'AC068234.1', 'MPIG6B', 'CAVIN2',\n",
       "       'SPARC', 'ITGA2B', 'HIST1H2AC', 'PRKAR2B', 'RUFY1', 'F13A1',\n",
       "       'RGS18', 'MYL9', 'MTURN', 'VCL', 'TREML1', 'MMD', 'TRIM58', 'HBB',\n",
       "       'HBA2', 'HBA1', 'HBD', 'CA1', 'SLC25A37', 'SNCA', 'ALAS2',\n",
       "       'TRIM58', 'SLC25A39', 'SLC4A1', 'DMTN', 'ADIPOR1', 'AHSP', 'HBM',\n",
       "       'FAM210B', 'MXI1', 'PIM1', 'IFI27', 'FECH', 'FCER1A', 'HLA-DQA1',\n",
       "       'HLA-DPA1', 'CD1C', 'HLA-DRA', 'HLA-DPB1', 'HLA-DRB1', 'CD74',\n",
       "       'HLA-DQB1', 'HLA-DRB5', 'CST3', 'CLEC10A', 'NAPSB', 'AREG',\n",
       "       'HLA-DMB', 'HLA-DMA', 'SAMHD1', 'CPVL', 'PEA15', 'HLA-DOA',\n",
       "       'MS4A1', 'CD79A', 'IGHM', 'IGHD', 'BANK1', 'CD22', 'PAX5', 'CD74',\n",
       "       'FAM129C', 'RALGPS2', 'HLA-DQB1', 'HLA-DRA', 'FCRL1', 'HLA-DQA1',\n",
       "       'HLA-DPB1', 'CXCR4', 'LINC00926', 'ADAM28', 'PLPP5', 'BLK', 'IRF8',\n",
       "       'ITM2C', 'TCF4', 'PLD4', 'CCDC50', 'SERPINF1', 'C1orf186', 'UGCG',\n",
       "       'APP', 'LILRA4', 'IRF7', 'GZMB', 'NAPSB', 'SMPD3', 'BCL11A',\n",
       "       'SOX4', 'TSPAN13', 'IRF4', 'PTGDS', 'FAM129C', 'CDK6', 'SOX4',\n",
       "       'LRRC75A-AS1', 'CD34', 'MYB', 'MTURN', 'LAPTM4B', 'SPINK2',\n",
       "       'GATA2', 'SMIM24', 'GAS5', 'NREP', 'STMN1', 'ZFAS1', 'FAM117A',\n",
       "       'LMO4', 'HSP90AB1', 'ITM2C', 'NRIP1', 'H1F0', 'CLC', 'FCER1A',\n",
       "       'CSF2RB', 'GATA2', 'HDC', 'MS4A3', 'MS4A2', 'AKAP12', 'CPA3',\n",
       "       'CCR3', 'GCSAML', 'ATP10D', 'AREG', 'TMEM164', 'SLC45A3', 'RFLNB',\n",
       "       'PDLIM5', 'BHLHE40', 'SCCPDH', 'RUNX1'], dtype=object)"
      ]
     },
     "execution_count": 137,
     "metadata": {},
     "output_type": "execute_result"
    }
   ],
   "source": [
    "markers"
   ]
  },
  {
   "cell_type": "markdown",
   "id": "2a970e1e",
   "metadata": {},
   "source": [
    "### Markers from the published paper"
   ]
  },
  {
   "cell_type": "code",
   "execution_count": 138,
   "id": "952f372c",
   "metadata": {},
   "outputs": [],
   "source": [
    "# markers = ['HLA-DRA','HLA-DRB1','LYZ','CST3','TYROBP','AP1S2','CSTA','FCN1','MS4A6A','LST1','CYBB','CTSS','DUSP6','IL1B','SGK1','KLF4','CLEC7A','ATP2B1-AS1','MARCKS',\n",
    "# 'SAT1','MYADM','IFI27','IFITM3','ISG15','APOBEC3A','IFI6','TNFSF10','MT2A','MX1','IFIT3','MNDA','S100A12','S100A9','S100A8','MAFB','VCAN','PLBD1','CXCL8',\n",
    "# 'RNASE2','FCGR3A','MS4A7','CDKN1C','AIF1','COTL1','FCER1G','C1QA','RHOC','FCGR3B','IFITM2','NAMPT','G0S2','PROK2','CMTM2',\n",
    "# 'BASP1','BCL2A1','SLC25A37','DEFA3','LTF','LCN2','CAMP','RETN','DEFA4','CD24','PGLYRP1','OLFM4']"
   ]
  },
  {
   "cell_type": "code",
   "execution_count": 139,
   "id": "3e83a9c2",
   "metadata": {},
   "outputs": [
    {
     "data": {
      "text/plain": [
       "255"
      ]
     },
     "execution_count": 139,
     "metadata": {},
     "output_type": "execute_result"
    }
   ],
   "source": [
    "idx_te= np.where(adata1_c.isin (markers))[0]\n",
    "idx_tr= np.where(adata_c.isin (adata1_c[idx_te]))[0]\n",
    "len(idx_tr)"
   ]
  },
  {
   "cell_type": "markdown",
   "id": "eededa36",
   "metadata": {},
   "source": [
    "# Input formating for the prediction "
   ]
  },
  {
   "cell_type": "code",
   "execution_count": 162,
   "id": "ef41644e",
   "metadata": {},
   "outputs": [
    {
     "name": "stdout",
     "output_type": "stream",
     "text": [
      "25\n",
      "18\n",
      "6\n",
      "\n",
      "25\n",
      "18\n",
      "6\n",
      "\n",
      "(29120, 255)\n",
      "(9579, 255)\n"
     ]
    }
   ],
   "source": [
    "gm = collections.defaultdict(list)\n",
    "count_train = collections.defaultdict(int)\n",
    "count_test = collections.defaultdict(int)\n",
    "count_train_s = []\n",
    "count_test_s = []\n",
    "\n",
    "for XX in Xall:\n",
    "    random.shuffle(XX)\n",
    "    Xtrain = list(map(lambda x: (x[0].todense(), *x[1:]), XX))\n",
    "    Xtrain = list(map(lambda x: (x[0][:,idx_tr], *x[1:]), Xtrain))\n",
    "    print(len(Xtrain))\n",
    "    nb = int(len(Xtrain)*0.75)\n",
    "    print(nb)\n",
    "    nb_ = int(len(Xtrain)*0.25)\n",
    "    print(nb_)\n",
    "    print()\n",
    "    for i in range(nb+1):\n",
    "        X, y, *_ = Xtrain[i]\n",
    "        gm['train'].append(X)\n",
    "        count_train[y] += 1\n",
    "        count_train_s.append(X.shape[0])\n",
    "    for i in range(nb_):\n",
    "        X, y, *_ = Xtrain[nb+1+i]\n",
    "        gm['test'].append(X)\n",
    "        count_test[y] += 1   \n",
    "        count_test_s.append(X.shape[0])\n",
    "for state in gm:\n",
    "        gm[state] = np.concatenate(gm[state])\n",
    "        print(gm[state].shape)"
   ]
  },
  {
   "cell_type": "code",
   "execution_count": 163,
   "id": "1d480d11",
   "metadata": {},
   "outputs": [
    {
     "data": {
      "text/plain": [
       "38699"
      ]
     },
     "execution_count": 163,
     "metadata": {},
     "output_type": "execute_result"
    }
   ],
   "source": [
    "29120+9579"
   ]
  },
  {
   "cell_type": "markdown",
   "id": "baaa34dc",
   "metadata": {},
   "source": [
    "# SVM"
   ]
  },
  {
   "cell_type": "code",
   "execution_count": null,
   "id": "7b56741b",
   "metadata": {},
   "outputs": [],
   "source": [
    "# c_values = [1.0,  2.0]\n",
    "# class_weight = ['balanced']\n",
    "# loss = ['hinge']\n",
    "# hyperparam_grid = dict(C=c_values,loss= loss, class_weight= class_weight)\n",
    "# s = svm.LinearSVC(random_state=42)\n",
    "c_values = [1.0,  2.0]\n",
    "kernel_values = [ 'linear' , 'rbf' ]\n",
    "class_weight = [ None]\n",
    "hyperparam_grid = dict(C=c_values, kernel=kernel_values, class_weight= class_weight)\n",
    "s = svm.SVC(random_state=42,  probability=True)\n",
    "clf = sks.GridSearchCV(s,hyperparam_grid,scoring='f1',cv=5, refit=True)\n",
    "a= np.zeros(sum(count_train_s[:count_train[0]]))\n",
    "y_train=np.append(a,np.ones(sum(count_train_s[count_train[0]:])) )\n",
    "grid_result = clf.fit(gm['train'], y_train)\n",
    "print(\"Best: %f using %s\" % (grid_result.best_score_, grid_result.best_params_))\n"
   ]
  },
  {
   "cell_type": "markdown",
   "id": "3e71b7de",
   "metadata": {},
   "source": [
    "### prediction on 25% of cohort2"
   ]
  },
  {
   "cell_type": "code",
   "execution_count": 165,
   "id": "3ebf45af",
   "metadata": {},
   "outputs": [],
   "source": [
    "pred=clf.decision_function(gm['test'])\n",
    "a= np.zeros(sum(count_test_s[:count_test[0]]))\n",
    "y_true=np.append(a,np.ones(sum(count_test_s[count_test[0]:])) )"
   ]
  },
  {
   "cell_type": "markdown",
   "id": "fbce88e2",
   "metadata": {},
   "source": [
    "### Extract prediction at sample level"
   ]
  },
  {
   "cell_type": "code",
   "execution_count": 166,
   "id": "05908790",
   "metadata": {},
   "outputs": [],
   "source": [
    "pred_agg=[]\n",
    "y_t=[]\n",
    "a= np.zeros(sum(count_test_s[:count_test[0]]))\n",
    "for ii in range(len(count_test_s)):\n",
    "    if ii ==0:\n",
    "        pred_agg.append(np.mean(pred[:count_test_s[ii]]))\n",
    "        y_t.append(np.mean(y_true[:count_test_s[ii]]))\n",
    "\n",
    "    else:\n",
    "        iiii=ii-1\n",
    "        iii = sum(count_test_s[:ii])\n",
    "        pred_agg.append(np.mean(pred[iii:iii+count_test_s[ii]]))\n",
    "        y_t.append(np.mean(y_true[iii:iii+count_test_s[ii]]))\n"
   ]
  },
  {
   "cell_type": "markdown",
   "id": "38ab8093",
   "metadata": {},
   "source": [
    "### AUC"
   ]
  },
  {
   "cell_type": "code",
   "execution_count": 167,
   "id": "1b015223",
   "metadata": {},
   "outputs": [
    {
     "data": {
      "image/png": "[encoded data removed]",
      "text/plain": [
       "<Figure size 432x288 with 1 Axes>"
      ]
     },
     "metadata": {
      "needs_background": "light"
     },
     "output_type": "display_data"
    }
   ],
   "source": [
    "    classes_=[0,1]\n",
    "    fpr, tpr, _ = skm.roc_curve(y_t,  pred_agg)\n",
    "    auc = skm.roc_auc_score(y_t,  pred_agg)\n",
    "\n",
    "    #create ROC curve\n",
    "    plt.plot(fpr,tpr,label=\"AUC=\"+str(auc))\n",
    "    plt.ylabel('True Positive Rate')\n",
    "    plt.xlabel('False Positive Rate')\n",
    "    plt.legend(loc=4)\n",
    "    plt.show()\n",
    "    print(auc)"
   ]
  },
  {
   "cell_type": "markdown",
   "id": "7a40ba26",
   "metadata": {},
   "source": [
    "# Test on Cohort1"
   ]
  },
  {
   "cell_type": "code",
   "execution_count": 168,
   "id": "2f2abac7",
   "metadata": {},
   "outputs": [
    {
     "name": "stdout",
     "output_type": "stream",
     "text": [
      "27\n",
      "(11703, 255)\n"
     ]
    }
   ],
   "source": [
    "XX = list(map(lambda x: (x[0].todense(), *x[1:]), Xtest))\n",
    "gm2 = collections.defaultdict(list)\n",
    "count_test2 = collections.defaultdict(int)\n",
    "count_test2_s = []\n",
    "Xtest_ = list(map(lambda x: (x[0][:,idx_te], *x[1:]), XX))\n",
    "print(len(Xtest_))\n",
    "for X, y, *_ in Xtest_:\n",
    "        gm2['test'].append(X)\n",
    "        count_test2[y] += 1   \n",
    "        count_test2_s.append(X.shape[0])\n",
    "for state in gm2:\n",
    "        gm2[state] = np.concatenate(gm2[state])\n",
    "        print(gm2[state].shape)"
   ]
  },
  {
   "cell_type": "code",
   "execution_count": 169,
   "id": "69a0cab5",
   "metadata": {},
   "outputs": [],
   "source": [
    "pred2=clf.decision_function(gm2['test'])\n",
    "a= np.zeros(sum(count_test2_s[:count_test2[0]]))\n",
    "y_true2=np.append(a,np.ones(sum(count_test2_s[count_test2[0]:])) )\n"
   ]
  },
  {
   "cell_type": "code",
   "execution_count": 170,
   "id": "1a979baf",
   "metadata": {},
   "outputs": [],
   "source": [
    "pred_agg2=[]\n",
    "y_t2=[]\n",
    "for ii in range(len(count_test2_s)):\n",
    "    if ii ==0:\n",
    "        pred_agg2.append(np.mean(pred2[:count_test2_s[ii]]))\n",
    "        y_t2.append(np.mean(y_true2[:count_test2_s[ii]]))\n",
    "    else:\n",
    "        iiii=ii-1\n",
    "        iii = sum(count_test2_s[:ii])\n",
    "        pred_agg2.append(np.mean(pred2[iii:iii+count_test2_s[ii]]))\n",
    "        y_t2.append(np.mean(y_true2[iii:iii+count_test2_s[ii]]))\n"
   ]
  },
  {
   "cell_type": "code",
   "execution_count": 171,
   "id": "ab259b5b",
   "metadata": {},
   "outputs": [
    {
     "data": {
      "image/png": "[encoded data removed]",
      "text/plain": [
       "<Figure size 432x288 with 1 Axes>"
      ]
     },
     "metadata": {
      "needs_background": "light"
     },
     "output_type": "display_data"
    }
   ],
   "source": [
    "    classes_=[0,1]\n",
    "    fpr, tpr, _ = skm.roc_curve(y_t2,  pred_agg2)\n",
    "    auc = skm.roc_auc_score(y_t2,  pred_agg2)\n",
    "    #create ROC curve\n",
    "    plt.plot(fpr,tpr,label=\"AUC=\"+str(auc))\n",
    "    plt.ylabel('True Positive Rate')\n",
    "    plt.xlabel('False Positive Rate')\n",
    "    plt.legend(loc=4)\n",
    "    plt.show()\n",
    "    print(auc)"
   ]
  },
  {
   "cell_type": "code",
   "execution_count": null,
   "id": "faa712c2",
   "metadata": {},
   "outputs": [],
   "source": []
  }
 ],
 "metadata": {
  "kernelspec": {
   "display_name": "base",
   "language": "python",
   "name": "base"
  },
  "language_info": {
   "codemirror_mode": {
    "name": "ipython",
    "version": 3
   },
   "file_extension": ".py",
   "mimetype": "text/x-python",
   "name": "python",
   "nbconvert_exporter": "python",
   "pygments_lexer": "ipython3",
   "version": "3.9.4"
  }
 },
 "nbformat": 4,
 "nbformat_minor": 5
}
