{
 "cells": [
  {
   "cell_type": "code",
   "execution_count": 1,
   "id": "dbcadad3",
   "metadata": {},
   "outputs": [],
   "source": [
    "import pickle\n",
    "import scipy\n",
    "import scipy.io\n",
    "import os\n",
    "import numpy as np\n",
    "import scanpy as sc\n",
    "from sklearn.preprocessing import LabelEncoder\n",
    "import pandas as pd"
   ]
  },
  {
   "cell_type": "code",
   "execution_count": 2,
   "id": "9ffc36a6",
   "metadata": {},
   "outputs": [
    {
     "data": {
      "text/plain": [
       "AnnData object with n_obs × n_vars = 139848 × 33417\n",
       "    obs: 'orig.ident', 'nCount_RNA', 'nFeature_RNA', 'nCount_HTO', 'nFeature_HTO', 'percent.mito', 'meanCount_RNA', 'meanCount_HTO', 'HTO_maxID', 'HTO_secondID', 'HTO_margin', 'HTO_classification', 'HTO_classification.global', 'hash.ID', 'demultID', 'experiment', 'cartridge', 'ID', 'sample', 'abseq', 'date_of_sampling', 'donor', 'cells', 'purification', 'nCount_AB', 'nFeature_AB', 'group_4', 'group', 'diagnosis', 'onset_of_symptoms', 'outcome', 'oxygen', 'highest_WHO_classification', 'primary_complaint', 'bacterial_superinfection', 'medication', 'comorbidities', 'age', 'sex', 'days_after_onset', 'disease_stage', 'who_per_sample', 'group_per_sample', 'glucocorticoids', 'covid19_therapy', 'leukocyte_counts', 'neutrophil_counts', 'lymphocyte_counts', 'monocyte_counts', 'eosinophil_counts', 'basophil_counts', 'imm_granulocyte_counts', 'thrombocyte_counts', 'pCT', 'CRP', 'IL6', 'group_4_per_sample', 'percent.hb', 'group_per_sample_per_stage', 'group_4_per_sample_per_stage', 'hpca.labels', 'blueprint.labels', 'monaco.labels', 'immune.labels', 'dmap.labels', 'hemato.labels', 'RNA_snn_res.0.5', 'seurat_clusters', 'RNA_snn_res.0.4', 'cluster_labels_res.0.5', 'cluster_labels_res.0.4', 'new_order', 'fresh', 'Condition', 'cell.cond', 'celltype', 'celltypeL0'\n",
       "    var: 'vst.mean', 'vst.variance', 'vst.variance.expected', 'vst.variance.standardized', 'vst.variable'\n",
       "    obsm: 'X_pca', 'X_umap'\n",
       "    varm: 'PCs'"
      ]
     },
     "execution_count": 2,
     "metadata": {},
     "output_type": "execute_result"
    }
   ],
   "source": [
    "adata = sc.read_h5ad(\"../../data_/cohort2.h5ad\")\n",
    "adata"
   ]
  },
  {
   "cell_type": "code",
   "execution_count": 3,
   "id": "d469c921",
   "metadata": {},
   "outputs": [],
   "source": [
    "sc.pp.normalize_total(adata, target_sum=1e4)\n",
    "sc.pp.log1p(adata)\n",
    "# sc.pp.highly_variable_genes(adata, min_mean=0.0125, max_mean=3, min_disp=0.5)\n",
    "# sc.pl.highly_variable_genes(adata)"
   ]
  },
  {
   "cell_type": "code",
   "execution_count": 4,
   "id": "7a15bd3f",
   "metadata": {},
   "outputs": [
    {
     "data": {
      "text/plain": [
       "AnnData object with n_obs × n_vars = 139848 × 33417\n",
       "    obs: 'orig.ident', 'nCount_RNA', 'nFeature_RNA', 'nCount_HTO', 'nFeature_HTO', 'percent.mito', 'meanCount_RNA', 'meanCount_HTO', 'HTO_maxID', 'HTO_secondID', 'HTO_margin', 'HTO_classification', 'HTO_classification.global', 'hash.ID', 'demultID', 'experiment', 'cartridge', 'ID', 'sample', 'abseq', 'date_of_sampling', 'donor', 'cells', 'purification', 'nCount_AB', 'nFeature_AB', 'group_4', 'group', 'diagnosis', 'onset_of_symptoms', 'outcome', 'oxygen', 'highest_WHO_classification', 'primary_complaint', 'bacterial_superinfection', 'medication', 'comorbidities', 'age', 'sex', 'days_after_onset', 'disease_stage', 'who_per_sample', 'group_per_sample', 'glucocorticoids', 'covid19_therapy', 'leukocyte_counts', 'neutrophil_counts', 'lymphocyte_counts', 'monocyte_counts', 'eosinophil_counts', 'basophil_counts', 'imm_granulocyte_counts', 'thrombocyte_counts', 'pCT', 'CRP', 'IL6', 'group_4_per_sample', 'percent.hb', 'group_per_sample_per_stage', 'group_4_per_sample_per_stage', 'hpca.labels', 'blueprint.labels', 'monaco.labels', 'immune.labels', 'dmap.labels', 'hemato.labels', 'RNA_snn_res.0.5', 'seurat_clusters', 'RNA_snn_res.0.4', 'cluster_labels_res.0.5', 'cluster_labels_res.0.4', 'new_order', 'fresh', 'Condition', 'cell.cond', 'celltype', 'celltypeL0'\n",
       "    var: 'vst.mean', 'vst.variance', 'vst.variance.expected', 'vst.variance.standardized', 'vst.variable'\n",
       "    uns: 'log1p'\n",
       "    obsm: 'X_pca', 'X_umap'\n",
       "    varm: 'PCs'"
      ]
     },
     "execution_count": 4,
     "metadata": {},
     "output_type": "execute_result"
    }
   ],
   "source": [
    "adata"
   ]
  },
  {
   "cell_type": "code",
   "execution_count": 5,
   "id": "25a1ae5f",
   "metadata": {},
   "outputs": [
    {
     "data": {
      "text/plain": [
       "array([ 0.,  1.,  2.,  3.,  4.,  5.,  6.,  7.,  8.,  9., 10., 11., 12.,\n",
       "       13., 14., 15., 16., 17., 18., 19., 20.])"
      ]
     },
     "execution_count": 5,
     "metadata": {},
     "output_type": "execute_result"
    }
   ],
   "source": [
    "np.unique(adata.obs['new_order'])"
   ]
  },
  {
   "cell_type": "code",
   "execution_count": 6,
   "id": "ba207ded",
   "metadata": {},
   "outputs": [],
   "source": [
    "adata_raw = adata\n",
    "# adata = adata[:, adata.var.highly_variable]"
   ]
  },
  {
   "cell_type": "code",
   "execution_count": 7,
   "id": "15ec810b",
   "metadata": {},
   "outputs": [],
   "source": [
    "# adata.raw[:, adata.var.index]"
   ]
  },
  {
   "cell_type": "code",
   "execution_count": 8,
   "id": "ef142060",
   "metadata": {},
   "outputs": [],
   "source": [
    "# adata1.raw.var.index"
   ]
  },
  {
   "cell_type": "code",
<<<<<<< HEAD
   "execution_count": 2,
=======
   "execution_count": 9,
>>>>>>> 6471269896efa7083b39e6c5ae7b4156a3dcd8e6
   "id": "0274f5c8",
   "metadata": {},
   "outputs": [],
   "source": [
    "adata1 = sc.read_h5ad(\"../../data_/cohort1.h5ad\")\n",
    "sc.pp.normalize_total(adata1, target_sum=1e4)\n",
    "sc.pp.log1p(adata1)\n",
    "adata1_raw = adata1\n",
    "# idx = adata1.var.index.isin(adata.var.index)\n",
    "# adata1 = adata1[:, idx]\n"
   ]
  },
  {
   "cell_type": "code",
<<<<<<< HEAD
   "execution_count": 4,
   "id": "f5e52a67",
   "metadata": {},
   "outputs": [
    {
     "data": {
      "text/plain": [
       "array(['11_d0', '12_d0', '12_d7', '13_d0', '13_d7', '16_d0', '198_d18',\n",
       "       '199_d8', '1_d0', '1_d4', '1_d9', '204_d15', '20_d0', '214_d18',\n",
       "       '21_d0', '2_d0', '2_d6', '3_d0', '3_d5', '52_d18', '53_d18',\n",
       "       '5_d0', '5_d5', '8_d0', '8_d7', '9_d0', '9_d7'], dtype=object)"
      ]
     },
     "execution_count": 4,
     "metadata": {},
     "output_type": "execute_result"
    }
   ],
   "source": [
    "samples = np.unique(adata1.obs.SampleID[adata1.obs.Condition != 'Control'])\n",
    "samples"
=======
   "execution_count": null,
   "id": "f5e52a67",
   "metadata": {},
   "outputs": [],
   "source": [
    "\n"
>>>>>>> 6471269896efa7083b39e6c5ae7b4156a3dcd8e6
   ]
  },
  {
   "cell_type": "code",
   "execution_count": 10,
   "id": "99135623",
   "metadata": {},
   "outputs": [
    {
     "data": {
      "text/plain": [
       "Index(['AL627309.1', 'AP006222.2', 'RP11-206L10.2', 'RP11-206L10.9',\n",
       "       'LINC00115', 'NOC2L', 'KLHL17', 'PLEKHN1', 'RP11-54O7.17', 'HES4',\n",
       "       ...\n",
       "       'AF127936.9', 'AP000223.42', 'AP001059.6', 'AP001059.7', 'KB-68A7.1',\n",
       "       'AP001505.10', 'RP1-101D8.1', 'BX004987.4', 'AC145212.4', 'AC145212.2'],\n",
       "      dtype='object', length=46584)"
      ]
     },
     "execution_count": 10,
     "metadata": {},
     "output_type": "execute_result"
    }
   ],
   "source": [
    "adata_c=adata.var.index\n",
    "adata1_c=adata1.var.index\n",
    "adata1_c"
   ]
  },
  {
   "cell_type": "code",
   "execution_count": 11,
   "id": "2fab73a7",
   "metadata": {},
   "outputs": [],
   "source": [
    "le = LabelEncoder()"
   ]
  },
  {
   "cell_type": "code",
   "execution_count": 17,
   "id": "51875137",
   "metadata": {},
   "outputs": [],
   "source": [
    "adata = adata_raw\n",
    "adata1 = adata1_raw\n",
    "# adata = adata[adata.obs.new_order.isin([5,6]),:]\n",
    "# adata1 = adata1[adata1.obs[\"new.id\"].isin([5,6]),:]"
   ]
  },
  {
   "cell_type": "code",
   "execution_count": 12,
   "id": "f8050c90",
   "metadata": {},
   "outputs": [
    {
     "data": {
      "text/plain": [
       "AnnData object with n_obs × n_vars = 139848 × 33417\n",
       "    obs: 'orig.ident', 'nCount_RNA', 'nFeature_RNA', 'nCount_HTO', 'nFeature_HTO', 'percent.mito', 'meanCount_RNA', 'meanCount_HTO', 'HTO_maxID', 'HTO_secondID', 'HTO_margin', 'HTO_classification', 'HTO_classification.global', 'hash.ID', 'demultID', 'experiment', 'cartridge', 'ID', 'sample', 'abseq', 'date_of_sampling', 'donor', 'cells', 'purification', 'nCount_AB', 'nFeature_AB', 'group_4', 'group', 'diagnosis', 'onset_of_symptoms', 'outcome', 'oxygen', 'highest_WHO_classification', 'primary_complaint', 'bacterial_superinfection', 'medication', 'comorbidities', 'age', 'sex', 'days_after_onset', 'disease_stage', 'who_per_sample', 'group_per_sample', 'glucocorticoids', 'covid19_therapy', 'leukocyte_counts', 'neutrophil_counts', 'lymphocyte_counts', 'monocyte_counts', 'eosinophil_counts', 'basophil_counts', 'imm_granulocyte_counts', 'thrombocyte_counts', 'pCT', 'CRP', 'IL6', 'group_4_per_sample', 'percent.hb', 'group_per_sample_per_stage', 'group_4_per_sample_per_stage', 'hpca.labels', 'blueprint.labels', 'monaco.labels', 'immune.labels', 'dmap.labels', 'hemato.labels', 'RNA_snn_res.0.5', 'seurat_clusters', 'RNA_snn_res.0.4', 'cluster_labels_res.0.5', 'cluster_labels_res.0.4', 'new_order', 'fresh', 'Condition', 'cell.cond', 'celltype', 'celltypeL0'\n",
       "    var: 'vst.mean', 'vst.variance', 'vst.variance.expected', 'vst.variance.standardized', 'vst.variable'\n",
       "    uns: 'log1p'\n",
       "    obsm: 'X_pca', 'X_umap'\n",
       "    varm: 'PCs'"
      ]
     },
     "execution_count": 12,
     "metadata": {},
     "output_type": "execute_result"
    }
   ],
   "source": [
    "adata"
   ]
  },
  {
   "cell_type": "code",
   "execution_count": 12,
   "id": "8b330c5c",
   "metadata": {},
   "outputs": [],
   "source": [
    "adata1_x=adata1.X\n",
    "adata_x=adata.X"
   ]
  },
  {
   "cell_type": "code",
   "execution_count": 13,
   "id": "fcda8d7f",
   "metadata": {},
   "outputs": [],
   "source": [
    "who =np.array([['1','2','3','5','52','53','204','214','8','9','11','12','13','16','20','21','198','199'],[3,3,3,3,4,4,3,3,\n",
    "                                                                                                       7,7,5,7,7,7,7,6,6,7]]).transpose()\n"
   ]
  },
  {
   "cell_type": "code",
   "execution_count": 14,
   "id": "6eca6c83",
   "metadata": {},
   "outputs": [
    {
     "name": "stderr",
     "output_type": "stream",
     "text": [
      "/home/alemsara/miniconda3/lib/python3.9/site-packages/anndata/_core/anndata.py:801: UserWarning: \n",
      "AnnData expects .obs.index to contain strings, but got values like:\n",
      "    [0, 1, 2, 3, 4]\n",
      "\n",
      "    Inferred to be: integer\n",
      "\n",
      "  value_idx = self._prep_dim_index(value.index, attr)\n"
     ]
    },
    {
     "data": {
      "text/html": [
       "<div>\n",
       "<style scoped>\n",
       "    .dataframe tbody tr th:only-of-type {\n",
       "        vertical-align: middle;\n",
       "    }\n",
       "\n",
       "    .dataframe tbody tr th {\n",
       "        vertical-align: top;\n",
       "    }\n",
       "\n",
       "    .dataframe thead th {\n",
       "        text-align: right;\n",
       "    }\n",
       "</style>\n",
       "<table border=\"1\" class=\"dataframe\">\n",
       "  <thead>\n",
       "    <tr style=\"text-align: right;\">\n",
       "      <th></th>\n",
       "      <th>orig.ident</th>\n",
       "      <th>nCount_RNA</th>\n",
       "      <th>nFeature_RNA</th>\n",
       "      <th>percent.mt</th>\n",
       "      <th>RNA_snn_res.0.5</th>\n",
       "      <th>seurat_clusters</th>\n",
       "      <th>ref.celltype</th>\n",
       "      <th>batch.id</th>\n",
       "      <th>IDs</th>\n",
       "      <th>Condition</th>\n",
       "      <th>...</th>\n",
       "      <th>cond.stage</th>\n",
       "      <th>fresh</th>\n",
       "      <th>nReads_RNA</th>\n",
       "      <th>patien_id</th>\n",
       "      <th>sample_id</th>\n",
       "      <th>nReads_ALL</th>\n",
       "      <th>celltypeL0</th>\n",
       "      <th>who_score</th>\n",
       "      <th>pID</th>\n",
       "      <th>who</th>\n",
       "    </tr>\n",
       "  </thead>\n",
       "  <tbody>\n",
       "    <tr>\n",
       "      <th>0</th>\n",
       "      <td>Covid19</td>\n",
       "      <td>4842.0</td>\n",
       "      <td>1925</td>\n",
       "      <td>6.608839</td>\n",
       "      <td>7</td>\n",
       "      <td>7</td>\n",
       "      <td>NA</td>\n",
       "      <td>Covid19</td>\n",
       "      <td>1_d4</td>\n",
       "      <td>Mild</td>\n",
       "      <td>...</td>\n",
       "      <td>-2147483648</td>\n",
       "      <td>Fresh</td>\n",
       "      <td>4842.0</td>\n",
       "      <td>C19-CB-01</td>\n",
       "      <td>C19-CB-01_d11</td>\n",
       "      <td>5102.0</td>\n",
       "      <td>0</td>\n",
       "      <td>NaN</td>\n",
       "      <td>1</td>\n",
       "      <td>3</td>\n",
       "    </tr>\n",
       "    <tr>\n",
       "      <th>1</th>\n",
       "      <td>Covid19</td>\n",
       "      <td>9582.0</td>\n",
       "      <td>3004</td>\n",
       "      <td>4.195366</td>\n",
       "      <td>7</td>\n",
       "      <td>7</td>\n",
       "      <td>NA</td>\n",
       "      <td>Covid19</td>\n",
       "      <td>3_d0</td>\n",
       "      <td>Mild</td>\n",
       "      <td>...</td>\n",
       "      <td>-2147483648</td>\n",
       "      <td>Fresh</td>\n",
       "      <td>9582.0</td>\n",
       "      <td>C19-CB-03</td>\n",
       "      <td>C19-CB-03_d13</td>\n",
       "      <td>10008.0</td>\n",
       "      <td>0</td>\n",
       "      <td>NaN</td>\n",
       "      <td>3</td>\n",
       "      <td>3</td>\n",
       "    </tr>\n",
       "    <tr>\n",
       "      <th>2</th>\n",
       "      <td>Covid19</td>\n",
       "      <td>4484.0</td>\n",
       "      <td>1950</td>\n",
       "      <td>5.575379</td>\n",
       "      <td>7</td>\n",
       "      <td>7</td>\n",
       "      <td>NA</td>\n",
       "      <td>Covid19</td>\n",
       "      <td>1_d4</td>\n",
       "      <td>Mild</td>\n",
       "      <td>...</td>\n",
       "      <td>-2147483648</td>\n",
       "      <td>Fresh</td>\n",
       "      <td>4484.0</td>\n",
       "      <td>C19-CB-01</td>\n",
       "      <td>C19-CB-01_d11</td>\n",
       "      <td>4629.0</td>\n",
       "      <td>0</td>\n",
       "      <td>NaN</td>\n",
       "      <td>1</td>\n",
       "      <td>3</td>\n",
       "    </tr>\n",
       "    <tr>\n",
       "      <th>3</th>\n",
       "      <td>Covid19</td>\n",
       "      <td>2971.0</td>\n",
       "      <td>1555</td>\n",
       "      <td>10.939078</td>\n",
       "      <td>9</td>\n",
       "      <td>9</td>\n",
       "      <td>NA</td>\n",
       "      <td>Covid19</td>\n",
       "      <td>3_d0</td>\n",
       "      <td>Mild</td>\n",
       "      <td>...</td>\n",
       "      <td>-2147483648</td>\n",
       "      <td>Fresh</td>\n",
       "      <td>2971.0</td>\n",
       "      <td>C19-CB-03</td>\n",
       "      <td>C19-CB-03_d13</td>\n",
       "      <td>3506.0</td>\n",
       "      <td>9</td>\n",
       "      <td>NaN</td>\n",
       "      <td>3</td>\n",
       "      <td>3</td>\n",
       "    </tr>\n",
       "    <tr>\n",
       "      <th>4</th>\n",
       "      <td>Covid19</td>\n",
       "      <td>3244.0</td>\n",
       "      <td>1368</td>\n",
       "      <td>16.923551</td>\n",
       "      <td>7</td>\n",
       "      <td>7</td>\n",
       "      <td>NA</td>\n",
       "      <td>Covid19</td>\n",
       "      <td>3_d0</td>\n",
       "      <td>Mild</td>\n",
       "      <td>...</td>\n",
       "      <td>-2147483648</td>\n",
       "      <td>Fresh</td>\n",
       "      <td>3244.0</td>\n",
       "      <td>C19-CB-03</td>\n",
       "      <td>C19-CB-03_d13</td>\n",
       "      <td>3690.0</td>\n",
       "      <td>0</td>\n",
       "      <td>NaN</td>\n",
       "      <td>3</td>\n",
       "      <td>3</td>\n",
       "    </tr>\n",
       "    <tr>\n",
       "      <th>...</th>\n",
       "      <td>...</td>\n",
       "      <td>...</td>\n",
       "      <td>...</td>\n",
       "      <td>...</td>\n",
       "      <td>...</td>\n",
       "      <td>...</td>\n",
       "      <td>...</td>\n",
       "      <td>...</td>\n",
       "      <td>...</td>\n",
       "      <td>...</td>\n",
       "      <td>...</td>\n",
       "      <td>...</td>\n",
       "      <td>...</td>\n",
       "      <td>...</td>\n",
       "      <td>...</td>\n",
       "      <td>...</td>\n",
       "      <td>...</td>\n",
       "      <td>...</td>\n",
       "      <td>...</td>\n",
       "      <td>...</td>\n",
       "      <td>...</td>\n",
       "    </tr>\n",
       "    <tr>\n",
       "      <th>99044</th>\n",
       "      <td>Ten_k_v3</td>\n",
       "      <td>5115.0</td>\n",
       "      <td>1336</td>\n",
       "      <td>NaN</td>\n",
       "      <td>1</td>\n",
       "      <td>1</td>\n",
       "      <td>NA</td>\n",
       "      <td>NA</td>\n",
       "      <td>NA</td>\n",
       "      <td>Control</td>\n",
       "      <td>...</td>\n",
       "      <td>-2147483648</td>\n",
       "      <td>Frozen</td>\n",
       "      <td>NaN</td>\n",
       "      <td>C19-CB-0NA</td>\n",
       "      <td>ctrl_Tenkv3</td>\n",
       "      <td>NaN</td>\n",
       "      <td>6</td>\n",
       "      <td>NaN</td>\n",
       "      <td>NaN</td>\n",
       "      <td>NaN</td>\n",
       "    </tr>\n",
       "    <tr>\n",
       "      <th>99045</th>\n",
       "      <td>Ten_k_v3</td>\n",
       "      <td>3937.0</td>\n",
       "      <td>1331</td>\n",
       "      <td>NaN</td>\n",
       "      <td>0</td>\n",
       "      <td>0</td>\n",
       "      <td>NA</td>\n",
       "      <td>NA</td>\n",
       "      <td>NA</td>\n",
       "      <td>Control</td>\n",
       "      <td>...</td>\n",
       "      <td>-2147483648</td>\n",
       "      <td>Frozen</td>\n",
       "      <td>NaN</td>\n",
       "      <td>C19-CB-0NA</td>\n",
       "      <td>ctrl_Tenkv3</td>\n",
       "      <td>NaN</td>\n",
       "      <td>0</td>\n",
       "      <td>NaN</td>\n",
       "      <td>NaN</td>\n",
       "      <td>NaN</td>\n",
       "    </tr>\n",
       "    <tr>\n",
       "      <th>99046</th>\n",
       "      <td>Ten_k_v3</td>\n",
       "      <td>4245.0</td>\n",
       "      <td>1401</td>\n",
       "      <td>NaN</td>\n",
       "      <td>3</td>\n",
       "      <td>2</td>\n",
       "      <td>NA</td>\n",
       "      <td>NA</td>\n",
       "      <td>NA</td>\n",
       "      <td>Control</td>\n",
       "      <td>...</td>\n",
       "      <td>-2147483648</td>\n",
       "      <td>Frozen</td>\n",
       "      <td>NaN</td>\n",
       "      <td>C19-CB-0NA</td>\n",
       "      <td>ctrl_Tenkv3</td>\n",
       "      <td>NaN</td>\n",
       "      <td>7</td>\n",
       "      <td>NaN</td>\n",
       "      <td>NaN</td>\n",
       "      <td>NaN</td>\n",
       "    </tr>\n",
       "    <tr>\n",
       "      <th>99047</th>\n",
       "      <td>Ten_k_v3</td>\n",
       "      <td>5600.0</td>\n",
       "      <td>1666</td>\n",
       "      <td>NaN</td>\n",
       "      <td>2</td>\n",
       "      <td>3</td>\n",
       "      <td>NA</td>\n",
       "      <td>NA</td>\n",
       "      <td>NA</td>\n",
       "      <td>Control</td>\n",
       "      <td>...</td>\n",
       "      <td>-2147483648</td>\n",
       "      <td>Frozen</td>\n",
       "      <td>NaN</td>\n",
       "      <td>C19-CB-0NA</td>\n",
       "      <td>ctrl_Tenkv3</td>\n",
       "      <td>NaN</td>\n",
       "      <td>6</td>\n",
       "      <td>NaN</td>\n",
       "      <td>NaN</td>\n",
       "      <td>NaN</td>\n",
       "    </tr>\n",
       "    <tr>\n",
       "      <th>99048</th>\n",
       "      <td>Ten_k_v3</td>\n",
       "      <td>6757.0</td>\n",
       "      <td>1745</td>\n",
       "      <td>NaN</td>\n",
       "      <td>1</td>\n",
       "      <td>1</td>\n",
       "      <td>NA</td>\n",
       "      <td>NA</td>\n",
       "      <td>NA</td>\n",
       "      <td>Control</td>\n",
       "      <td>...</td>\n",
       "      <td>-2147483648</td>\n",
       "      <td>Frozen</td>\n",
       "      <td>NaN</td>\n",
       "      <td>C19-CB-0NA</td>\n",
       "      <td>ctrl_Tenkv3</td>\n",
       "      <td>NaN</td>\n",
       "      <td>6</td>\n",
       "      <td>NaN</td>\n",
       "      <td>NaN</td>\n",
       "      <td>NaN</td>\n",
       "    </tr>\n",
       "  </tbody>\n",
       "</table>\n",
       "<p>99049 rows × 78 columns</p>\n",
       "</div>"
      ],
      "text/plain": [
       "      orig.ident  nCount_RNA  nFeature_RNA  percent.mt  RNA_snn_res.0.5  \\\n",
       "0        Covid19      4842.0          1925    6.608839                7   \n",
       "1        Covid19      9582.0          3004    4.195366                7   \n",
       "2        Covid19      4484.0          1950    5.575379                7   \n",
       "3        Covid19      2971.0          1555   10.939078                9   \n",
       "4        Covid19      3244.0          1368   16.923551                7   \n",
       "...          ...         ...           ...         ...              ...   \n",
       "99044   Ten_k_v3      5115.0          1336         NaN                1   \n",
       "99045   Ten_k_v3      3937.0          1331         NaN                0   \n",
       "99046   Ten_k_v3      4245.0          1401         NaN                3   \n",
       "99047   Ten_k_v3      5600.0          1666         NaN                2   \n",
       "99048   Ten_k_v3      6757.0          1745         NaN                1   \n",
       "\n",
       "       seurat_clusters ref.celltype batch.id   IDs Condition  ...  cond.stage  \\\n",
       "0                    7           NA  Covid19  1_d4      Mild  ... -2147483648   \n",
       "1                    7           NA  Covid19  3_d0      Mild  ... -2147483648   \n",
       "2                    7           NA  Covid19  1_d4      Mild  ... -2147483648   \n",
       "3                    9           NA  Covid19  3_d0      Mild  ... -2147483648   \n",
       "4                    7           NA  Covid19  3_d0      Mild  ... -2147483648   \n",
       "...                ...          ...      ...   ...       ...  ...         ...   \n",
       "99044                1           NA       NA    NA   Control  ... -2147483648   \n",
       "99045                0           NA       NA    NA   Control  ... -2147483648   \n",
       "99046                2           NA       NA    NA   Control  ... -2147483648   \n",
       "99047                3           NA       NA    NA   Control  ... -2147483648   \n",
       "99048                1           NA       NA    NA   Control  ... -2147483648   \n",
       "\n",
       "        fresh nReads_RNA   patien_id      sample_id nReads_ALL celltypeL0  \\\n",
       "0       Fresh     4842.0   C19-CB-01  C19-CB-01_d11     5102.0          0   \n",
       "1       Fresh     9582.0   C19-CB-03  C19-CB-03_d13    10008.0          0   \n",
       "2       Fresh     4484.0   C19-CB-01  C19-CB-01_d11     4629.0          0   \n",
       "3       Fresh     2971.0   C19-CB-03  C19-CB-03_d13     3506.0          9   \n",
       "4       Fresh     3244.0   C19-CB-03  C19-CB-03_d13     3690.0          0   \n",
       "...       ...        ...         ...            ...        ...        ...   \n",
       "99044  Frozen        NaN  C19-CB-0NA    ctrl_Tenkv3        NaN          6   \n",
       "99045  Frozen        NaN  C19-CB-0NA    ctrl_Tenkv3        NaN          0   \n",
       "99046  Frozen        NaN  C19-CB-0NA    ctrl_Tenkv3        NaN          7   \n",
       "99047  Frozen        NaN  C19-CB-0NA    ctrl_Tenkv3        NaN          6   \n",
       "99048  Frozen        NaN  C19-CB-0NA    ctrl_Tenkv3        NaN          6   \n",
       "\n",
       "      who_score  pID  who  \n",
       "0           NaN    1    3  \n",
       "1           NaN    3    3  \n",
       "2           NaN    1    3  \n",
       "3           NaN    3    3  \n",
       "4           NaN    3    3  \n",
       "...         ...  ...  ...  \n",
       "99044       NaN  NaN  NaN  \n",
       "99045       NaN  NaN  NaN  \n",
       "99046       NaN  NaN  NaN  \n",
       "99047       NaN  NaN  NaN  \n",
       "99048       NaN  NaN  NaN  \n",
       "\n",
       "[99049 rows x 78 columns]"
      ]
     },
     "execution_count": 14,
     "metadata": {},
     "output_type": "execute_result"
    }
   ],
   "source": [
    "who_score = pd.DataFrame(data=who, columns = ['pID','who'])\n",
    "adata1.obs['who_score']= np.nan\n",
    "adata1.obs = adata1.obs.merge( who_score, how='left', left_on='Patient_ID', right_on='pID')\n",
    "adata1.obs"
   ]
  },
  {
   "cell_type": "code",
   "execution_count": 15,
   "id": "c0bd4dd8",
   "metadata": {},
   "outputs": [
    {
     "name": "stdout",
     "output_type": "stream",
     "text": [
      "['3' '4' '5' '6' '7' 'nan']\n"
     ]
    },
    {
     "data": {
      "text/plain": [
       "array([0, 1, 2, 3, 4, 5])"
      ]
     },
     "execution_count": 15,
     "metadata": {},
     "output_type": "execute_result"
    }
   ],
   "source": [
    "label = le.fit_transform(adata1.obs[\"who\"])\n",
    "print(np.unique(adata1.obs[\"who\"].astype(str)))\n",
    "# label = label-1\n",
    "np.unique(label)"
   ]
  },
  {
   "cell_type": "code",
   "execution_count": 43,
   "id": "145f3051",
   "metadata": {},
   "outputs": [
    {
     "data": {
      "text/plain": [
       "0         True\n",
       "1         True\n",
       "2         True\n",
       "3         True\n",
       "4         True\n",
       "         ...  \n",
       "99044    False\n",
       "99045    False\n",
       "99046    False\n",
       "99047    False\n",
       "99048    False\n",
       "Name: who, Length: 99049, dtype: bool"
      ]
     },
     "execution_count": 43,
     "metadata": {},
     "output_type": "execute_result"
    }
   ],
   "source": [
    "adata1.obs.who.isin(['3','4','5','7'])"
   ]
  },
  {
   "cell_type": "code",
   "execution_count": 16,
   "id": "4f322d1b",
   "metadata": {},
   "outputs": [
    {
     "name": "stdout",
     "output_type": "stream",
     "text": [
      "25\n"
     ]
    }
   ],
   "source": [
    "#cohort1_xtest\n",
    "Xtest = []\n",
    "samples = np.unique(adata1.obs.SampleID[adata1.obs.who.isin(['3','4','5','7'])])\n",
    "X_ = []\n",
    "print(len(samples))\n",
    "for sample in samples:\n",
    "    x = adata1_x[adata1.obs.SampleID == sample,:]\n",
    "    if (label[adata1.obs.SampleID == sample][0] == 4):\n",
    "        y=label[adata1.obs.SampleID == sample][0] -1\n",
    "    else:\n",
    "        y=label[adata1.obs.SampleID == sample][0]\n",
    "        \n",
    "    y_= adata1.obs[\"new.id\"][adata1.obs.SampleID == sample].values \n",
    "    X_.append((x,y,y_))\n",
    "# X = list(map(lambda x: (x, y, None), X_))\n",
    "Xtest=X_\n",
    "with open(\"../../2cohorts/chr2chr1/Xtest_who.pkl\", \"wb\") as f:\n",
    "            pickle.dump(Xtest, f)\n",
    "with open(\"../../2cohorts/chr2chr1/Ctest_who.pkl\", \"wb\") as f:\n",
    "            pickle.dump(adata1_c, f)"
   ]
  },
  {
   "cell_type": "code",
   "execution_count": 20,
   "id": "c97bc682",
   "metadata": {},
   "outputs": [
    {
     "name": "stdout",
     "output_type": "stream",
     "text": [
      "['Control' 'Mild' 'Severe']\n",
      "25\n"
     ]
    }
   ],
   "source": [
    "#cohort1_xtest\n",
    "label = le.fit_transform(adata1.obs[\"Condition\"])\n",
    "print(np.unique(adata1.obs[\"Condition\"]))\n",
    "label = label-1\n",
    "\n",
    "\n",
    "Xtest = []\n",
    "samples = np.unique(adata1.obs.SampleID[adata1.obs.Condition != 'Control'])\n",
    "X_ = []\n",
    "print(len(samples))\n",
    "for sample in samples:\n",
    "    x = adata1_x[adata1.obs.SampleID == sample,:]\n",
    "    y=label[adata1.obs.SampleID == sample][0] \n",
    "    y_= adata1.obs[\"new.id\"][adata1.obs.SampleID == sample].values \n",
    "    X_.append((x,y,y_))\n",
    "# X = list(map(lambda x: (x, y, None), X_))\n",
    "Xtest=X_\n",
    "with open(\"../../2cohorts/chr2chr1/Xtest_neu.pkl\", \"wb\") as f:\n",
    "            pickle.dump(Xtest, f)\n",
    "with open(\"../../2cohorts/chr2chr1/Ctest_neu.pkl\", \"wb\") as f:\n",
    "            pickle.dump(adata1_c, f)"
   ]
  },
  {
   "cell_type": "code",
   "execution_count": 17,
   "id": "13104304",
   "metadata": {},
   "outputs": [
    {
     "name": "stdout",
     "output_type": "stream",
     "text": [
      "['0' '3' '4' '5' '7']\n",
      "16\n",
      "9\n",
      "2\n",
      "23\n"
     ]
    }
   ],
   "source": [
    "label = le.fit_transform(adata.obs[\"who_per_sample\"])\n",
    "print(np.unique(adata.obs[\"who_per_sample\"]))\n",
    "label = label-1\n",
    "np.unique(label)\n",
    "#cohort2\n",
    "Xall = []\n",
    "state = []\n",
    "samples = np.unique(adata.obs.ID[adata.obs.who_per_sample == '3'])\n",
    "X_ = []\n",
    "print(len(samples))\n",
    "for sample in samples:\n",
    "    x = adata_x[adata.obs.ID == sample,:]\n",
    "    y= label[adata.obs.ID == sample][0] \n",
    "    y_= adata.obs[\"new_order\"][adata.obs.ID == sample].values \n",
    "    X_.append((x,y_))\n",
    "X = list(map(lambda x: (x[0], y, x[1]), X_))\n",
    "state.append('3')\n",
    "Xall.append(X)\n",
    "\n",
    "samples = np.unique(adata.obs.ID[adata.obs.who_per_sample == '4'])\n",
    "print(len(samples))\n",
    "\n",
    "X_ = []\n",
    "for sample in samples:\n",
    "    x = adata_x[adata.obs.ID == sample,:]\n",
    "    y= label[adata.obs.ID == sample][0] \n",
    "    y_= adata.obs[\"new_order\"][adata.obs.ID == sample].values \n",
    "    X_.append((x,y_))\n",
    "X = list(map(lambda x: (x[0], y, x[1]), X_))\n",
    "state.append('4')\n",
    "Xall.append(X)\n",
    "\n",
    "samples = np.unique(adata.obs.ID[adata.obs.who_per_sample == '5'])\n",
    "print(len(samples))\n",
    "\n",
    "X_ = []\n",
    "for sample in samples:\n",
    "    x = adata_x[adata.obs.ID == sample,:]\n",
    "    y= label[adata.obs.ID == sample][0] \n",
    "    y_= adata.obs[\"new_order\"][adata.obs.ID == sample].values \n",
    "    X_.append((x,y_))\n",
    "X = list(map(lambda x: (x[0], y, x[1]), X_))\n",
    "state.append('5')\n",
    "Xall.append(X)\n",
    "\n",
    "samples = np.unique(adata.obs.ID[adata.obs.who_per_sample == '7'])\n",
    "print(len(samples))\n",
    "\n",
    "X_ = []\n",
    "for sample in samples:\n",
    "    x = adata_x[adata.obs.ID == sample,:]\n",
    "    y= label[adata.obs.ID == sample][0] \n",
    "    y_= adata.obs[\"new_order\"][adata.obs.ID == sample].values \n",
    "    X_.append((x,y_))\n",
    "X = list(map(lambda x: (x[0], y, x[1]), X_))\n",
    "state.append('7')\n",
    "Xall.append(X)\n",
    "with open(\"../../2cohorts/chr2chr1/Xall_who.pkl\", \"wb\") as f:\n",
    "            pickle.dump(Xall, f)\n",
    "with open( \"../../2cohorts/chr2chr1/state_who.pkl\", \"wb\") as f:\n",
    "            pickle.dump(state, f)\n",
    "with open(\"../../2cohorts/chr2chr1/Call_who.pkl\", \"wb\") as f:\n",
    "            pickle.dump(adata_c, f)"
   ]
  },
  {
   "cell_type": "code",
   "execution_count": 18,
   "id": "074c3610",
   "metadata": {},
   "outputs": [
    {
     "data": {
      "text/plain": [
       "[[(<2639x33417 sparse matrix of type '<class 'numpy.float64'>'\n",
       "   \twith 3637391 stored elements in Compressed Sparse Row format>,\n",
       "   0,\n",
       "   array([ 1.,  3., 11., ..., 14., 19.,  1.])),\n",
       "  (<2939x33417 sparse matrix of type '<class 'numpy.float64'>'\n",
       "   \twith 4569557 stored elements in Compressed Sparse Row format>,\n",
       "   0,\n",
       "   array([ 1.,  3., 10., ..., 19.,  5., 13.])),\n",
       "  (<1874x33417 sparse matrix of type '<class 'numpy.float64'>'\n",
       "   \twith 3037501 stored elements in Compressed Sparse Row format>,\n",
       "   0,\n",
       "   array([13.,  3.,  0., ...,  0.,  1., 19.])),\n",
       "  (<3986x33417 sparse matrix of type '<class 'numpy.float64'>'\n",
       "   \twith 4798058 stored elements in Compressed Sparse Row format>,\n",
       "   0,\n",
       "   array([ 9.,  0.,  0., ..., 19.,  9.,  4.])),\n",
       "  (<3690x33417 sparse matrix of type '<class 'numpy.float64'>'\n",
       "   \twith 4033500 stored elements in Compressed Sparse Row format>,\n",
       "   0,\n",
       "   array([14.,  1., 14., ...,  9., 14., 14.])),\n",
       "  (<3745x33417 sparse matrix of type '<class 'numpy.float64'>'\n",
       "   \twith 4240748 stored elements in Compressed Sparse Row format>,\n",
       "   0,\n",
       "   array([ 9., 12., 12., ..., 19., 19.,  1.])),\n",
       "  (<2880x33417 sparse matrix of type '<class 'numpy.float64'>'\n",
       "   \twith 4074622 stored elements in Compressed Sparse Row format>,\n",
       "   0,\n",
       "   array([ 9., 10.,  3., ...,  5., 13., 19.])),\n",
       "  (<2304x33417 sparse matrix of type '<class 'numpy.float64'>'\n",
       "   \twith 3111342 stored elements in Compressed Sparse Row format>,\n",
       "   0,\n",
       "   array([ 1.,  9.,  9., ..., 16.,  1.,  9.])),\n",
       "  (<3465x33417 sparse matrix of type '<class 'numpy.float64'>'\n",
       "   \twith 3586084 stored elements in Compressed Sparse Row format>,\n",
       "   0,\n",
       "   array([11., 15.,  8., ..., 13., 11.,  9.])),\n",
       "  (<1766x33417 sparse matrix of type '<class 'numpy.float64'>'\n",
       "   \twith 2227950 stored elements in Compressed Sparse Row format>,\n",
       "   0,\n",
       "   array([ 8.,  1.,  1., ..., 10., 14., 19.])),\n",
       "  (<1907x33417 sparse matrix of type '<class 'numpy.float64'>'\n",
       "   \twith 2179101 stored elements in Compressed Sparse Row format>,\n",
       "   0,\n",
       "   array([14.,  1.,  1., ..., 14.,  1., 19.])),\n",
       "  (<1037x33417 sparse matrix of type '<class 'numpy.float64'>'\n",
       "   \twith 1187648 stored elements in Compressed Sparse Row format>,\n",
       "   0,\n",
       "   array([ 0.,  1.,  9., ..., 14., 10., 11.])),\n",
       "  (<4200x33417 sparse matrix of type '<class 'numpy.float64'>'\n",
       "   \twith 4502685 stored elements in Compressed Sparse Row format>,\n",
       "   0,\n",
       "   array([14.,  0., 10., ..., 19., 14.,  0.])),\n",
       "  (<4420x33417 sparse matrix of type '<class 'numpy.float64'>'\n",
       "   \twith 3243628 stored elements in Compressed Sparse Row format>,\n",
       "   0,\n",
       "   array([12.,  1.,  9., ..., 13., 10., 19.])),\n",
       "  (<3925x33417 sparse matrix of type '<class 'numpy.float64'>'\n",
       "   \twith 2547572 stored elements in Compressed Sparse Row format>,\n",
       "   0,\n",
       "   array([10.,  1., 13., ..., 14., 10., 13.])),\n",
       "  (<1751x33417 sparse matrix of type '<class 'numpy.float64'>'\n",
       "   \twith 2789965 stored elements in Compressed Sparse Row format>,\n",
       "   0,\n",
       "   array([ 2.,  2.,  2., ..., 13.,  1., 10.]))],\n",
       " [(<534x33417 sparse matrix of type '<class 'numpy.float64'>'\n",
       "   \twith 693855 stored elements in Compressed Sparse Row format>,\n",
       "   1,\n",
       "   array([ 4., 15.,  5.,  5.,  5.,  0.,  0., 15.,  5.,  5., 13.,  5.,  9.,\n",
       "           4.,  4., 15.,  4.,  0.,  0.,  9.,  0., 13.,  2.,  0.,  5.,  3.,\n",
       "          15., 15.,  5.,  5.,  9.,  5.,  5.,  0.,  9.,  5.,  4.,  0.,  4.,\n",
       "           5.,  0.,  7.,  9.,  0.,  5.,  1.,  9., 15.,  0.,  4.,  2.,  0.,\n",
       "           0.,  5.,  5.,  5.,  0., 15.,  1.,  5.,  1.,  0.,  0.,  1.,  3.,\n",
       "           5.,  5.,  0.,  4., 20.,  2.,  5.,  0.,  4.,  4.,  0.,  0.,  5.,\n",
       "           5.,  9.,  6., 10., 15.,  3., 15.,  9., 14.,  9.,  5.,  0.,  3.,\n",
       "           0.,  0.,  1., 15.,  1.,  0., 16.,  5.,  0.,  3.,  3., 12.,  5.,\n",
       "           5.,  2.,  5.,  1., 19.,  7.,  0.,  0.,  1.,  5.,  5.,  0.,  1.,\n",
       "           5.,  5.,  4.,  0., 15.,  0.,  5.,  3.,  5.,  1.,  1., 13.,  5.,\n",
       "           5.,  1.,  0.,  0., 14.,  4.,  4.,  0.,  0.,  5.,  0.,  4.,  0.,\n",
       "           4., 10.,  5.,  4.,  9.,  1.,  4.,  5.,  0.,  5.,  5.,  5.,  5.,\n",
       "           5.,  9.,  4.,  0.,  1.,  0.,  1.,  5.,  5.,  0.,  5., 18., 15.,\n",
       "           4.,  0.,  0.,  5.,  0.,  3., 14.,  5.,  0.,  4.,  9.,  4.,  0.,\n",
       "           3., 15., 14.,  7.,  0.,  5.,  0.,  0.,  4.,  0.,  9.,  4., 16.,\n",
       "          16.,  5.,  1., 14.,  0.,  0.,  0.,  0.,  3.,  4.,  5.,  5.,  4.,\n",
       "           9., 20.,  1.,  1., 13., 10.,  5.,  0.,  4.,  4.,  9.,  5., 14.,\n",
       "           9.,  0.,  4.,  2.,  5.,  3.,  4.,  4.,  4.,  5.,  0.,  0.,  0.,\n",
       "           0.,  3.,  5.,  0.,  9.,  1.,  3.,  5.,  9., 10.,  4.,  0.,  4.,\n",
       "           0.,  0.,  5.,  3.,  0.,  0., 14.,  5.,  0.,  3.,  0.,  5.,  9.,\n",
       "           5.,  5., 10.,  0.,  4.,  5.,  4.,  5.,  3., 14.,  5.,  0.,  4.,\n",
       "           5.,  5.,  1., 13.,  5.,  5.,  9.,  1.,  0.,  4., 19.,  9.,  1.,\n",
       "           1.,  4.,  5.,  7.,  9., 14.,  5.,  0., 10.,  0.,  5.,  0.,  0.,\n",
       "           5.,  5.,  5.,  4.,  4.,  5.,  9., 14.,  5.,  5.,  3.,  4.,  5.,\n",
       "           0.,  3.,  9., 15.,  5.,  1.,  1.,  5.,  4.,  4.,  0.,  2.,  4.,\n",
       "           4.,  5.,  0.,  0.,  8.,  0.,  4.,  0.,  5.,  0.,  4.,  0.,  0.,\n",
       "          10., 15.,  0.,  2.,  4.,  0.,  0.,  8., 20.,  9.,  4., 18.,  1.,\n",
       "           0.,  4.,  4., 10.,  0.,  0.,  4.,  4.,  3.,  0.,  0.,  0.,  0.,\n",
       "           3., 14.,  4.,  0.,  5.,  0.,  0.,  6.,  4.,  0.,  9., 15.,  0.,\n",
       "          12., 18.,  0., 14.,  5.,  4.,  9.,  4.,  4.,  0.,  0.,  2., 12.,\n",
       "           0., 15.,  4.,  3.,  1.,  0.,  0.,  0.,  0.,  5.,  3.,  7.,  3.,\n",
       "          14.,  0.,  0.,  0.,  0.,  9.,  0.,  0.,  0.,  7.,  5.,  0.,  3.,\n",
       "           5.,  4., 15.,  0.,  0.,  0.,  0.,  0.,  0.,  0.,  4.,  4., 14.,\n",
       "           4.,  9., 14.,  0.,  0., 14.,  0.,  7.,  2.,  3.,  0.,  4., 15.,\n",
       "          14.,  5.,  4.,  4.,  0.,  0.,  0., 13.,  9.,  0., 10.,  0.,  0.,\n",
       "           0.,  5.,  0.,  3., 10.,  3.,  5.,  0., 14.,  4.,  4.,  5., 14.,\n",
       "           4.,  1.,  9., 10.,  0.,  5.,  1.,  6.,  3.,  0.,  0.,  4.,  9.,\n",
       "           0., 10.,  4.,  4.,  5.,  5., 16.,  0.,  5., 10.,  5., 13.,  9.,\n",
       "           4., 10., 17.,  0.,  5.,  5.,  3.,  0.,  5.,  0.,  9.,  9.,  5.,\n",
       "           0.,  9.,  0., 13.,  5.,  3.,  5.,  5.,  9.,  9.,  4.,  5., 14.,\n",
       "           0.,  3.,  4.,  4.,  9., 10.,  4.,  1.,  5.,  9.,  5.,  9., 19.,\n",
       "           9.])),\n",
       "  (<1028x33417 sparse matrix of type '<class 'numpy.float64'>'\n",
       "   \twith 1811229 stored elements in Compressed Sparse Row format>,\n",
       "   1,\n",
       "   array([15., 10., 15., ...,  3.,  5.,  1.])),\n",
       "  (<2177x33417 sparse matrix of type '<class 'numpy.float64'>'\n",
       "   \twith 2303554 stored elements in Compressed Sparse Row format>,\n",
       "   1,\n",
       "   array([14.,  9.,  1., ...,  9.,  9., 11.])),\n",
       "  (<2708x33417 sparse matrix of type '<class 'numpy.float64'>'\n",
       "   \twith 2594062 stored elements in Compressed Sparse Row format>,\n",
       "   1,\n",
       "   array([ 1., 19.,  9., ..., 16.,  3., 16.])),\n",
       "  (<626x33417 sparse matrix of type '<class 'numpy.float64'>'\n",
       "   \twith 1153149 stored elements in Compressed Sparse Row format>,\n",
       "   1,\n",
       "   array([15.,  2.,  2.,  2.,  2.,  2.,  2.,  2.,  1., 13.,  2.,  2., 15.,\n",
       "           2.,  2.,  2., 15.,  2.,  2., 15., 15.,  2.,  3.,  2., 19.,  2.,\n",
       "           2.,  2.,  2.,  2.,  2., 15.,  2.,  2.,  2.,  2.,  2.,  2.,  1.,\n",
       "           2.,  2., 15.,  2.,  2., 12.,  2., 15.,  2.,  2.,  2.,  2.,  2.,\n",
       "           2.,  2.,  2.,  2.,  2., 19.,  2.,  2.,  2.,  2.,  2.,  2., 10.,\n",
       "           2., 13.,  2., 15.,  2.,  2.,  2.,  2., 19.,  2.,  2.,  2.,  2.,\n",
       "           2.,  2.,  2.,  2.,  2.,  2., 10.,  2.,  2.,  8.,  2.,  2.,  2.,\n",
       "          14.,  2.,  2.,  2.,  2., 15., 13., 15.,  2.,  2.,  2.,  8.,  2.,\n",
       "           2.,  2.,  2.,  2.,  2., 19., 20.,  2.,  2.,  2.,  2., 15., 14.,\n",
       "          19., 16.,  2.,  2.,  2.,  2.,  2., 13.,  2.,  2.,  2., 12., 10.,\n",
       "          12., 19., 10., 14.,  2.,  9.,  9., 19., 10., 14., 14., 15.,  2.,\n",
       "          14.,  2.,  2., 15., 15., 16., 15., 15.,  2., 13.,  2.,  2., 15.,\n",
       "           2.,  2., 15., 10.,  2.,  9.,  2.,  2.,  2., 14.,  2.,  2.,  2.,\n",
       "          14., 15.,  2., 15., 15., 13., 15.,  2., 15.,  9.,  9., 14.,  2.,\n",
       "           2.,  2.,  2.,  2.,  2.,  2., 15., 11., 11., 13., 13.,  2., 15.,\n",
       "          10., 12.,  2.,  2.,  2.,  2.,  2.,  2.,  2.,  2., 13.,  2.,  2.,\n",
       "           2.,  2.,  2.,  2.,  2., 15.,  9.,  2.,  2.,  2.,  2.,  2.,  2.,\n",
       "           2.,  2.,  2.,  8., 13.,  2.,  2.,  2.,  2.,  2.,  2.,  2., 14.,\n",
       "           9.,  9.,  2.,  2., 15.,  2.,  2.,  2., 14., 13.,  2.,  2.,  2.,\n",
       "           2.,  2., 12.,  2., 14.,  2., 13., 15.,  2.,  2.,  2., 15.,  2.,\n",
       "           2.,  2., 14., 15.,  2., 12.,  2.,  2., 14., 10., 12., 13.,  2.,\n",
       "           2.,  2.,  2.,  2., 15.,  2.,  2.,  2., 15.,  2.,  2.,  2.,  2.,\n",
       "           2., 14., 15., 15.,  9.,  2.,  2., 12., 20.,  2.,  2., 12., 14.,\n",
       "          14., 12., 15.,  2.,  2.,  2.,  2., 15., 14.,  2.,  2., 10.,  2.,\n",
       "           2.,  2., 13.,  2.,  2.,  2.,  2.,  3.,  2., 10.,  2.,  2.,  2.,\n",
       "          12.,  2.,  2.,  2., 10.,  2.,  2., 15., 15.,  2., 13., 13.,  8.,\n",
       "          15., 10.,  2., 11.,  2.,  2., 10.,  2., 12.,  2.,  2., 13., 13.,\n",
       "          15.,  2.,  2., 13.,  2., 12.,  1.,  2., 13., 13.,  9.,  2.,  2.,\n",
       "          13., 16.,  9.,  2., 10.,  2., 10.,  2., 10.,  2.,  2.,  9.,  3.,\n",
       "           9.,  2., 14., 11.,  2.,  2., 13.,  2.,  8., 14.,  9.,  2.,  2.,\n",
       "          10.,  8.,  9.,  2., 14.,  2., 15.,  8., 15.,  2., 15.,  2.,  2.,\n",
       "           2.,  9.,  2., 10.,  9.,  2., 14., 15.,  2.,  2.,  2.,  2.,  2.,\n",
       "           9., 13.,  2.,  2., 12., 15., 13.,  2.,  2., 10.,  2., 12.,  2.,\n",
       "           2.,  2.,  2.,  2., 16.,  2.,  2.,  2.,  2.,  2.,  2.,  9.,  2.,\n",
       "           2.,  2.,  2.,  2., 19.,  2.,  2., 14.,  2., 15.,  2.,  2.,  2.,\n",
       "          15., 10., 13., 13., 12.,  2.,  2., 13., 14.,  2., 13.,  2.,  2.,\n",
       "           2., 11.,  2.,  2.,  2.,  2.,  2.,  2., 13.,  2.,  8.,  3.,  2.,\n",
       "           2.,  5., 15.,  2.,  2.,  2.,  2.,  2.,  2.,  9.,  2., 11., 16.,\n",
       "           2., 13.,  2., 13., 10.,  2.,  2., 14.,  2., 13.,  2., 13., 11.,\n",
       "           2.,  2.,  2., 10., 13., 13., 13., 14.,  2., 13., 14.,  2., 12.,\n",
       "           9., 13.,  2., 10., 11., 10.,  1., 12.,  2.,  2.,  2., 16.,  2.,\n",
       "           2., 13.,  2.,  9., 10., 11.,  2.,  2., 13., 11., 15., 14., 13.,\n",
       "           2.,  2., 14., 14., 13., 13., 11., 20., 13.,  2., 10., 10., 14.,\n",
       "           9., 10.,  9., 13., 14., 12., 13.,  2., 16.,  2.,  2., 11.,  2.,\n",
       "          14.,  2.,  2.,  2., 10., 10.,  2.,  2., 13., 14.,  9., 14., 13.,\n",
       "           9., 13., 16., 10., 11., 14., 10.,  2., 11., 13., 15., 13.,  9.,\n",
       "          11., 10., 13., 13., 13., 14., 14.,  2., 11., 11., 16., 13., 19.,\n",
       "          13., 11., 11., 16., 15., 13.,  2., 16., 13., 13., 13., 11., 13.,\n",
       "          12., 16.])),\n",
       "  (<3211x33417 sparse matrix of type '<class 'numpy.float64'>'\n",
       "   \twith 4323005 stored elements in Compressed Sparse Row format>,\n",
       "   1,\n",
       "   array([ 1.,  9.,  9., ..., 13., 13.,  9.])),\n",
       "  (<4164x33417 sparse matrix of type '<class 'numpy.float64'>'\n",
       "   \twith 4567147 stored elements in Compressed Sparse Row format>,\n",
       "   1,\n",
       "   array([ 9.,  9.,  3., ..., 14.,  1., 15.])),\n",
       "  (<1244x33417 sparse matrix of type '<class 'numpy.float64'>'\n",
       "   \twith 903868 stored elements in Compressed Sparse Row format>,\n",
       "   1,\n",
       "   array([ 2.,  2., 15., ...,  9.,  9.,  9.])),\n",
       "  (<1479x33417 sparse matrix of type '<class 'numpy.float64'>'\n",
       "   \twith 916815 stored elements in Compressed Sparse Row format>,\n",
       "   1,\n",
       "   array([19.,  9.,  4., ...,  9., 10.,  9.]))],\n",
       " [(<2077x33417 sparse matrix of type '<class 'numpy.float64'>'\n",
       "   \twith 3588095 stored elements in Compressed Sparse Row format>,\n",
       "   2,\n",
       "   array([ 0.,  6.,  9., ...,  6., 14.,  4.])),\n",
       "  (<319x33417 sparse matrix of type '<class 'numpy.float64'>'\n",
       "   \twith 453749 stored elements in Compressed Sparse Row format>,\n",
       "   2,\n",
       "   array([12., 20.,  5., 15.,  1.,  0.,  5.,  5.,  5., 10.,  0.,  4.,  0.,\n",
       "          15.,  9., 15.,  0., 15.,  9.,  0., 15.,  3., 15.,  3.,  0.,  5.,\n",
       "           3.,  5.,  0.,  5.,  0.,  5.,  5.,  2.,  6.,  5.,  0.,  3., 13.,\n",
       "           5.,  5.,  5.,  6.,  0.,  5., 12.,  2., 15.,  0.,  9.,  0.,  2.,\n",
       "          10., 13.,  0.,  0.,  3., 10.,  0.,  0.,  0.,  5., 12.,  7.,  0.,\n",
       "           0.,  0.,  5.,  5.,  0.,  5.,  5.,  3.,  5.,  5.,  5.,  7.,  5.,\n",
       "           5.,  2.,  0.,  3., 15.,  0.,  7., 10.,  0.,  0.,  2.,  5.,  1.,\n",
       "           0., 14.,  0.,  1.,  0.,  0.,  5.,  5.,  0.,  5.,  5.,  0.,  9.,\n",
       "           1.,  5., 13., 13.,  5.,  5.,  0.,  2.,  0.,  9.,  9.,  0., 18.,\n",
       "           5.,  3.,  0.,  0.,  3.,  0.,  1.,  0.,  0.,  3.,  6.,  0.,  0.,\n",
       "           5.,  5., 15.,  2., 15.,  0.,  0.,  2.,  3.,  9.,  9.,  0.,  0.,\n",
       "           5.,  2.,  1.,  0.,  0.,  3.,  0.,  0.,  0., 15.,  5.,  0.,  3.,\n",
       "          18., 10.,  0.,  9.,  0.,  0.,  0.,  0.,  5., 12., 10.,  0.,  3.,\n",
       "           0.,  5.,  0.,  9., 13., 15.,  0.,  0.,  0.,  0.,  0.,  0.,  0.,\n",
       "           9.,  3.,  6.,  9., 12.,  0.,  0.,  0.,  0., 10., 10.,  6.,  6.,\n",
       "          15.,  9., 10.,  3.,  6., 13., 14.,  0., 15.,  3., 15.,  9.,  0.,\n",
       "           2.,  5.,  0.,  0.,  0.,  5.,  0.,  9.,  0.,  0.,  0., 10.,  6.,\n",
       "           0.,  5., 15.,  0.,  9., 13.,  3., 14.,  9.,  0.,  9.,  0.,  1.,\n",
       "           1.,  0.,  0.,  9.,  0.,  5.,  3.,  3.,  0.,  0., 10.,  5.,  0.,\n",
       "          18.,  3.,  3.,  0., 14.,  0., 10.,  3., 17.,  1., 10.,  0.,  0.,\n",
       "           0.,  3.,  0.,  4.,  9.,  9.,  9.,  0.,  0.,  5.,  0.,  6.,  1.,\n",
       "           0.,  5.,  6., 10.,  5.,  9., 13., 14.,  0.,  0.,  5., 18.,  0.,\n",
       "           0.,  9.,  9.,  0.,  5.,  5., 16.,  4.,  5.,  1.,  0.,  2.,  3.,\n",
       "           9.,  9., 18., 10.,  3.,  9.,  9.,  5.,  9.,  0.,  9., 18.,  9.,\n",
       "           0., 16., 13., 10.,  9.,  5.,  5.]))],\n",
       " [(<571x33417 sparse matrix of type '<class 'numpy.float64'>'\n",
       "   \twith 1132129 stored elements in Compressed Sparse Row format>,\n",
       "   3,\n",
       "   array([14.,  3.,  3., 10.,  3.,  3., 10., 15.,  9., 10., 14.,  3.,  3.,\n",
       "          10., 10., 11.,  3.,  9.,  2.,  3.,  3.,  2.,  3.,  9., 19.,  3.,\n",
       "          12.,  5., 14.,  3.,  3., 15.,  3.,  5., 15.,  9.,  3., 11.,  5.,\n",
       "           3.,  3., 15.,  3.,  3., 14.,  3.,  3.,  0.,  3., 14.,  9.,  3.,\n",
       "           2.,  3.,  3., 12.,  2., 12.,  3.,  3.,  2.,  5.,  3.,  3.,  3.,\n",
       "          12.,  2.,  3.,  0.,  9., 10.,  2., 10.,  3.,  9., 12.,  2., 14.,\n",
       "           3.,  9.,  9., 17.,  3., 14.,  2.,  3., 15.,  9.,  9.,  5.,  3.,\n",
       "           3.,  5.,  9., 15.,  3., 13.,  0., 14., 14.,  3.,  3.,  3.,  3.,\n",
       "           9.,  9.,  3., 12.,  3.,  3.,  3.,  4.,  9., 17.,  3.,  3.,  3.,\n",
       "           0.,  9.,  3., 14.,  3.,  3.,  0.,  5.,  3.,  9.,  3.,  3.,  3.,\n",
       "           3., 12., 15.,  3., 17.,  6.,  8.,  3., 14.,  3.,  3., 14.,  3.,\n",
       "           3.,  3.,  9.,  3.,  9.,  3.,  9.,  2., 11., 13.,  0., 11.,  5.,\n",
       "          12.,  3.,  3.,  3., 14.,  9.,  3.,  3.,  3.,  9.,  3.,  9.,  3.,\n",
       "           9.,  3.,  3.,  3.,  3.,  3., 12.,  3., 12.,  3.,  3.,  3.,  3.,\n",
       "           2.,  5., 11.,  9.,  5.,  4.,  2.,  3.,  3.,  9.,  9., 14.,  3.,\n",
       "          12.,  3., 10., 12.,  9., 16., 13., 12.,  9.,  9., 19.,  3., 11.,\n",
       "           9.,  9.,  3.,  3.,  9.,  2.,  3.,  5., 10.,  3.,  9.,  9.,  3.,\n",
       "           3., 12.,  9., 10.,  9.,  9.,  3.,  3., 14., 14., 19.,  9.,  3.,\n",
       "           3.,  3., 18.,  9.,  3.,  3.,  0., 16., 12., 10.,  3.,  3., 14.,\n",
       "           9.,  9.,  3., 11., 10.,  9., 14.,  9.,  9., 10.,  3.,  9.,  9.,\n",
       "          12.,  9., 10.,  3., 10., 16.,  9.,  3., 14., 16.,  9.,  2., 10.,\n",
       "          10., 10., 10.,  3.,  9.,  9.,  9.,  9.,  3., 16.,  9.,  9.,  5.,\n",
       "          13., 14.,  5., 11.,  3.,  9.,  5., 10., 19., 14.,  9., 16., 10.,\n",
       "          14.,  9., 11., 19., 10.,  9.,  3., 16.,  5., 16.,  9., 16.,  5.,\n",
       "          16., 12.,  0., 15., 15.,  5.,  3.,  3., 14.,  3.,  3.,  3.,  3.,\n",
       "           9.,  3., 10.,  3.,  3., 14.,  3.,  3.,  3.,  3.,  2.,  9., 14.,\n",
       "          15.,  3.,  3.,  9.,  9.,  0.,  9., 14.,  3.,  5., 15.,  3.,  3.,\n",
       "           3.,  8.,  9., 15., 12.,  0.,  0.,  3., 15.,  0.,  4.,  9.,  2.,\n",
       "           3.,  3.,  3.,  3.,  3.,  5.,  3.,  3.,  3., 14.,  9.,  3.,  2.,\n",
       "          12., 12.,  3.,  3.,  3.,  9.,  3.,  9.,  9.,  2.,  3.,  9.,  9.,\n",
       "           0.,  3., 10.,  9.,  2., 14.,  5.,  3.,  3.,  3.,  3.,  5.,  3.,\n",
       "           9.,  3.,  8.,  9., 12.,  3.,  0., 12.,  3.,  2.,  2., 19., 15.,\n",
       "           3.,  3.,  3.,  3., 13.,  3., 10.,  3.,  9.,  9., 13.,  3.,  3.,\n",
       "           9.,  3.,  2.,  3.,  3.,  3.,  5.,  0.,  5., 10.,  3.,  5.,  2.,\n",
       "           5.,  3.,  3.,  3.,  6.,  3., 14.,  0.,  9.,  2., 14., 15.,  9.,\n",
       "           4.,  9.,  2.,  3.,  9.,  3., 12., 14.,  3.,  3., 12.,  3.,  3.,\n",
       "           3.,  2., 15.,  3.,  9.,  9.,  8., 10.,  5., 11.,  3.,  5.,  3.,\n",
       "           9.,  3.,  9.,  3.,  3.,  5.,  2., 13., 12., 14.,  9.,  5., 16.,\n",
       "           9.,  9.,  8.,  3.,  3.,  2., 12.,  3.,  3.,  3., 10.,  9.,  0.,\n",
       "          12.,  3.,  3.,  3., 10., 12.,  9.,  9.,  9.,  3., 12., 12.,  3.,\n",
       "          14., 12., 15.,  3.,  3.,  3.,  5., 10.,  9.,  3.,  3.,  3., 10.,\n",
       "          14.,  0., 14., 10.,  3., 11., 14.,  3.,  5.,  0., 12., 11., 14.,\n",
       "           9., 11., 10., 19.,  3.,  9.,  1., 14., 20., 14., 11., 11., 19.,\n",
       "          14., 12., 14.,  9., 16., 10., 13., 14., 16., 19., 16., 19.])),\n",
       "  (<1230x33417 sparse matrix of type '<class 'numpy.float64'>'\n",
       "   \twith 1546239 stored elements in Compressed Sparse Row format>,\n",
       "   3,\n",
       "   array([14.,  7., 10., ..., 19., 19., 16.])),\n",
       "  (<708x33417 sparse matrix of type '<class 'numpy.float64'>'\n",
       "   \twith 1025966 stored elements in Compressed Sparse Row format>,\n",
       "   3,\n",
       "   array([15., 14., 13.,  9., 12.,  3., 14., 15.,  9.,  2.,  3., 11., 13.,\n",
       "           9.,  3., 10., 10.,  9.,  2., 10.,  0.,  2.,  9.,  3.,  3., 12.,\n",
       "           9.,  9., 14.,  3., 14.,  3.,  9.,  9., 10.,  9.,  5.,  9.,  3.,\n",
       "           3., 14., 13.,  9.,  0.,  3., 13., 10., 10., 12.,  6., 14.,  3.,\n",
       "           9., 11.,  3., 10., 14., 14.,  5., 14.,  5.,  9.,  9.,  9.,  9.,\n",
       "           5., 10.,  5.,  8., 14.,  2., 10.,  9.,  9.,  5., 12., 12., 14.,\n",
       "          10.,  9.,  3.,  9.,  9., 10.,  6., 10.,  9.,  5., 14., 14.,  5.,\n",
       "          11.,  3.,  9.,  3., 10.,  9., 11., 10., 14., 14.,  9.,  2.,  9.,\n",
       "           9.,  3.,  2.,  3.,  9.,  2., 10.,  9.,  9.,  9.,  2.,  9., 15.,\n",
       "           9., 14.,  9.,  3.,  9., 10.,  9., 10., 10.,  9.,  3., 12.,  9.,\n",
       "          14., 12.,  9., 14.,  3.,  2.,  9., 12.,  9., 16.,  9.,  9.,  3.,\n",
       "          10.,  9., 14.,  9., 10.,  9.,  5., 10., 14.,  3., 14.,  9., 14.,\n",
       "          12.,  9., 14.,  9., 12., 10., 14., 14.,  3., 12.,  9., 10.,  3.,\n",
       "           9.,  5.,  3., 10., 10.,  9.,  9., 14., 10.,  9., 14.,  9.,  9.,\n",
       "          14.,  2., 14.,  2.,  5.,  9.,  9., 14.,  9., 16.,  9., 10., 13.,\n",
       "          14., 19.,  5., 14.,  3., 14.,  9., 10.,  9.,  9., 15., 10.,  9.,\n",
       "           9., 14., 14., 10.,  9.,  9.,  3., 10.,  3.,  0.,  9., 14.,  9.,\n",
       "           9.,  9., 10.,  9., 12.,  9., 14.,  9., 14., 11., 10.,  9.,  9.,\n",
       "          10., 12., 14.,  9.,  9., 11., 14., 10.,  9., 16., 14.,  9., 14.,\n",
       "          14.,  9.,  2.,  9., 16., 19., 14., 10.,  9., 10.,  9., 10.,  9.,\n",
       "           9., 10.,  9., 13.,  9., 11., 10.,  2., 10.,  9.,  9.,  9.,  9.,\n",
       "          19., 10., 16.,  9., 11., 14.,  5., 10., 12., 10., 10., 12.,  9.,\n",
       "           9., 14., 10., 12., 14., 14., 10., 11.,  5., 14., 14., 14.,  5.,\n",
       "          14., 19., 14.,  9., 11.,  0., 13.,  9.,  9.,  5., 14., 10., 14.,\n",
       "           9.,  9.,  1.,  9.,  9., 10.,  9., 14.,  9., 10.,  9., 14.,  9.,\n",
       "           9., 15.,  9.,  9., 19.,  9.,  9.,  9., 14., 14.,  5.,  9.,  5.,\n",
       "           5., 10.,  9., 10.,  9., 14., 10., 10.,  9., 10.,  9., 10., 14.,\n",
       "           5.,  5., 11.,  9., 19.,  9., 14., 14., 19., 14., 14.,  9., 15.,\n",
       "          19.,  9.,  9.,  9.,  2., 19., 10., 14., 10., 10., 19.,  9., 11.,\n",
       "           5., 19., 19., 19., 19., 12., 13.,  2.,  0.,  9.,  9., 14.,  3.,\n",
       "           9.,  3.,  2., 10.,  9., 12.,  2., 12.,  3.,  3., 14.,  3.,  9.,\n",
       "          10.,  3., 14.,  3.,  9.,  2.,  9.,  5.,  2., 13., 10.,  5.,  9.,\n",
       "           3.,  5.,  5.,  9.,  9.,  9.,  5., 10., 10.,  3., 10.,  9.,  9.,\n",
       "          14.,  9.,  9.,  3., 11., 10., 13., 11.,  3.,  3.,  6., 12.,  2.,\n",
       "           9.,  5.,  9.,  9.,  3., 10., 14.,  3.,  9., 10.,  9., 10.,  3.,\n",
       "           9., 10.,  9.,  5., 10.,  9.,  9., 14.,  3., 14.,  5.,  3., 14.,\n",
       "          14.,  0.,  9.,  7., 14.,  9., 10.,  9.,  9.,  9.,  9.,  9.,  9.,\n",
       "           3.,  9.,  9., 12., 10.,  9., 14., 10.,  2.,  5., 10.,  9.,  9.,\n",
       "           9., 14.,  3.,  9., 11., 13.,  9., 10., 10.,  9.,  3.,  5., 19.,\n",
       "          14.,  5.,  5., 14.,  9., 10., 14., 12.,  5.,  5., 14.,  5.,  9.,\n",
       "          14., 14.,  9.,  5., 14., 10.,  9.,  3.,  0., 14.,  9., 13., 10.,\n",
       "          12.,  9.,  9., 14., 13., 14.,  2.,  3., 14., 10., 11.,  2., 10.,\n",
       "          13.,  9.,  9.,  3.,  2.,  5., 10.,  9.,  9.,  3.,  2.,  9., 16.,\n",
       "           5., 10.,  5.,  3., 14.,  9., 14.,  9.,  5., 10., 10., 14., 14.,\n",
       "          11.,  3., 14., 12., 14.,  9., 10.,  9.,  3.,  9.,  9., 14., 11.,\n",
       "           9., 14.,  9.,  2., 10.,  3.,  9.,  9., 10., 14.,  9.,  9., 14.,\n",
       "          14., 14., 14.,  5.,  2.,  9., 11., 14.,  3., 10.,  9.,  9., 14.,\n",
       "          11.,  5., 16., 14.,  9., 14., 14.,  9., 14., 10., 10.,  9.,  9.,\n",
       "          13., 10., 14.,  9.,  9., 14., 14., 14., 14., 19.,  3.,  5.,  9.,\n",
       "          14.,  9., 10., 10., 19.,  9., 11., 13.,  9., 14.,  9.,  5.,  5.,\n",
       "          14., 19., 10., 14.,  5., 19.,  9., 10., 16., 10., 14.,  5.,  9.,\n",
       "          14., 10., 10.,  9.,  9., 14., 12.,  9.,  9., 14.,  9., 14., 14.,\n",
       "           9., 11.,  9., 14., 10., 14., 10., 10., 10., 10., 14., 14., 12.,\n",
       "          11., 14., 13., 16., 11.,  9., 14.,  9., 16., 14.,  5., 19., 10.,\n",
       "           9.,  9.,  5.,  5.,  3., 16.])),\n",
       "  (<1911x33417 sparse matrix of type '<class 'numpy.float64'>'\n",
       "   \twith 2735769 stored elements in Compressed Sparse Row format>,\n",
       "   3,\n",
       "   array([15.,  3.,  2., ..., 10., 16., 11.])),\n",
       "  (<1265x33417 sparse matrix of type '<class 'numpy.float64'>'\n",
       "   \twith 1729288 stored elements in Compressed Sparse Row format>,\n",
       "   3,\n",
       "   array([ 1.,  3.,  3., ..., 19., 19., 19.])),\n",
       "  (<1259x33417 sparse matrix of type '<class 'numpy.float64'>'\n",
       "   \twith 2145958 stored elements in Compressed Sparse Row format>,\n",
       "   3,\n",
       "   array([ 3., 14.,  3., ..., 19.,  4., 19.])),\n",
       "  (<1984x33417 sparse matrix of type '<class 'numpy.float64'>'\n",
       "   \twith 3114115 stored elements in Compressed Sparse Row format>,\n",
       "   3,\n",
       "   array([ 9.,  2.,  2., ...,  2., 16., 19.])),\n",
       "  (<858x33417 sparse matrix of type '<class 'numpy.float64'>'\n",
       "   \twith 1515910 stored elements in Compressed Sparse Row format>,\n",
       "   3,\n",
       "   array([ 3.,  1.,  1.,  2.,  1.,  1.,  1.,  3.,  3.,  1.,  1.,  1.,  3.,\n",
       "           9., 13., 17., 11.,  1.,  1.,  3., 15.,  1.,  3.,  0., 12.,  3.,\n",
       "           3.,  3.,  3., 12.,  1.,  3.,  3.,  1.,  1.,  1.,  1.,  1.,  1.,\n",
       "           1.,  1., 12.,  9.,  1.,  1.,  1., 11., 14.,  1.,  3.,  3.,  1.,\n",
       "           1.,  3.,  3., 10.,  7.,  9.,  3.,  3.,  1.,  3.,  1.,  1.,  1.,\n",
       "           5.,  9., 10.,  3.,  1.,  3.,  1.,  1.,  3.,  1.,  1., 15.,  3.,\n",
       "          10.,  1.,  9.,  3.,  3., 13.,  1.,  3.,  3.,  1.,  1.,  1.,  3.,\n",
       "           1.,  8.,  3.,  1.,  5.,  1.,  3., 15.,  1.,  1.,  1., 13.,  3.,\n",
       "           7.,  1.,  3.,  3.,  1.,  1.,  9.,  1.,  9., 10.,  1.,  3.,  3.,\n",
       "           3.,  1.,  1.,  0.,  3.,  4.,  9.,  9.,  3., 13.,  3., 12.,  1.,\n",
       "           3.,  3.,  9.,  1.,  1.,  1.,  1., 10.,  1.,  3.,  9.,  1., 12.,\n",
       "          12.,  1.,  3.,  4.,  1.,  3.,  3.,  1.,  3.,  1., 10.,  3.,  1.,\n",
       "           3.,  3.,  3., 14.,  3., 14.,  1.,  4.,  3., 14.,  1.,  1.,  3.,\n",
       "           4.,  1.,  1.,  9.,  1., 13., 13., 13.,  1.,  3.,  1.,  1.,  1.,\n",
       "           1.,  1.,  3.,  1.,  3.,  1., 11., 12.,  1.,  1.,  1.,  3.,  1.,\n",
       "           1., 13.,  1., 13., 16.,  1.,  9., 14., 15.,  3.,  3.,  1.,  1.,\n",
       "           3.,  1.,  3.,  1.,  3.,  1.,  1.,  1.,  3.,  3.,  1.,  1.,  1.,\n",
       "           1.,  5.,  1.,  5.,  9.,  3.,  4.,  2.,  1.,  3.,  1., 14.,  1.,\n",
       "           3.,  9.,  3.,  3.,  3.,  1.,  1., 13.,  9.,  1.,  1.,  7.,  3.,\n",
       "           1.,  1.,  3., 14.,  1.,  1.,  1.,  1.,  1.,  3.,  3.,  1.,  3.,\n",
       "          13.,  1.,  3.,  1.,  1.,  3.,  1.,  3.,  1.,  1., 13.,  1., 14.,\n",
       "           1.,  5.,  1.,  3.,  1.,  1.,  1., 10., 16.,  3.,  1., 11.,  0.,\n",
       "           3., 16., 13.,  1.,  1.,  1.,  1.,  3.,  5.,  1.,  9.,  9., 14.,\n",
       "           3.,  5.,  3., 14., 11.,  1., 12.,  1.,  1.,  1., 19., 11.,  1.,\n",
       "          10., 13., 19.,  9.,  1., 14.,  1.,  1.,  4.,  9.,  1.,  3., 10.,\n",
       "           1.,  1.,  1.,  5.,  3., 10.,  3.,  1., 11.,  1.,  3.,  3.,  3.,\n",
       "           1.,  1.,  1., 14.,  1., 13.,  1., 13., 10., 13., 10., 12., 14.,\n",
       "          14.,  1.,  5.,  3.,  3.,  1., 14.,  3.,  1.,  3.,  1.,  9.,  9.,\n",
       "          10.,  3.,  3., 10.,  1.,  1., 14., 13.,  9.,  3.,  1., 14.,  1.,\n",
       "           1.,  3., 19.,  1.,  3.,  3.,  9.,  1.,  9.,  3., 13.,  1.,  5.,\n",
       "           3.,  9., 11.,  5.,  9., 16., 10., 16.,  1., 14.,  3.,  5.,  1.,\n",
       "          10.,  4., 10.,  9.,  3., 10., 15.,  5., 12.,  1.,  1.,  1., 11.,\n",
       "           9.,  9., 12.,  3.,  1.,  3., 13.,  3.,  1., 10.,  3.,  3.,  1.,\n",
       "           3.,  3.,  3.,  1.,  5.,  3.,  1.,  3.,  1.,  1.,  1.,  4.,  3.,\n",
       "          15.,  4.,  3.,  9.,  1.,  5.,  3.,  1.,  1.,  3.,  1.,  3.,  5.,\n",
       "          10., 11.,  1., 14.,  3.,  1.,  1.,  1.,  3., 12., 12.,  1., 12.,\n",
       "           1., 10.,  3.,  1.,  3.,  3.,  4.,  3.,  3.,  9.,  1.,  3., 10.,\n",
       "           3.,  1., 12.,  1.,  3.,  3., 13., 11.,  3.,  3.,  1.,  3.,  3.,\n",
       "           1.,  9.,  1.,  3.,  1.,  3.,  3.,  3.,  1., 12.,  3.,  9.,  1.,\n",
       "           1., 10.,  1.,  3.,  1., 10.,  1., 11.,  3., 12., 15., 12., 12.,\n",
       "           3., 16., 12.,  5.,  5., 13.,  0.,  3., 12.,  3.,  3.,  3.,  3.,\n",
       "          13.,  3.,  1., 11.,  9.,  1.,  3., 17.,  1., 14.,  1.,  3.,  3.,\n",
       "          12.,  3.,  3.,  9., 12.,  3.,  9.,  1.,  1., 13.,  3.,  1.,  9.,\n",
       "           1.,  3.,  9.,  1.,  9.,  1.,  1.,  1.,  1.,  3.,  1.,  3.,  1.,\n",
       "           1.,  4.,  3.,  3.,  1.,  3.,  1.,  3.,  1., 14.,  1.,  1., 13.,\n",
       "           1.,  1.,  3.,  3.,  5.,  1.,  1.,  3.,  1.,  1.,  3.,  1.,  1.,\n",
       "           1.,  1., 12.,  9.,  1., 10.,  1.,  0.,  3.,  3.,  1.,  1.,  3.,\n",
       "          13.,  1.,  3., 10.,  1.,  1.,  1.,  9.,  1.,  5., 10.,  1.,  3.,\n",
       "           3.,  3., 10., 19.,  1.,  9.,  1.,  9.,  1.,  3.,  1.,  5.,  1.,\n",
       "          12.,  3.,  1.,  1.,  1., 14.,  3.,  1.,  9.,  3.,  1., 16., 12.,\n",
       "          14.,  3.,  3.,  3.,  3.,  1.,  9., 10.,  5.,  9., 13.,  3.,  9.,\n",
       "           5.,  1.,  1., 10.,  1., 12.,  3.,  3.,  1.,  3.,  1., 14.,  3.,\n",
       "          12.,  1., 13.,  9.,  3.,  3., 14., 10., 11., 14.,  3.,  3.,  3.,\n",
       "           1.,  3.,  1.,  1.,  1.,  3.,  1.,  4.,  1., 12., 13.,  1.,  1.,\n",
       "           3.,  5.,  3.,  1.,  3.,  9.,  1.,  3.,  1.,  1.,  9., 10., 10.,\n",
       "           5.,  3.,  1., 11.,  3.,  3.,  4.,  9., 10., 19.,  2.,  1.,  3.,\n",
       "          14., 13.,  3.,  3.,  1.,  1.,  9., 10.,  1.,  9., 14.,  1., 14.,\n",
       "           3.,  9.,  3.,  1., 10.,  3.,  3.,  1., 12.,  9., 13.,  1.,  3.,\n",
       "           1.,  1., 14.,  1.,  3.,  3.,  3., 14.,  1.,  3.,  3.,  9.,  1.,\n",
       "          14., 13.,  3.,  3., 14.,  9.,  1., 13.,  1.,  3.,  3.,  9.,  3.,\n",
       "          14.,  5.,  9., 13., 14.,  3.,  3.,  1., 10.,  3., 14.,  9.,  1.,\n",
       "          10.,  3., 19., 19.,  3., 13., 13., 10.,  3.,  9.,  3., 19., 13.,\n",
       "           1.,  3.,  3., 10.,  5.,  3.,  3.,  9., 19., 19., 11., 14.,  1.,\n",
       "          11., 14.,  9., 10., 11., 19., 16., 11.,  3.,  1.,  1.,  1.,  9.,\n",
       "          11., 10., 14.,  3., 19.,  9.,  9., 11., 10.,  9.,  0.,  9.,  5.,\n",
       "          13.,  1., 19., 10.,  3., 11., 14., 10., 11., 13., 16., 19., 19.])),\n",
       "  (<1472x33417 sparse matrix of type '<class 'numpy.float64'>'\n",
       "   \twith 2300700 stored elements in Compressed Sparse Row format>,\n",
       "   3,\n",
       "   array([2., 2., 2., ..., 1., 2., 2.])),\n",
       "  (<1104x33417 sparse matrix of type '<class 'numpy.float64'>'\n",
       "   \twith 1632976 stored elements in Compressed Sparse Row format>,\n",
       "   3,\n",
       "   array([12.,  3., 10., ...,  3., 10., 19.])),\n",
       "  (<2882x33417 sparse matrix of type '<class 'numpy.float64'>'\n",
       "   \twith 3641670 stored elements in Compressed Sparse Row format>,\n",
       "   3,\n",
       "   array([12., 10., 10., ..., 19., 19., 14.])),\n",
       "  (<890x33417 sparse matrix of type '<class 'numpy.float64'>'\n",
       "   \twith 821779 stored elements in Compressed Sparse Row format>,\n",
       "   3,\n",
       "   array([ 1., 15., 12.,  9.,  1.,  5., 15.,  9.,  1.,  2.,  1., 12.,  1.,\n",
       "           9.,  1.,  1., 10., 15.,  9., 12.,  9.,  1.,  1.,  1., 15.,  2.,\n",
       "           5.,  9.,  1., 15., 15., 12.,  1.,  5.,  5., 15.,  1., 15., 15.,\n",
       "          15.,  1.,  5., 15.,  1.,  1.,  9.,  1., 15.,  1.,  1., 15., 15.,\n",
       "           2., 15.,  9.,  5., 13., 15., 12.,  1., 15., 15.,  5.,  9., 13.,\n",
       "           1.,  9., 10.,  1., 12., 15.,  1.,  2., 15.,  1., 14.,  2., 14.,\n",
       "          15., 12., 10., 15.,  7., 15., 12., 15.,  9.,  1.,  9.,  9., 15.,\n",
       "           1.,  9.,  2.,  9.,  5., 15.,  9.,  1.,  2.,  1.,  1.,  5.,  9.,\n",
       "           1.,  1., 13., 19.,  9., 15., 15.,  2.,  1.,  1.,  9.,  1., 15.,\n",
       "           1., 14.,  1.,  1.,  5.,  9., 15.,  1.,  9., 15., 14.,  9.,  3.,\n",
       "          14., 12.,  5., 15.,  2.,  5.,  9.,  9.,  5.,  1.,  9., 10., 10.,\n",
       "           2.,  1.,  2.,  1.,  5.,  1.,  3., 11.,  5.,  1., 15., 15.,  1.,\n",
       "          14.,  5.,  1.,  1.,  2., 10.,  9., 15.,  3.,  5., 15., 10.,  9.,\n",
       "           9.,  2., 13.,  1.,  1., 15.,  2.,  1.,  5., 19.,  2.,  2., 15.,\n",
       "           1.,  9.,  3.,  9., 15.,  5., 11.,  1., 15.,  1.,  1.,  1., 15.,\n",
       "           5., 15.,  2.,  9.,  2., 10., 10.,  1., 10.,  9.,  9., 12.,  1.,\n",
       "           5.,  2., 10.,  1.,  9.,  9.,  1.,  2.,  9.,  1.,  5., 19.,  9.,\n",
       "           3., 15.,  9.,  9.,  9.,  7., 13.,  9.,  2.,  1., 15.,  2.,  1.,\n",
       "          16.,  2.,  9., 15., 10.,  1.,  1.,  1.,  2.,  7.,  9.,  5.,  5.,\n",
       "           2.,  1., 10.,  9.,  1.,  9.,  9.,  2.,  1.,  5.,  2., 10.,  9.,\n",
       "           1.,  1.,  9.,  9.,  5.,  1., 10.,  9.,  2., 10.,  9.,  1., 15.,\n",
       "          10.,  9.,  1., 13., 15.,  9.,  9.,  1.,  1., 13., 10., 16., 10.,\n",
       "           9., 14.,  9.,  1.,  1.,  3., 13.,  1., 10.,  2., 15.,  1.,  1.,\n",
       "           5., 10.,  5.,  1.,  9.,  9.,  9.,  5.,  1.,  9.,  9., 10., 15.,\n",
       "           9., 15.,  1.,  1., 14.,  9., 10.,  9.,  2., 10.,  9.,  9., 15.,\n",
       "           2.,  2.,  1.,  9., 15.,  9.,  2.,  1., 14.,  9.,  9.,  9.,  2.,\n",
       "          15.,  1.,  9., 15., 13.,  2.,  2.,  1.,  9., 14.,  1.,  1., 10.,\n",
       "           2., 15.,  1.,  2.,  9.,  1.,  1.,  9.,  9.,  1.,  2.,  1.,  2.,\n",
       "           1.,  9.,  1., 15., 12.,  9.,  5.,  1., 14.,  1.,  9.,  3.,  2.,\n",
       "           9.,  2.,  9.,  2.,  1.,  5., 10.,  5.,  5., 15.,  9.,  9.,  1.,\n",
       "           9., 15.,  1., 16.,  9.,  1.,  5., 10., 10.,  2.,  1.,  5.,  5.,\n",
       "           1.,  9.,  1.,  1., 16.,  2.,  5.,  9.,  5.,  9.,  9.,  1.,  5.,\n",
       "           1.,  5., 14.,  9.,  5.,  9.,  3.,  2.,  2.,  9., 10.,  5., 10.,\n",
       "           1., 10., 14., 10.,  2.,  1.,  9.,  5.,  9.,  5.,  1.,  5., 13.,\n",
       "           1.,  5., 15.,  9.,  1., 15.,  2.,  5., 16.,  8.,  9., 10.,  5.,\n",
       "           1.,  1.,  9.,  9.,  9., 13.,  9.,  5.,  9., 10.,  9.,  5., 13.,\n",
       "          16.,  8.,  2.,  1.,  5., 10.,  5.,  1.,  9.,  9.,  1.,  9.,  9.,\n",
       "          16.,  9.,  5., 14.,  1.,  5.,  5.,  5., 10.,  2.,  9.,  5., 15.,\n",
       "           1.,  1., 14.,  1., 11.,  9., 14.,  1.,  5.,  5., 10.,  5., 10.,\n",
       "           9., 10.,  9.,  5., 13.,  9.,  5., 13.,  9.,  5.,  5.,  9.,  9.,\n",
       "           9., 11.,  9.,  5.,  9.,  9.,  1., 13., 14.,  9.,  9.,  9.,  9.,\n",
       "          10.,  5., 16.,  5., 10., 10., 10.,  9.,  5.,  9., 16.,  9.,  9.,\n",
       "          10., 13., 14.,  9., 19.,  5.,  5.,  9.,  5.,  9.,  9.,  9.,  2.,\n",
       "          10., 15.,  2.,  2.,  1.,  1., 15.,  9.,  1., 15.,  1.,  9., 13.,\n",
       "           1., 15.,  1.,  1.,  2.,  2.,  9.,  9., 10., 15.,  8., 12.,  9.,\n",
       "          15.,  9.,  1.,  1.,  2.,  1.,  9.,  9., 15.,  1.,  9.,  2.,  5.,\n",
       "           9., 15., 15., 15.,  9.,  1.,  1., 10., 15.,  1.,  1.,  1., 16.,\n",
       "          12.,  1.,  1.,  1., 13.,  1.,  1., 10.,  1.,  9., 15.,  1.,  1.,\n",
       "           2., 15.,  9., 15.,  7.,  2.,  9., 15., 10., 19.,  9.,  2.,  1.,\n",
       "           2.,  1.,  1., 14., 10., 12.,  2.,  1.,  1.,  9., 15.,  2., 15.,\n",
       "           1.,  9.,  2.,  2.,  2., 10.,  2.,  9., 15.,  2.,  1.,  1.,  9.,\n",
       "          15., 13.,  2., 15.,  9., 15.,  1.,  2.,  2., 19.,  1.,  1.,  1.,\n",
       "           1.,  9.,  8.,  9.,  1., 15.,  1., 15., 10.,  1., 14.,  1.,  1.,\n",
       "           9.,  1.,  1.,  2.,  1.,  1.,  1.,  1.,  1., 10., 15.,  9.,  1.,\n",
       "           2., 10., 10.,  9.,  1.,  3., 10.,  2.,  2., 16.,  9.,  1.,  2.,\n",
       "           1.,  1.,  9.,  1.,  5.,  9.,  2.,  9.,  1.,  2.,  3.,  2.,  1.,\n",
       "          14.,  9.,  9.,  9.,  3.,  9.,  9.,  1.,  9.,  5., 14.,  2., 10.,\n",
       "           1., 13.,  2.,  9.,  1., 10.,  2., 15.,  9.,  9.,  9.,  9.,  1.,\n",
       "           1.,  1., 10.,  1.,  1.,  1.,  3.,  5.,  9., 13.,  9.,  1.,  1.,\n",
       "          10.,  1., 14.,  9., 15.,  1., 12.,  5., 14.,  3.,  1., 10., 19.,\n",
       "           1.,  1.,  5.,  9.,  9., 14.,  2.,  1., 15.,  1., 16.,  9.,  9.,\n",
       "          12.,  1.,  1.,  5.,  1.,  1.,  9.,  9.,  9.,  1.,  1.,  1.,  1.,\n",
       "          10.,  2.,  2.,  1.,  9.,  1.,  9.,  1.,  9., 13., 19.,  1.,  8.,\n",
       "           1.,  9.,  1., 15., 14.,  1.,  5., 10., 10.,  1.,  1.,  2.,  9.,\n",
       "           5.,  5.,  9.,  2.,  9.,  1., 10.,  5., 10.,  1.,  1.,  9.,  1.,\n",
       "           9.,  9.,  2.,  9.,  9.,  1.,  5.,  1., 10.,  9.,  9.,  9., 10.,\n",
       "           5.,  9.,  9., 15.,  1.,  9.,  9.,  5.,  9., 16.,  9.,  1.,  9.,\n",
       "          16.,  1.,  9.,  9., 10.,  9.,  9.,  9., 10.,  9., 10.,  9.,  9.,\n",
       "          10.,  9.,  9., 14.,  9., 14.])),\n",
       "  (<3847x33417 sparse matrix of type '<class 'numpy.float64'>'\n",
       "   \twith 3684213 stored elements in Compressed Sparse Row format>,\n",
       "   3,\n",
       "   array([12.,  9.,  3., ...,  9., 10.,  9.])),\n",
       "  (<1489x33417 sparse matrix of type '<class 'numpy.float64'>'\n",
       "   \twith 1074224 stored elements in Compressed Sparse Row format>,\n",
       "   3,\n",
       "   array([13.,  9., 12., ..., 10.,  9.,  9.])),\n",
       "  (<4248x33417 sparse matrix of type '<class 'numpy.float64'>'\n",
       "   \twith 3554199 stored elements in Compressed Sparse Row format>,\n",
       "   3,\n",
       "   array([ 1., 13.,  1., ...,  1.,  2., 13.])),\n",
       "  (<5926x33417 sparse matrix of type '<class 'numpy.float64'>'\n",
       "   \twith 6389622 stored elements in Compressed Sparse Row format>,\n",
       "   3,\n",
       "   array([ 2., 12.,  2., ..., 16., 16.,  9.])),\n",
       "  (<434x33417 sparse matrix of type '<class 'numpy.float64'>'\n",
       "   \twith 264624 stored elements in Compressed Sparse Row format>,\n",
       "   3,\n",
       "   array([ 9.,  2., 19.,  2., 10.,  9., 16.,  2.,  9.,  2., 13.,  9.,  5.,\n",
       "           9., 19., 10., 13., 14.,  9.,  1.,  2., 10.,  2., 10.,  9.,  1.,\n",
       "           9.,  9.,  2., 13., 10., 14., 10., 10.,  2., 10.,  9.,  9.,  9.,\n",
       "           9.,  9., 10.,  9., 10., 19.,  2.,  3., 14.,  9.,  2.,  2., 10.,\n",
       "          12.,  9.,  9., 19., 10., 13.,  9.,  1., 13., 13., 10., 13.,  9.,\n",
       "           2.,  9., 10., 13., 13.,  2.,  2.,  9., 10., 10.,  3.,  3.,  2.,\n",
       "           9.,  2., 16.,  9.,  9.,  9., 19., 10., 10., 13., 10., 16.,  2.,\n",
       "          13.,  9.,  9.,  2., 19.,  9., 10.,  2., 13.,  9., 10., 13., 12.,\n",
       "           9.,  9.,  9.,  9., 10.,  3.,  9., 10., 10.,  9., 10.,  9.,  9.,\n",
       "           9., 10.,  2.,  2., 10., 11.,  9.,  9.,  8., 10.,  2.,  2.,  9.,\n",
       "          13.,  9., 15., 10., 10.,  9.,  9.,  1.,  9., 10.,  9.,  9., 10.,\n",
       "           9.,  9., 12., 10., 13.,  9., 11., 13., 13.,  9., 14., 10., 10.,\n",
       "          13., 10.,  9.,  9., 10.,  9.,  1.,  9., 10., 13., 13., 10., 10.,\n",
       "           3., 14., 10., 13.,  9., 13.,  9., 10.,  9., 10., 10.,  9., 10.,\n",
       "           9.,  9., 13., 14.,  9., 14., 10., 10., 13.,  9.,  2.,  2.,  9.,\n",
       "           9.,  9., 16., 11.,  9., 10., 10.,  9.,  9., 10.,  1.,  9.,  9.,\n",
       "          14.,  9., 10.,  9.,  9.,  9., 10., 10., 14., 14., 13.,  5., 10.,\n",
       "          10., 13., 10., 10., 19.,  9.,  9.,  9., 14.,  2.,  9., 14.,  2.,\n",
       "           2.,  9.,  9.,  9.,  1.,  9.,  9.,  2.,  2.,  9.,  9.,  9.,  9.,\n",
       "          13.,  9.,  9.,  9.,  3.,  9.,  9.,  9.,  9.,  9.,  9.,  2.,  1.,\n",
       "           2.,  9., 10.,  9.,  9.,  9.,  9., 10.,  9.,  9.,  9.,  9., 10.,\n",
       "           2.,  9.,  9., 10.,  9.,  9.,  9., 14.,  9., 10.,  9., 14.,  9.,\n",
       "          10.,  9.,  9.,  9., 13.,  2., 10.,  9., 10., 10.,  9.,  9.,  9.,\n",
       "           9.,  9., 13.,  9.,  9., 13.,  9., 10.,  9.,  2.,  9.,  9.,  9.,\n",
       "          10.,  9.,  9.,  9., 10.,  2.,  9.,  9.,  9.,  9., 10.,  9.,  9.,\n",
       "           9.,  9., 14.,  9.,  2.,  9.,  9.,  9.,  2.,  2.,  9., 10.,  9.,\n",
       "           9.,  9.,  9.,  9.,  9.,  9.,  9.,  9.,  9., 13.,  9.,  9.,  9.,\n",
       "           9.,  9.,  2., 10.,  9.,  9.,  9.,  9., 14.,  9.,  9., 10.,  9.,\n",
       "           9.,  3.,  9.,  9., 10.,  9., 13., 10., 14.,  9.,  9., 10., 10.,\n",
       "          13.,  9.,  9., 10.,  9.,  9.,  9.,  9., 10., 13.,  9.,  9.,  9.,\n",
       "           9.,  9.,  9.,  9.,  9.,  9., 15.,  9., 10., 10.,  9.,  9.,  9.,\n",
       "          10.,  9., 10.,  9.,  9.,  9., 10.,  9.,  9.,  9.,  9.,  9., 14.,\n",
       "          10., 10.,  9., 10.,  9., 10.,  9.,  9.,  9.,  9.,  9., 14.,  1.,\n",
       "          10., 10., 10.,  9.,  9.])),\n",
       "  (<1734x33417 sparse matrix of type '<class 'numpy.float64'>'\n",
       "   \twith 2085292 stored elements in Compressed Sparse Row format>,\n",
       "   3,\n",
       "   array([ 9.,  5., 13., ...,  5., 10., 14.])),\n",
       "  (<2710x33417 sparse matrix of type '<class 'numpy.float64'>'\n",
       "   \twith 4872699 stored elements in Compressed Sparse Row format>,\n",
       "   3,\n",
       "   array([ 3., 12.,  2., ..., 19., 19.,  2.])),\n",
       "  (<6300x33417 sparse matrix of type '<class 'numpy.float64'>'\n",
       "   \twith 9669055 stored elements in Compressed Sparse Row format>,\n",
       "   3,\n",
       "   array([ 3., 19.,  3., ..., 19.,  3., 19.])),\n",
       "  (<456x33417 sparse matrix of type '<class 'numpy.float64'>'\n",
       "   \twith 712963 stored elements in Compressed Sparse Row format>,\n",
       "   3,\n",
       "   array([12.,  9., 13.,  9., 13., 10.,  9., 10., 10.,  9.,  9.,  9.,  9.,\n",
       "           2., 12., 10., 10., 10.,  9., 10.,  9.,  3.,  4., 10., 12.,  9.,\n",
       "           3.,  9.,  9., 13., 11., 12., 12., 19., 10.,  9., 10., 13.,  9.,\n",
       "           9., 12.,  9., 12.,  2., 10.,  9.,  9.,  3., 11., 13., 15.,  9.,\n",
       "           9.,  9., 13.,  9., 13.,  9., 10.,  6., 13., 10., 10.,  9., 10.,\n",
       "          13., 13., 11.,  3., 13., 10., 10.,  9.,  0.,  9.,  9., 13.,  9.,\n",
       "          14., 10., 13.,  9., 13., 13., 10.,  9., 13., 12., 10., 10., 13.,\n",
       "           9.,  9.,  9., 16.,  9., 14., 10.,  9., 10., 10., 13.,  9.,  9.,\n",
       "          10.,  9., 10., 10., 13.,  9.,  9.,  9., 13., 14., 10.,  9., 12.,\n",
       "           4., 10., 10., 10.,  9.,  5.,  4.,  4., 10., 10.,  9., 13.,  9.,\n",
       "          10., 13.,  6.,  9., 13., 10., 12., 10., 10.,  9., 11., 12.,  9.,\n",
       "          13.,  3.,  9.,  9., 10., 13.,  9., 19.,  9.,  9.,  9., 13., 19.,\n",
       "           9.,  0.,  9., 12.,  6.,  9., 11.,  9., 13., 13.,  9.,  9., 10.,\n",
       "          10.,  9., 10.,  9.,  9., 13., 13.,  9., 12., 13., 19.,  9.,  9.,\n",
       "           9., 19.,  9., 13.,  9., 13.,  9.,  9.,  9., 10., 10., 10., 10.,\n",
       "          10., 12., 10., 13., 13., 19., 13.,  9., 19.,  9.,  9., 13., 10.,\n",
       "          10., 19., 10., 12., 10., 14., 10.,  9., 10.,  9., 11., 10., 10.,\n",
       "          10., 13.,  9., 10.,  9.,  9., 19.,  6., 10., 19., 19.,  9., 10.,\n",
       "           1., 19.,  9., 12.,  9.,  9.,  9., 11.,  9., 10., 13., 16., 13.,\n",
       "           6., 14., 10.,  9., 10., 10., 10.,  9., 10., 10.,  9.,  9., 13.,\n",
       "           3.,  6., 10., 10., 12.,  9., 13.,  9., 10.,  9., 10., 13., 12.,\n",
       "           9.,  9., 15.,  9., 12.,  9., 10.,  9.,  0., 10., 12., 12.,  9.,\n",
       "          13., 10., 13., 10., 10.,  9.,  2., 13.,  9., 10.,  9.,  9.,  9.,\n",
       "          11., 10., 10.,  9., 10., 13., 12., 13., 13., 13.,  9.,  9., 13.,\n",
       "          10., 12.,  9.,  9., 10.,  9.,  2., 10., 10., 10., 13., 13., 10.,\n",
       "          13., 18.,  9., 11.,  9., 12.,  9.,  9.,  9.,  9., 10.,  9., 10.,\n",
       "          14., 13.,  9., 13.,  9., 19.,  9.,  9., 13.,  9., 10., 13., 13.,\n",
       "           9., 13., 13., 13.,  6., 12.,  9.,  9., 11.,  5., 13., 10., 13.,\n",
       "           9., 13., 11., 10.,  9., 12., 13., 12.,  6.,  9., 19., 19., 13.,\n",
       "          10.,  9.,  6.,  9.,  9.,  9.,  6., 10.,  9.,  9.,  9.,  9., 10.,\n",
       "          10., 10.,  9., 11., 12., 13.,  0.,  5., 10., 13., 10., 13., 13.,\n",
       "          10.,  9., 13., 19., 10.,  9.,  9.,  9., 13., 13.,  9., 19., 19.,\n",
       "          13., 12., 10., 13., 13.,  9., 13.,  9.,  9.,  9.,  5.,  9., 19.,\n",
       "           2.,  9., 13., 11., 19., 19.,  9.,  9., 19., 10., 12., 10., 19.,\n",
       "          19.,  9., 19., 19.,  9., 19.,  9., 13., 19., 19., 19.,  5., 10.,\n",
       "          19.])),\n",
       "  (<2944x33417 sparse matrix of type '<class 'numpy.float64'>'\n",
       "   \twith 4380506 stored elements in Compressed Sparse Row format>,\n",
       "   3,\n",
       "   array([ 3.,  3.,  3., ...,  5.,  0., 19.])),\n",
       "  (<674x33417 sparse matrix of type '<class 'numpy.float64'>'\n",
       "   \twith 920801 stored elements in Compressed Sparse Row format>,\n",
       "   3,\n",
       "   array([ 5.,  3.,  3.,  7.,  9., 12.,  4.,  0.,  3.,  6.,  5.,  3.,  3.,\n",
       "           9.,  3.,  3.,  3.,  9.,  5.,  3., 13.,  3., 13.,  2.,  3.,  5.,\n",
       "           3.,  6.,  1.,  3.,  5.,  3.,  3., 12.,  2.,  5.,  3.,  2.,  2.,\n",
       "           3.,  3.,  3.,  1.,  5.,  5.,  1.,  3.,  3.,  3.,  3.,  3.,  3.,\n",
       "           3.,  9.,  3.,  7.,  4.,  5.,  3.,  3.,  1., 12.,  3.,  0.,  3.,\n",
       "           1.,  1.,  1.,  0.,  5.,  3.,  2.,  3.,  3.,  0.,  0.,  3.,  3.,\n",
       "           9., 16.,  3.,  1.,  3.,  3.,  2.,  5.,  3.,  1.,  3.,  3.,  3.,\n",
       "           5.,  3.,  3.,  3.,  4.,  0.,  9.,  1.,  3.,  3., 13.,  4.,  3.,\n",
       "           3.,  9.,  2.,  3.,  5.,  9.,  3.,  3.,  3.,  3.,  3.,  3.,  3.,\n",
       "          14.,  3.,  5.,  5.,  3.,  4.,  3.,  5., 12.,  5.,  4.,  1.,  5.,\n",
       "           9.,  9.,  5.,  4.,  3.,  2.,  5.,  5.,  3., 12.,  3.,  5.,  3.,\n",
       "           6.,  5., 10.,  1.,  3.,  3.,  2.,  3.,  5.,  9.,  3.,  3.,  9.,\n",
       "           2.,  2.,  3.,  3.,  5.,  3.,  5.,  0., 10.,  3.,  2.,  2.,  3.,\n",
       "           5.,  5.,  3.,  3.,  3.,  2.,  0.,  0.,  1.,  3.,  3., 19.,  5.,\n",
       "           1., 10.,  9., 12.,  9., 12., 17.,  3.,  1.,  3.,  1.,  3.,  3.,\n",
       "           5.,  1.,  1.,  3.,  4.,  9.,  5.,  3.,  5.,  9.,  3.,  3.,  1.,\n",
       "           3.,  3.,  3.,  3.,  3., 12.,  1.,  2., 12.,  3.,  4.,  6.,  3.,\n",
       "           3.,  3., 19.,  5.,  0.,  3.,  3.,  3.,  3.,  4.,  5.,  5.,  9.,\n",
       "           5.,  3.,  5.,  3.,  2., 10.,  0.,  3.,  5.,  1., 12.,  3.,  4.,\n",
       "           5.,  3.,  5.,  5.,  3.,  3.,  2.,  2.,  1., 10., 10., 13.,  3.,\n",
       "           5.,  3.,  9., 14.,  5.,  3.,  0.,  9.,  2., 12.,  1.,  9.,  3.,\n",
       "           3.,  3.,  5.,  5.,  5.,  3.,  2.,  3.,  5., 10., 12.,  3.,  5.,\n",
       "           5.,  9., 10.,  3.,  3.,  4., 14.,  5.,  9.,  0.,  5.,  0.,  9.,\n",
       "          10.,  0., 10.,  3., 13.,  9.,  5.,  3.,  1.,  1., 10.,  9.,  9.,\n",
       "           5.,  5.,  3.,  5.,  1.,  3.,  5.,  5., 10.,  3.,  5.,  9.,  3.,\n",
       "           0., 13., 13., 10.,  9.,  5.,  3.,  5.,  3.,  9.,  9.,  3.,  5.,\n",
       "           9.,  5.,  5.,  9., 10.,  5.,  9.,  9.,  2.,  5.,  5., 10., 10.,\n",
       "           5.,  5.,  5.,  2.,  5.,  5.,  5.,  5.,  5., 10., 10.,  5.,  5.,\n",
       "           9., 19.,  5., 10., 10.,  5.,  9.,  3.,  5.,  4., 10.,  9.,  4.,\n",
       "           5.,  1.,  9.,  3.,  3.,  3.,  2.,  4.,  3., 10.,  9.,  2., 13.,\n",
       "           2.,  9.,  9.,  9.,  5., 13.,  0.,  9.,  0.,  3.,  3.,  2., 10.,\n",
       "           4.,  3.,  9.,  3.,  9.,  4.,  3.,  5.,  3.,  4.,  0.,  2.,  3.,\n",
       "          17.,  3.,  9.,  2., 15.,  3., 10.,  3.,  4.,  0.,  3., 17.,  9.,\n",
       "          10.,  3., 10.,  3., 17.,  5.,  0.,  5.,  3.,  3.,  9.,  3.,  6.,\n",
       "           5.,  2., 12.,  3.,  5.,  6.,  3.,  0.,  4.,  3.,  3.,  3.,  3.,\n",
       "           3.,  4.,  4.,  3.,  0.,  0.,  3.,  4.,  9.,  3.,  0., 10.,  3.,\n",
       "           5.,  3., 10.,  3., 13.,  3.,  2.,  3., 17.,  3.,  2.,  3.,  4.,\n",
       "           4.,  0.,  3.,  3., 19., 14.,  3.,  5.,  0.,  3., 10., 14., 12.,\n",
       "           3., 10.,  5.,  9., 10.,  9., 19.,  3.,  5., 13.,  3., 20.,  3.,\n",
       "           3.,  4.,  7.,  2.,  9.,  3.,  9.,  9.,  1.,  3.,  3.,  5.,  9.,\n",
       "           3.,  9.,  3.,  5.,  2., 14.,  3.,  2., 10.,  1.,  3.,  3.,  5.,\n",
       "           3.,  3.,  3.,  3.,  3.,  3.,  5.,  5.,  4., 19.,  2.,  3., 10.,\n",
       "           2., 14.,  5.,  9.,  3.,  3.,  9.,  5.,  9.,  3.,  3.,  5.,  9.,\n",
       "           3.,  9.,  7.,  3.,  3.,  5.,  0.,  1.,  3.,  1.,  1.,  3.,  1.,\n",
       "           3.,  5., 10.,  3.,  9.,  3.,  9.,  3., 16.,  3.,  5.,  5.,  5.,\n",
       "           9.,  9.,  3., 10.,  9.,  3.,  9.,  9.,  9.,  9.,  4.,  9., 14.,\n",
       "          10., 11.,  3.,  9.,  2.,  3.,  3.,  4., 10.,  9., 10.,  1.,  5.,\n",
       "          18., 10.,  9.,  0.,  9.,  9.,  9.,  9.,  3.,  9.,  3.,  9.,  5.,\n",
       "           3.,  4.,  3., 15.,  7., 10., 13.,  5.,  5.,  9.,  3.,  5.,  5.,\n",
       "          14., 10.,  5., 14.,  3.,  9.,  9.,  3.,  9.,  9., 19., 13.,  5.,\n",
       "          16.,  3.,  2.,  2., 14., 13.,  5.,  6.,  5., 13.,  9.,  5.,  5.,\n",
       "           5.,  3., 18., 18., 19.,  5., 10., 19.,  5.,  1.,  5.]))]]"
      ]
     },
     "execution_count": 18,
     "metadata": {},
     "output_type": "execute_result"
    }
   ],
   "source": [
    "Xall"
   ]
  },
  {
   "cell_type": "code",
   "execution_count": 37,
   "id": "215ad845",
   "metadata": {},
   "outputs": [
    {
     "name": "stdout",
     "output_type": "stream",
     "text": [
      "['0' '3' '4' '5' '7']\n",
      "25\n",
      "25\n"
     ]
    }
   ],
   "source": [
    "label = le.fit_transform(adata.obs[\"Condition\"])\n",
    "print(np.unique(adata.obs[\"Condition\"]))\n",
    "label = label-1\n",
    "#cohort2\n",
    "Xall = []\n",
    "state = []\n",
    "samples = np.unique(adata.obs.ID[adata.obs.Condition == 'Mild'])\n",
    "X_ = []\n",
    "print(len(samples))\n",
    "for sample in samples:\n",
    "    x = adata_x[adata.obs.ID == sample,:]\n",
    "    y= label[adata.obs.ID == sample][0] \n",
    "    y_= adata.obs[\"new_order\"][adata.obs.ID == sample].values \n",
    "    X_.append((x,y_))\n",
    "X = list(map(lambda x: (x[0], y, x[1]), X_))\n",
    "state.append('Mild')\n",
    "Xall.append(X)\n",
    "\n",
    "samples = np.unique(adata.obs.ID[adata.obs.Condition == 'Severe'])\n",
    "print(len(samples))\n",
    "\n",
    "X_ = []\n",
    "for sample in samples:\n",
    "    x = adata_x[adata.obs.ID == sample,:]\n",
    "    y= label[adata.obs.ID == sample][0] \n",
    "    y_= adata.obs[\"new_order\"][adata.obs.ID == sample].values \n",
    "    X_.append((x,y_))\n",
    "X = list(map(lambda x: (x[0], y, x[1]), X_))\n",
    "state.append('Severe')\n",
    "Xall.append(X)\n",
    "with open(\"../../2cohorts/chr2chr1/Xall_neu.pkl\", \"wb\") as f:\n",
    "            pickle.dump(Xall, f)\n",
    "with open( \"../../2cohorts/chr2chr1/state_neu.pkl\", \"wb\") as f:\n",
    "            pickle.dump(state, f)\n",
    "with open(\"../../2cohorts/chr2chr1/Call_neu.pkl\", \"wb\") as f:\n",
    "            pickle.dump(adata_c, f)"
   ]
  },
  {
   "cell_type": "code",
   "execution_count": null,
   "id": "0e33c22f",
   "metadata": {},
   "outputs": [],
   "source": [
    "with open(\"../../2cohorts/chr2chr1_42/Call__.pkl\", \"wb\") as f:\n",
    "            pickle.dump(adata_c, f)"
   ]
  },
  {
   "cell_type": "code",
   "execution_count": 76,
   "id": "acc8f7aa",
   "metadata": {},
   "outputs": [],
   "source": [
    "df= pd.read_csv('../scripts/marker_cohort2')\n",
    "feat = df.groupby('cluster').head(20)     \n"
   ]
  },
  {
   "cell_type": "code",
   "execution_count": 77,
   "id": "ee567efb",
   "metadata": {},
   "outputs": [
    {
     "data": {
      "text/plain": [
       "array(['IL7R', 'TCF7', 'LTB', 'MAL', 'LEF1', 'RCAN3', 'TRAC', 'LDHB',\n",
       "       'TRBC2', 'CCR7', 'CD3E', 'AC245427.1', 'RPS12', 'DGKA', 'PIM2',\n",
       "       'BCL11B', 'TRABD2A', 'PCED1B-AS1', 'ETS1', 'AQP3', 'MAFB', 'RGCC',\n",
       "       'C5AR1', 'CXCL8', 'DUSP6', 'PLAUR', 'CD14', 'FCN1', 'LYZ',\n",
       "       'S100A9', 'VCAN', 'IL1B', 'G0S2', 'SGK1', 'KLF4', 'FOS', 'PSAP',\n",
       "       'CLEC7A', 'FTH1', 'PLBD1', 'CCL5', 'CD8A', 'GZMH', 'NKG7', 'TRGC2',\n",
       "       'GZMA', 'IL32', 'CST7', 'DUSP2', 'CD8B', 'CD3G', 'GZMK', 'FGFBP2',\n",
       "       'KLRG1', 'CD2', 'RUNX3', 'TRAC', 'CD3D', 'CD3E', 'ARL4C', 'GNLY',\n",
       "       'PRF1', 'FGFBP2', 'SPON2', 'NKG7', 'GZMB', 'IL2RB', 'KLRF1',\n",
       "       'CTSW', 'KLRD1', 'CST7', 'GZMA', 'CCL4', 'CCL5', 'RUNX3', 'SH2D1B',\n",
       "       'KLRB1', 'CD7', 'CX3CR1', 'FCGR3A', 'IFI27', 'IFI6', 'IFITM3',\n",
       "       'CLU', 'RNASE2', 'CD163', 'FCER1G', 'ISG15', 'SIGLEC1', 'APOBEC3A',\n",
       "       'MS4A4A', 'S100A9', 'FTL', 'PLBD1', 'SPI1', 'PSAP', 'MX1', 'CTSB',\n",
       "       'SELL', 'CCR1', 'MS4A1', 'CD79A', 'IGHM', 'IGHD', 'BANK1', 'CD22',\n",
       "       'RALGPS2', 'PAX5', 'FAM129C', 'CD74', 'HLA-DQB1', 'FCRL1',\n",
       "       'LINC00926', 'AFF3', 'HLA-DQA1', 'CD83', 'MEF2C', 'BACH2',\n",
       "       'HLA-DRA', 'BIRC3', 'LYZ', 'FGL2', 'MS4A6A', 'CTSS', 'AP1S2',\n",
       "       'MPEG1', 'CPVL', 'CST3', 'MNDA', 'TNFAIP2', 'HLA-DRA', 'HLA-DRB5',\n",
       "       'HLA-DRB1', 'CD302', 'FCN1', 'KCTD12', 'AIF1', 'CYBB', 'EGR1',\n",
       "       'TGFBI', 'IGHGP', 'FOSB', 'VCAN', 'IGKC', 'FCN1', 'S100A9', 'LYZ',\n",
       "       'S100A8', 'FOS', 'PSAP', 'PLAUR', 'NAMPT', 'CD14', 'CXCL8',\n",
       "       'S100A12', 'TYROBP', 'C5AR1', 'DUSP6', 'CST3', 'CELF2', 'FCGR3B',\n",
       "       'CSF3R', 'CXCR2', 'IFITM2', 'BASP1', 'SLC25A37', 'IL1R2', 'G0S2',\n",
       "       'CD177', 'NAMPT', 'PROK2', 'SOD2', 'GCA', 'ALPL', 'MME', 'KCNJ15',\n",
       "       'CXCR1', 'LIMK2', 'VNN2', 'FAM129A', 'CD247', 'TSHZ2', 'PDE3B',\n",
       "       'ARHGAP15', 'SKAP1', 'LINC-PINT', 'ZBTB20', 'MAML2', 'PRKCH',\n",
       "       'ANK3', 'SMYD3', 'INPP4B', 'FHIT', 'LINC01619', 'KLF12',\n",
       "       'RABGAP1L', 'PRKCA', 'DOCK10', 'LRBA', 'BTBD9', 'CDKN1C', 'FCGR3A',\n",
       "       'MS4A7', 'LST1', 'TCF7L2', 'CSF1R', 'AIF1', 'COTL1', 'SMIM25',\n",
       "       'PECAM1', 'LILRB2', 'SIGLEC10', 'HLA-DPA1', 'WARS', 'HMOX1',\n",
       "       'LRRC25', 'NR4A1', 'LYN', 'CUX1', 'CST3', 'IGKC', 'JCHAIN',\n",
       "       'IGHA1', 'IGHG1', 'IGLC2', 'IGHGP', 'IGLC3', 'IGHG3', 'IGHA2',\n",
       "       'IGHG2', 'IGHG4', 'MZB1', 'HSP90B1', 'AC244205.1', 'ITM2C',\n",
       "       'SEC11C', 'IGLL5', 'POU2AF1', 'ENAM', 'XBP1', 'STMN1', 'TUBA1B',\n",
       "       'TUBB', 'TYMS', 'HMGB2', 'MKI67', 'PCNA', 'DUT', 'HIST1H4C',\n",
       "       'TOP2A', 'GZMA', 'MCM4', 'SMC4', 'H2AFZ', 'GZMB', 'NUSAP1', 'RRM2',\n",
       "       'NASP', 'CENPF', 'MCM3', 'LTF', 'DEFA3', 'LCN2', 'CAMP', 'BPI',\n",
       "       'DEFA4', 'PGLYRP1', 'CEACAM8', 'MMP8', 'AZU1', 'CRISP3', 'CD24',\n",
       "       'MPO', 'TCN1', 'RETN', 'S100A8', 'CHI3L1', 'ELANE', 'RNASE3',\n",
       "       'ANXA3', 'PF4', 'PPBP', 'NRGN', 'TUBB1', 'AC068234.1', 'MPIG6B',\n",
       "       'CAVIN2', 'SPARC', 'ITGA2B', 'HIST1H2AC', 'PRKAR2B', 'RUFY1',\n",
       "       'F13A1', 'RGS18', 'MYL9', 'MTURN', 'VCL', 'TREML1', 'MMD',\n",
       "       'TRIM58', 'HBB', 'HBA2', 'HBA1', 'HBD', 'CA1', 'SLC25A37', 'SNCA',\n",
       "       'ALAS2', 'TRIM58', 'SLC25A39', 'SLC4A1', 'DMTN', 'AHSP', 'HBM',\n",
       "       'FAM210B', 'ADIPOR1', 'GMPR', 'MXI1', 'DCAF12', 'IFI27', 'FCER1A',\n",
       "       'HLA-DQA1', 'HLA-DPA1', 'CD1C', 'HLA-DRA', 'HLA-DPB1', 'HLA-DRB1',\n",
       "       'CD74', 'HLA-DQB1', 'HLA-DRB5', 'CST3', 'CLEC10A', 'NAPSB',\n",
       "       'HLA-DMB', 'HLA-DMA', 'PEA15', 'HLA-DOA', 'CCDC88A', 'HLA-DQA2',\n",
       "       'CD86', 'MS4A1', 'CD79A', 'IGHM', 'IGHD', 'BANK1', 'CD22', 'PAX5',\n",
       "       'FAM129C', 'FCRL1', 'LINC00926', 'TNFRSF13C', 'RALGPS2', 'FCRLA',\n",
       "       'VPREB3', 'BLK', 'HLA-DOB', 'HLA-DQA1', 'CD19', 'TCL1A', 'FCER2',\n",
       "       'IRF8', 'ITM2C', 'TCF4', 'PLD4', 'CCDC50', 'SERPINF1', 'C1orf186',\n",
       "       'UGCG', 'APP', 'LILRA4', 'IRF7', 'GZMB', 'NAPSB', 'SMPD3',\n",
       "       'BCL11A', 'SOX4', 'TSPAN13', 'IRF4', 'PTGDS', 'FAM129C', 'CDK6',\n",
       "       'SOX4', 'CD34', 'MYB', 'MTURN', 'LAPTM4B', 'SPINK2', 'GATA2',\n",
       "       'SMIM24', 'NREP', 'STMN1', 'ITM2C', 'FHL1', 'FCER1A', 'AL157895.1',\n",
       "       'TSC22D1', 'CPA3', 'FAM30A', 'CYTL1', 'NPR3', 'CLC', 'FCER1A',\n",
       "       'CSF2RB', 'GATA2', 'HDC', 'MS4A3', 'MS4A2', 'AKAP12', 'CPA3',\n",
       "       'CCR3', 'GCSAML', 'SLC45A3', 'ENPP3', 'AC111000.4', 'PTGDR2',\n",
       "       'ITGB8', 'IL1RL1', 'CA8', 'SLC24A3', 'TNFSF11'], dtype=object)"
      ]
     },
     "execution_count": 77,
     "metadata": {},
     "output_type": "execute_result"
    }
   ],
   "source": [
    "feat.gene.values"
   ]
  },
  {
   "cell_type": "code",
   "execution_count": 78,
   "id": "952f372c",
   "metadata": {},
   "outputs": [],
   "source": [
    "markers = ['HLA-DRA','HLA-DRB1','LYZ','CST3','TYROBP','AP1S2','CSTA','FCN1','MS4A6A','LST1','CYBB','CTSS','DUSP6','IL1B','SGK1','KLF4','CLEC7A','ATP2B1-AS1','MARCKS',\n",
    "'SAT1','MYADM','IFI27','IFITM3','ISG15','APOBEC3A','IFI6','TNFSF10','MT2A','MX1','IFIT3','MNDA','S100A12','S100A9','S100A8','MAFB','VCAN','PLBD1','CXCL8',\n",
    "'RNASE2','FCGR3A','MS4A7','CDKN1C','AIF1','COTL1','FCER1G','C1QA','RHOC','FCGR3B','IFITM2','NAMPT','G0S2','PROK2','CMTM2',\n",
    "'BASP1','BCL2A1','SLC25A37','DEFA3','LTF','LCN2','CAMP','RETN','DEFA4','CD24','PGLYRP1','OLFM4']"
   ]
  },
  {
   "cell_type": "code",
   "execution_count": 79,
   "id": "3b2afd64",
   "metadata": {},
   "outputs": [
    {
     "data": {
      "text/plain": [
       "array(['CSTA', 'ATP2B1-AS1', 'MARCKS', 'SAT1', 'MYADM', 'TNFSF10', 'MT2A',\n",
       "       'IFIT3', 'C1QA', 'RHOC', 'CMTM2', 'BCL2A1', 'OLFM4'], dtype='<U10')"
      ]
     },
     "execution_count": 79,
     "metadata": {},
     "output_type": "execute_result"
    }
   ],
   "source": [
    "np.array(markers)[np.where(pd.Series(markers).isin(feat.gene.values)== False)[0]]"
   ]
  },
  {
   "cell_type": "code",
   "execution_count": 21,
   "id": "6a595ac6",
   "metadata": {},
   "outputs": [
    {
     "data": {
      "text/plain": [
       "Index(['MT-CO1', 'B2M', 'MT-ND4', 'MT-CO2', 'MT-ATP6', 'MT-CO3', 'MT-ND2',\n",
       "       'GNLY', 'HLA-A', 'ACTB',\n",
       "       ...\n",
       "       'AC245427.5', 'LINC02358', 'LINC02249', 'AC079385.2', 'RN7SL809P',\n",
       "       'AC005915.1', 'TRGJP1', 'CCDC89', 'AP001979.2', 'ISX-AS1'],\n",
       "      dtype='object', length=33417)"
      ]
     },
     "execution_count": 21,
     "metadata": {},
     "output_type": "execute_result"
    }
   ],
   "source": [
    "adata.var.index"
   ]
  },
  {
   "cell_type": "code",
   "execution_count": 27,
   "id": "fc1fecb6",
   "metadata": {},
   "outputs": [],
   "source": [
    "import scanpy as sc\n",
    "import sklearn.model_selection as sks\n",
    "import numpy as np\n",
    "import pandas as pd\n",
    "from sklearn import svm\n",
    "import warnings\n",
    "warnings.filterwarnings(\"ignore\")\n",
    "import matplotlib.pyplot as plt\n",
    "from matplotlib.pyplot import rc_context\n",
    "import sklearn.metrics as skm\n",
    "from itertools import cycle\n",
    "from sklearn.ensemble import RandomForestClassifier\n",
    "import matplotlib.gridspec as gridspec\n",
    "import matplotlib.colors as clr\n",
    "from matplotlib.ticker import MaxNLocator\n",
    "import random\n",
    "import collections\n"
   ]
  },
  {
   "cell_type": "code",
   "execution_count": 28,
   "id": "3e83a9c2",
   "metadata": {},
   "outputs": [
    {
     "data": {
      "text/plain": [
       "65"
      ]
     },
     "execution_count": 28,
     "metadata": {},
     "output_type": "execute_result"
    }
   ],
   "source": [
    "idx_tr= np.where(adata_c.isin (markers))[0]\n",
    "len(idx_tr)"
   ]
  },
  {
   "cell_type": "code",
   "execution_count": 29,
   "id": "ef41644e",
   "metadata": {},
   "outputs": [
    {
     "name": "stdout",
     "output_type": "stream",
     "text": [
      "25\n",
      "18\n",
      "6\n",
      "25\n",
      "18\n",
      "6\n",
      "(88833, 65)\n",
      "(24489, 65)\n"
     ]
    }
   ],
   "source": [
    "Xtrain = list(map(lambda x: (x[0].todense(), *x[1:]), Xtest))\n",
    "gm = collections.defaultdict(list)\n",
    "count_train = collections.defaultdict(int)\n",
    "count_test = collections.defaultdict(int)\n",
    "count_train_s = []\n",
    "count_test_s = []\n",
    "\n",
    "for XX in Xall:\n",
    "    random.shuffle(XX)\n",
    "    Xtrain = list(map(lambda x: (x[0].todense(), *x[1:]), XX))\n",
    "    Xtrain = list(map(lambda x: (x[0][:,idx_tr], *x[1:]), Xtrain))\n",
    "    print(len(Xtrain))\n",
    "    nb = int(len(Xtrain)*0.75)\n",
    "    print(nb)\n",
    "    nb_ = int(len(Xtrain)*0.25)\n",
    "    print(nb_)\n",
    "    \n",
    "    for i in range(nb+1):\n",
    "        X, y, *_ = Xtrain[i]\n",
    "        gm['train'].append(X)\n",
    "        count_train[y] += 1\n",
    "        count_train_s.append(X.shape[0])\n",
    "    for i in range(nb_):\n",
    "        X, y, *_ = Xtrain[i]\n",
    "        gm['test'].append(X)\n",
    "        count_test[y] += 1   \n",
    "        count_test_s.append(X.shape[0])\n",
    "for state in gm:\n",
    "        gm[state] = np.concatenate(gm[state])\n",
    "        print(gm[state].shape)"
   ]
  },
  {
   "cell_type": "code",
   "execution_count": 31,
   "id": "7b56741b",
   "metadata": {},
   "outputs": [
    {
     "name": "stdout",
     "output_type": "stream",
     "text": [
      "Best: 0.600193 using {'C': 1.0, 'class_weight': 'balanced', 'loss': 'squared_hinge'}\n"
     ]
    }
   ],
   "source": [
    "c_values = [1.0,  2.0]\n",
    "class_weight = ['balanced', None]\n",
    "loss = ['hinge', 'squared_hinge']\n",
    "hyperparam_grid = dict(C=c_values,loss= loss, class_weight= class_weight)\n",
    "s = svm.LinearSVC(random_state=42)\n",
    "clf = sks.GridSearchCV(s,hyperparam_grid,scoring='f1',cv=5, refit=True)\n",
    "a= np.zeros(sum(count_train_s[:count_train[0]]))\n",
    "y_train=np.append(a,np.ones(sum(count_train_s[count_train[0]:])) )\n",
    "grid_result = clf.fit(gm['train'], y_train)\n",
    "print(\"Best: %f using %s\" % (grid_result.best_score_, grid_result.best_params_))\n"
   ]
  },
  {
   "cell_type": "code",
   "execution_count": 35,
   "id": "3ebf45af",
   "metadata": {},
   "outputs": [],
   "source": [
    "pred=clf.decision_function(gm['test'])\n",
    "a= np.zeros(sum(count_test_s[:count_test[0]]))\n",
    "y_true=np.append(a,np.ones(sum(count_test_s[count_test[0]:])) )\n"
   ]
  },
  {
   "cell_type": "code",
   "execution_count": 36,
   "id": "67f3217c",
   "metadata": {},
   "outputs": [
    {
     "data": {
      "text/plain": [
       "[1028, 2708, 3745, 1037, 1479, 2177, 1472, 2710, 2077, 4248, 1489, 319]"
      ]
     },
     "execution_count": 36,
     "metadata": {},
     "output_type": "execute_result"
    }
   ],
   "source": [
    "count_test_s"
   ]
  },
  {
   "cell_type": "code",
   "execution_count": 37,
   "id": "05908790",
   "metadata": {},
   "outputs": [
    {
     "name": "stdout",
     "output_type": "stream",
     "text": [
      "2708\n",
      "1028\n",
      "llllllllllllll\n",
      "3745\n",
      "3736\n",
      "llllllllllllll\n",
      "1037\n",
      "7481\n",
      "llllllllllllll\n",
      "1479\n",
      "8518\n",
      "llllllllllllll\n",
      "2177\n",
      "9997\n",
      "llllllllllllll\n",
      "1472\n",
      "12174\n",
      "llllllllllllll\n",
      "2710\n",
      "13646\n",
      "llllllllllllll\n",
      "2077\n",
      "16356\n",
      "llllllllllllll\n",
      "4248\n",
      "18433\n",
      "llllllllllllll\n",
      "1489\n",
      "22681\n",
      "llllllllllllll\n",
      "319\n",
      "24170\n",
      "llllllllllllll\n"
     ]
    }
   ],
   "source": [
    "pred_agg=[]\n",
    "y_t=[]\n",
    "a= np.zeros(sum(count_test_s[:count_test[0]]))\n",
    "for ii in range(len(count_test_s)):\n",
    "    if ii ==0:\n",
    "        pred_agg.append(np.mean(pred[:count_test_s[ii]]))\n",
    "        y_t.append(np.mean(y_true[:count_test_s[ii]]))\n",
    "\n",
    "    else:\n",
    "        print(count_test_s[ii])\n",
    "        iiii=ii-1\n",
    "        iii = sum(count_test_s[:ii])\n",
    "        print(iii)\n",
    "        pred_agg.append(np.mean(pred[iii:iii+count_test_s[ii]]))\n",
    "        y_t.append(np.mean(y_true[iii:iii+count_test_s[ii]]))\n",
    "        print(\"llllllllllllll\")"
   ]
  },
  {
   "cell_type": "code",
   "execution_count": 38,
   "id": "0006ab7e",
   "metadata": {},
   "outputs": [
    {
     "data": {
      "text/plain": [
       "[0.0, 0.0, 0.0, 0.0, 0.0, 0.0, 1.0, 1.0, 1.0, 1.0, 1.0, 1.0]"
      ]
     },
     "execution_count": 38,
     "metadata": {},
     "output_type": "execute_result"
    }
   ],
   "source": [
    "y_t"
   ]
  },
  {
   "cell_type": "code",
   "execution_count": 41,
   "id": "0bcb0252",
   "metadata": {},
   "outputs": [
    {
     "data": {
      "text/plain": [
       "[0.031958049675530426,\n",
       " -0.3384929314005813,\n",
       " -0.25662555897561523,\n",
       " -0.32976074574396674,\n",
       " -0.18010466960997149,\n",
       " -0.2843863206010569,\n",
       " 0.3343458916234422,\n",
       " 0.38928797042669255,\n",
       " 0.3479847507483358,\n",
       " 0.2868161598284406,\n",
       " -0.055523898245770247,\n",
       " 0.09490253149928353]"
      ]
     },
     "execution_count": 41,
     "metadata": {},
     "output_type": "execute_result"
    }
   ],
   "source": [
    "pred_agg"
   ]
  },
  {
   "cell_type": "code",
   "execution_count": 40,
   "id": "a438786e",
   "metadata": {},
   "outputs": [
    {
     "data": {
      "image/png": "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\n",
      "text/plain": [
       "<Figure size 432x288 with 1 Axes>"
      ]
     },
     "metadata": {
      "needs_background": "light"
     },
     "output_type": "display_data"
    }
   ],
   "source": [
    "    classes_=[0,1]\n",
    "    fpr, tpr, _ = skm.roc_curve(y_t,  pred_agg)\n",
    "    auc = skm.roc_auc_score(y_t,  pred_agg)\n",
    "\n",
    "    #create ROC curve\n",
    "    plt.plot(fpr,tpr,label=\"AUC=\"+str(auc))\n",
    "    plt.ylabel('True Positive Rate')\n",
    "    plt.xlabel('False Positive Rate')\n",
    "    plt.legend(loc=4)\n",
    "    plt.show()"
   ]
  },
  {
   "cell_type": "code",
   "execution_count": 46,
   "id": "9959f6c2",
   "metadata": {},
   "outputs": [
    {
     "data": {
      "text/plain": [
       "65"
      ]
     },
     "execution_count": 46,
     "metadata": {},
     "output_type": "execute_result"
    }
   ],
   "source": [
    "idx_te= np.where(adata1_c.isin (markers))[0]\n",
    "len(idx_te)"
   ]
  },
  {
   "cell_type": "code",
   "execution_count": 47,
   "id": "2f2abac7",
   "metadata": {},
   "outputs": [
    {
     "name": "stdout",
     "output_type": "stream",
     "text": [
      "27\n",
      "(48266, 65)\n"
     ]
    }
   ],
   "source": [
    "XX = list(map(lambda x: (x[0].todense(), *x[1:]), Xtest))\n",
    "gm2 = collections.defaultdict(list)\n",
    "count_test2 = collections.defaultdict(int)\n",
    "count_test2_s = []\n",
    "Xtest_ = list(map(lambda x: (x[0][:,idx_te], *x[1:]), XX))\n",
    "print(len(Xtest_))\n",
    "for X, y, *_ in Xtest_:\n",
    "        gm2['test'].append(X)\n",
    "        count_test2[y] += 1   \n",
    "        count_test2_s.append(X.shape[0])\n",
    "for state in gm2:\n",
    "        gm2[state] = np.concatenate(gm2[state])\n",
    "        print(gm2[state].shape)"
   ]
  },
  {
   "cell_type": "code",
   "execution_count": 49,
   "id": "69a0cab5",
   "metadata": {},
   "outputs": [],
   "source": [
    "pred2=clf.decision_function(gm2['test'])\n",
    "a= np.zeros(sum(count_test2_s[:count_test2[0]]))\n",
    "y_true2=np.append(a,np.ones(sum(count_test2_s[count_test2[0]:])) )\n"
   ]
  },
  {
   "cell_type": "code",
   "execution_count": 55,
   "id": "1a979baf",
   "metadata": {},
   "outputs": [
    {
     "name": "stdout",
     "output_type": "stream",
     "text": [
      "1812\n",
      "1191\n",
      "llllllllllllll\n",
      "932\n",
      "3003\n",
      "llllllllllllll\n",
      "448\n",
      "3935\n",
      "llllllllllllll\n",
      "2936\n",
      "4383\n",
      "llllllllllllll\n",
      "629\n",
      "7319\n",
      "llllllllllllll\n",
      "741\n",
      "7948\n",
      "llllllllllllll\n",
      "2084\n",
      "8689\n",
      "llllllllllllll\n",
      "2878\n",
      "10773\n",
      "llllllllllllll\n",
      "875\n",
      "13651\n",
      "llllllllllllll\n",
      "1302\n",
      "14526\n",
      "llllllllllllll\n",
      "2524\n",
      "15828\n",
      "llllllllllllll\n",
      "970\n",
      "18352\n",
      "llllllllllllll\n",
      "1451\n",
      "19322\n",
      "llllllllllllll\n",
      "938\n",
      "20773\n",
      "llllllllllllll\n",
      "1132\n",
      "21711\n",
      "llllllllllllll\n",
      "2371\n",
      "22843\n",
      "llllllllllllll\n",
      "1777\n",
      "25214\n",
      "llllllllllllll\n",
      "2992\n",
      "26991\n",
      "llllllllllllll\n",
      "3394\n",
      "29983\n",
      "llllllllllllll\n",
      "1829\n",
      "33377\n",
      "llllllllllllll\n",
      "1132\n",
      "35206\n",
      "llllllllllllll\n",
      "3288\n",
      "36338\n",
      "llllllllllllll\n",
      "2823\n",
      "39626\n",
      "llllllllllllll\n",
      "273\n",
      "42449\n",
      "llllllllllllll\n",
      "1755\n",
      "42722\n",
      "llllllllllllll\n",
      "3789\n",
      "44477\n",
      "llllllllllllll\n"
     ]
    }
   ],
   "source": [
    "pred_agg2=[]\n",
    "y_t2=[]\n",
    "for ii in range(len(count_test2_s)):\n",
    "    if ii ==0:\n",
    "        pred_agg2.append(np.mean(pred2[:count_test2_s[ii]]))\n",
    "        y_t2.append(np.mean(y_true2[:count_test2_s[ii]]))\n",
    "\n",
    "    else:\n",
    "        print(count_test2_s[ii])\n",
    "        iiii=ii-1\n",
    "        iii = sum(count_test2_s[:ii])\n",
    "        print(iii)\n",
    "        pred_agg2.append(np.mean(pred2[iii:iii+count_test2_s[ii]]))\n",
    "        y_t2.append(np.mean(y_true2[iii:iii+count_test2_s[ii]]))\n",
    "        print(\"llllllllllllll\")"
   ]
  },
  {
   "cell_type": "code",
   "execution_count": 56,
   "id": "214f7533",
   "metadata": {},
   "outputs": [
    {
     "data": {
      "text/plain": [
       "[0.23848861540967345,\n",
       " -0.24151027035076866,\n",
       " -0.034245794194791686,\n",
       " 0.3754404213728857,\n",
       " -0.11150684386901112,\n",
       " 0.08943368435558242,\n",
       " -0.06958276988040932,\n",
       " 0.008825326100698517,\n",
       " 0.052440570005974754,\n",
       " 0.17460365013478177,\n",
       " -0.11652280596373461,\n",
       " 0.15097798005311258,\n",
       " -0.000763583778828766,\n",
       " 0.22568603922177718,\n",
       " 0.028432779084002883,\n",
       " -0.20411381767193668,\n",
       " 0.18645049064361294,\n",
       " -0.16735953330054654,\n",
       " -0.2929713044247218,\n",
       " 0.1208541708632693,\n",
       " 0.05403596008119617,\n",
       " 0.09376561307391393,\n",
       " 0.0197106617284843,\n",
       " -0.2944990417677424,\n",
       " -0.05600858796581874,\n",
       " -0.2626865907640068,\n",
       " -0.1514661649060238]"
      ]
     },
     "execution_count": 56,
     "metadata": {},
     "output_type": "execute_result"
    }
   ],
   "source": [
    "pred_agg2"
   ]
  },
  {
   "cell_type": "code",
   "execution_count": 57,
   "id": "ab259b5b",
   "metadata": {},
   "outputs": [
    {
     "data": {
      "image/png": "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\n",
      "text/plain": [
       "<Figure size 432x288 with 1 Axes>"
      ]
     },
     "metadata": {
      "needs_background": "light"
     },
     "output_type": "display_data"
    }
   ],
   "source": [
    "    classes_=[0,1]\n",
    "    fpr, tpr, _ = skm.roc_curve(y_t2,  pred_agg2)\n",
    "    auc = skm.roc_auc_score(y_t2,  pred_agg2)\n",
    "\n",
    "    #create ROC curve\n",
    "    plt.plot(fpr,tpr,label=\"AUC=\"+str(auc))\n",
    "    plt.ylabel('True Positive Rate')\n",
    "    plt.xlabel('False Positive Rate')\n",
    "    plt.legend(loc=4)\n",
    "    plt.show()"
   ]
  },
  {
   "cell_type": "code",
   "execution_count": 3,
   "id": "0169e1e2",
   "metadata": {},
   "outputs": [],
   "source": [
    "with open(\"../../2cohorts/chr2chr1/Call.pkl\", \"rb\") as f:\n",
    "            buf = pickle.load(f)"
   ]
  },
  {
   "cell_type": "code",
   "execution_count": 86,
   "id": "bf520fd6",
   "metadata": {},
   "outputs": [],
   "source": [
    "with open(\"../../2cohorts/chr2chr1/Ctest3.pkl\", \"rb\") as f:\n",
    "            but = pickle.load(f)"
   ]
  },
  {
   "cell_type": "code",
   "execution_count": 5,
   "id": "a674c709",
   "metadata": {},
   "outputs": [
    {
     "data": {
      "text/plain": [
       "33417"
      ]
     },
     "execution_count": 5,
     "metadata": {},
     "output_type": "execute_result"
    }
   ],
   "source": [
    "len(buf)"
   ]
  },
  {
   "cell_type": "code",
   "execution_count": 87,
   "id": "7120a8d9",
   "metadata": {},
   "outputs": [
    {
     "data": {
      "text/plain": [
       "31279"
      ]
     },
     "execution_count": 87,
     "metadata": {},
     "output_type": "execute_result"
    }
   ],
   "source": [
    "len(but)"
   ]
  },
  {
   "cell_type": "code",
   "execution_count": 8,
   "id": "7a37ae24",
   "metadata": {},
   "outputs": [],
   "source": [
    "markers= pd.read_csv('../scripts/marker_cohort2')\n",
    "markers[\"avg_log2FC\"] = np.abs(markers[\"avg_log2FC\"])\n",
    "set_clusters=np.unique(markers[\"cluster\"])\n"
   ]
  },
  {
   "cell_type": "code",
   "execution_count": 10,
   "id": "13a4a39f",
   "metadata": {},
   "outputs": [
    {
     "name": "stdout",
     "output_type": "stream",
     "text": [
      "get data\n",
      "data got\n"
     ]
    }
   ],
   "source": [
    "print(\"get data\")\n",
    "df = markers.loc[markers[\"cluster\"].isin(set_clusters),:]\n",
    "feat_tab = df.groupby('cluster')\n",
    "df2= feat_tab.apply(lambda x: x.sort_values([\"avg_log2FC\"], ascending=False)).reset_index(drop=True)\n",
    "feat=df2.groupby('cluster').head(20)\n",
    "print(\"data got\")\n"
   ]
  },
  {
   "cell_type": "code",
   "execution_count": 28,
   "id": "e028b24f",
   "metadata": {},
   "outputs": [
    {
     "ename": "AttributeError",
     "evalue": "'numpy.ndarray' object has no attribute 'isin'",
     "output_type": "error",
     "traceback": [
      "\u001b[0;31m---------------------------------------------------------------------------\u001b[0m",
      "\u001b[0;31mAttributeError\u001b[0m                            Traceback (most recent call last)",
      "\u001b[0;32m<ipython-input-28-aa63c624d7e2>\u001b[0m in \u001b[0;36m<module>\u001b[0;34m\u001b[0m\n\u001b[0;32m----> 1\u001b[0;31m \u001b[0mlen\u001b[0m\u001b[0;34m(\u001b[0m\u001b[0mnp\u001b[0m\u001b[0;34m.\u001b[0m\u001b[0mwhere\u001b[0m\u001b[0;34m(\u001b[0m\u001b[0mnp\u001b[0m\u001b[0;34m.\u001b[0m\u001b[0munique\u001b[0m\u001b[0;34m(\u001b[0m\u001b[0mfeat\u001b[0m\u001b[0;34m.\u001b[0m\u001b[0mgene\u001b[0m\u001b[0;34m)\u001b[0m\u001b[0;34m.\u001b[0m\u001b[0misin\u001b[0m\u001b[0;34m(\u001b[0m\u001b[0mbut\u001b[0m\u001b[0;34m)\u001b[0m \u001b[0;34m==\u001b[0m \u001b[0;32mTrue\u001b[0m\u001b[0;34m)\u001b[0m\u001b[0;34m[\u001b[0m\u001b[0;36m0\u001b[0m\u001b[0;34m]\u001b[0m\u001b[0;34m)\u001b[0m\u001b[0;34m\u001b[0m\u001b[0;34m\u001b[0m\u001b[0m\n\u001b[0m",
      "\u001b[0;31mAttributeError\u001b[0m: 'numpy.ndarray' object has no attribute 'isin'"
     ]
    }
   ],
   "source": [
    "len(np.where(feat.gene.isin(but) == True)[0])"
   ]
  },
  {
   "cell_type": "code",
   "execution_count": 88,
   "id": "77feb54a",
   "metadata": {},
   "outputs": [],
   "source": [
    "idx_te= np.where(but.isin(feat.gene.values))[0]"
   ]
  },
  {
   "cell_type": "code",
   "execution_count": 89,
   "id": "bf6b602d",
   "metadata": {},
   "outputs": [
    {
     "data": {
      "text/plain": [
       "327"
      ]
     },
     "execution_count": 89,
     "metadata": {},
     "output_type": "execute_result"
    }
   ],
   "source": [
    "len(idx_te)"
   ]
  },
  {
   "cell_type": "code",
   "execution_count": 58,
   "id": "a6d34c43",
   "metadata": {},
   "outputs": [
    {
     "data": {
      "text/plain": [
       "AnnData object with n_obs × n_vars = 10648 × 31279\n",
       "    obs: 'sample_id', 'n_genes', 'n_genes_by_counts', 'total_counts', 'total_counts_mt', 'pct_counts_mt', 'leiden', 'initial_clustering', 'Resample', 'Collection_Day', 'patient_id', 'Sex', 'Age', 'Ethnicity', 'Swab_result', 'Status', 'Smoker', 'Status_on_day_collection', 'Status_on_day_collection_summary', 'Status_3_days_post_collection', 'Status_7_days_post_collection', 'Days_from_onset', 'Site', 'time_after_LPS', 'Worst_Clinical_Status', 'Outcome', 'filter_rna', 'has_bcr', 'filter_bcr_quality', 'filter_bcr_heavy', 'filter_bcr_light', 'bcr_QC_pass', 'filter_bcr', 'initial_clustering_B', 'leiden_B', 'leiden_B2', 'celltype_B', 'celltype_B_v2', 'clone_id', 'clone_id_by_size', 'isotype', 'lightchain', 'status', 'vdj_status', 'productive', 'umi_counts_heavy', 'umi_counts_light', 'v_call_heavy', 'v_call_light', 'j_call_heavy', 'j_call_light', 'c_call_heavy', 'c_call_light', 'clone_centrality', 'clone_degree', 'clone_id_size', 'mu_freq_heavy', 'mu_freq_light', 'clone_id_size_max_3', 'clone_network_cluster_size_gini', 'clone_network_vertex_size_gini', 'clone_size_gini', 'clone_centrality_gini', 'junction_heavy', 'junction_light', 'junction_aa_heavy', 'junction_aa_light'\n",
       "    var: 'feature_types', 'highly_variable', 'means', 'dispersions', 'dispersions_norm'\n",
       "    uns: 'Site_colors', 'Status_on_day_collection_summary_colors', 'bcr_QC_pass_colors', 'celltype_B_colors', 'celltype_B_v2_colors', 'filter_bcr_colors', 'hvg', 'initial_clustering_colors', 'leiden', 'leiden_B_colors', 'leiden_colors', 'neighbors', 'pca', 'rank_genes_groups', 'rna_neighbors', 'umap'\n",
       "    obsm: 'X_bcr', 'X_pca', 'X_pca_harmony', 'X_umap'\n",
       "    obsp: 'bcr_connectivities', 'bcr_distances', 'connectivities', 'distances', 'rna_connectivities', 'rna_distances'"
      ]
     },
     "execution_count": 58,
     "metadata": {},
     "output_type": "execute_result"
    }
   ],
   "source": [
    "adata3 = sc.read_h5ad(\"../../data_/COVID19_ALL.h5ad\")\n"
   ]
  },
  {
   "cell_type": "code",
   "execution_count": 34,
   "id": "f4a57efb",
   "metadata": {},
   "outputs": [],
   "source": [
    "sc.pp.normalize_total(adata3, target_sum=1e4)\n",
    "sc.pp.log1p(adata3)"
   ]
  },
  {
   "cell_type": "code",
   "execution_count": 37,
   "id": "f983acf7",
   "metadata": {},
   "outputs": [
    {
     "data": {
      "text/plain": [
       "Index(['A1BG', 'A1BG-AS1', 'A1CF', 'A2M', 'A2M-AS1', 'A2ML1', 'A2ML1-AS2',\n",
       "       'A3GALT2', 'A4GALT', 'A4GNT',\n",
       "       ...\n",
       "       'ZW10', 'ZWILCH', 'ZWINT', 'ZXDA', 'ZXDB', 'ZXDC', 'ZYG11A', 'ZYG11B',\n",
       "       'ZYX', 'ZZEF1'],\n",
       "      dtype='object', length=27943)"
      ]
     },
     "execution_count": 37,
     "metadata": {},
     "output_type": "execute_result"
    }
   ],
   "source": [
    "adata3_c=adata3.var.index\n",
    "adata3_c"
   ]
  },
  {
   "cell_type": "code",
   "execution_count": 38,
   "id": "19f59c15",
   "metadata": {},
   "outputs": [],
   "source": [
    "adata3_x=adata3.X"
   ]
  },
  {
   "cell_type": "code",
   "execution_count": 44,
   "id": "2c4d57fb",
   "metadata": {},
   "outputs": [
    {
     "name": "stdout",
     "output_type": "stream",
     "text": [
      "['control' 'mild/moderate' 'severe/critical']\n"
     ]
    }
   ],
   "source": [
    "print(np.unique(adata3.obs[\"CoVID-19 severity\"]))\n"
   ]
  },
  {
   "cell_type": "code",
   "execution_count": 45,
   "id": "5859d9ec",
   "metadata": {},
   "outputs": [],
   "source": [
    "label = le.fit_transform(adata3.obs[\"CoVID-19 severity\"])\n",
    "label\n",
    "label = label-1\n"
   ]
  },
  {
   "cell_type": "code",
   "execution_count": 50,
   "id": "05c05be5",
   "metadata": {},
   "outputs": [
    {
     "name": "stdout",
     "output_type": "stream",
     "text": [
      "256\n"
     ]
    },
    {
     "ename": "NameError",
     "evalue": "name 'adata1_c' is not defined",
     "output_type": "error",
     "traceback": [
      "\u001b[0;31m---------------------------------------------------------------------------\u001b[0m",
      "\u001b[0;31mNameError\u001b[0m                                 Traceback (most recent call last)",
      "\u001b[0;32m<ipython-input-50-0feb64880ce3>\u001b[0m in \u001b[0;36m<module>\u001b[0;34m\u001b[0m\n\u001b[1;32m     16\u001b[0m             \u001b[0mpickle\u001b[0m\u001b[0;34m.\u001b[0m\u001b[0mdump\u001b[0m\u001b[0;34m(\u001b[0m\u001b[0mXtest\u001b[0m\u001b[0;34m,\u001b[0m \u001b[0mf\u001b[0m\u001b[0;34m)\u001b[0m\u001b[0;34m\u001b[0m\u001b[0;34m\u001b[0m\u001b[0m\n\u001b[1;32m     17\u001b[0m \u001b[0;32mwith\u001b[0m \u001b[0mopen\u001b[0m\u001b[0;34m(\u001b[0m\u001b[0;34m\"../../2cohorts/chr2chr1/Ctest2_all.pkl\"\u001b[0m\u001b[0;34m,\u001b[0m \u001b[0;34m\"wb\"\u001b[0m\u001b[0;34m)\u001b[0m \u001b[0;32mas\u001b[0m \u001b[0mf\u001b[0m\u001b[0;34m:\u001b[0m\u001b[0;34m\u001b[0m\u001b[0;34m\u001b[0m\u001b[0m\n\u001b[0;32m---> 18\u001b[0;31m             \u001b[0mpickle\u001b[0m\u001b[0;34m.\u001b[0m\u001b[0mdump\u001b[0m\u001b[0;34m(\u001b[0m\u001b[0madata1_c\u001b[0m\u001b[0;34m,\u001b[0m \u001b[0mf\u001b[0m\u001b[0;34m)\u001b[0m\u001b[0;34m\u001b[0m\u001b[0;34m\u001b[0m\u001b[0m\n\u001b[0m",
      "\u001b[0;31mNameError\u001b[0m: name 'adata1_c' is not defined"
     ]
    }
   ],
   "source": [
    "#cohort1_xtest\n",
    "\n",
    "\n",
    "Xtest = []\n",
    "samples = np.unique(adata3.obs.sampleID[adata3.obs[\"CoVID-19 severity\"] != 'control'])\n",
    "X_ = []\n",
    "print(len(samples))\n",
    "for sample in samples:\n",
    "    x = adata3_x[adata3.obs.sampleID == sample,:]\n",
    "    y=label[adata3.obs.sampleID == sample][0] \n",
    "    y_= adata3.obs[\"Unpublished\"][adata3.obs.sampleID == sample].values \n",
    "    X_.append((x,y,y_))\n",
    "# X = list(map(lambda x: (x, y, None), X_))\n",
    "Xtest=X_\n",
    "with open(\"../../2cohorts/chr2chr1/Xtest2_all.pkl\", \"wb\") as f:\n",
    "            pickle.dump(Xtest, f)\n"
   ]
  },
  {
   "cell_type": "code",
   "execution_count": 51,
   "id": "62312658",
   "metadata": {},
   "outputs": [],
   "source": [
    "with open(\"../../2cohorts/chr2chr1/Ctest2_all.pkl\", \"wb\") as f:\n",
    "            pickle.dump(adata3_c, f)"
   ]
  },
  {
   "cell_type": "code",
   "execution_count": 76,
   "id": "a029cf34",
   "metadata": {},
   "outputs": [],
   "source": [
    "adata3 = sc.read_h5ad(\"../../data_/BCR_Mild.h5ad\")\n",
    "sc.pp.normalize_total(adata3, target_sum=1e4)\n",
    "sc.pp.log1p(adata3)\n",
    "adata3_c=adata3.var.index\n",
    "adata3_x=adata3.X"
   ]
  },
  {
   "cell_type": "code",
   "execution_count": 77,
   "id": "bd2ccbbe",
   "metadata": {},
   "outputs": [
    {
     "name": "stdout",
     "output_type": "stream",
     "text": [
      "23\n"
     ]
    }
   ],
   "source": [
    "#cohort1_xtest\n",
    "\n",
    "\n",
    "Xtest = []\n",
    "samples = np.unique(adata3.obs.sample_id)\n",
    "X_ = []\n",
    "print(len(samples))\n",
    "for sample in samples:\n",
    "    x = adata3_x\n",
    "    y=0 \n",
    "    y_= adata3.obs[\"sample_id\"].values \n",
    "    X_.append((x,y,y_))\n",
    "# X = list(map(lambda x: (x, y, None), X_))\n",
    "# Xtest=X_\n",
    "# with open(\"../../2cohorts/chr2chr1/Xtest2_all.pkl\", \"wb\") as f:\n",
    "#             pickle.dump(Xtest, f)\n"
   ]
  },
  {
   "cell_type": "code",
   "execution_count": 78,
   "id": "8a107610",
   "metadata": {},
   "outputs": [
    {
     "data": {
      "text/plain": [
       "13"
      ]
     },
     "execution_count": 78,
     "metadata": {},
     "output_type": "execute_result"
    }
   ],
   "source": [
    "len(np.unique(adata4.obs['sample_id']))"
   ]
  },
  {
   "cell_type": "code",
   "execution_count": 79,
   "id": "63c4762b",
   "metadata": {},
   "outputs": [],
   "source": [
    "adata4 = sc.read_h5ad(\"../../data_/BCR_Severe.h5ad\")\n",
    "sc.pp.normalize_total(adata4, target_sum=1e4)\n",
    "sc.pp.log1p(adata4)\n",
    "adata4_c=adata4.var.index\n",
    "adata4_x=adata4.X"
   ]
  },
  {
   "cell_type": "code",
   "execution_count": 80,
   "id": "e371cf7c",
   "metadata": {},
   "outputs": [
    {
     "name": "stdout",
     "output_type": "stream",
     "text": [
      "13\n"
     ]
    }
   ],
   "source": [
    "#cohort1_xtest\n",
    "samples = np.unique(adata4.obs.sample_id)\n",
    "print(len(samples))\n",
    "for sample in samples:\n",
    "    x = adata4_x\n",
    "    y=1 \n",
    "    y_= adata4.obs[\"sample_id\"].values \n",
    "    X_.append((x,y,y_))\n",
    "Xtest=X_\n",
    "with open(\"../../2cohorts/chr2chr1/Xtest3_all.pkl\", \"wb\") as f:\n",
    "            pickle.dump(Xtest, f)\n"
   ]
  },
  {
   "cell_type": "code",
   "execution_count": 85,
   "id": "346056cd",
   "metadata": {},
   "outputs": [],
   "source": [
    "with open(\"../../2cohorts/chr2chr1/Ctest3_all.pkl\", \"wb\") as f:\n",
    "            pickle.dump(adata3_c, f)"
   ]
  },
  {
   "cell_type": "code",
   "execution_count": 68,
   "id": "e5cb4131",
   "metadata": {},
   "outputs": [
    {
     "data": {
      "text/plain": [
       "Index(['MIR1302-2HG', 'FAM138A', 'OR4F5', 'AL627309.1', 'AL627309.3',\n",
       "       'AL627309.2', 'AL627309.4', 'AL732372.1', 'OR4F29', 'AC114498.1',\n",
       "       ...\n",
       "       'AB_CD101', 'AB_IL21R', 'AB_C5AR1', 'AB_HLA-F', 'AB_NLRP2',\n",
       "       'AB_Podocalyxin', 'AB_GGT1', 'AB_c-Met', 'AB_LIGHT', 'AB_DR3'],\n",
       "      dtype='object', name='names', length=31279)"
      ]
     },
     "execution_count": 68,
     "metadata": {},
     "output_type": "execute_result"
    }
   ],
   "source": [
    "adata4_c"
   ]
  },
  {
   "cell_type": "code",
   "execution_count": 82,
   "id": "6edc323f",
   "metadata": {},
   "outputs": [
    {
     "data": {
      "text/plain": [
       "36"
      ]
     },
     "execution_count": 82,
     "metadata": {},
     "output_type": "execute_result"
    }
   ],
   "source": [
    "len(Xtest)"
   ]
  },
  {
   "cell_type": "code",
   "execution_count": 20,
   "id": "3730d0af",
   "metadata": {},
   "outputs": [],
   "source": [
    "A= np.array([2,3,4])\n",
    "newrow = [1, 2, 3]\n",
    "A = np.vstack([A, newrow])"
   ]
  },
  {
   "cell_type": "code",
   "execution_count": 22,
   "id": "41d57b4e",
   "metadata": {},
   "outputs": [
    {
     "ename": "AttributeError",
     "evalue": "'numpy.ndarray' object has no attribute 'vstack'",
     "output_type": "error",
     "traceback": [
      "\u001b[0;31m---------------------------------------------------------------------------\u001b[0m",
      "\u001b[0;31mAttributeError\u001b[0m                            Traceback (most recent call last)",
      "\u001b[0;32m<ipython-input-22-99352ad24e0c>\u001b[0m in \u001b[0;36m<module>\u001b[0;34m\u001b[0m\n\u001b[0;32m----> 1\u001b[0;31m \u001b[0mA\u001b[0m\u001b[0;34m.\u001b[0m\u001b[0mvstack\u001b[0m\u001b[0;34m(\u001b[0m\u001b[0;34m[\u001b[0m\u001b[0mnewrow\u001b[0m\u001b[0;34m]\u001b[0m\u001b[0;34m)\u001b[0m\u001b[0;34m\u001b[0m\u001b[0;34m\u001b[0m\u001b[0m\n\u001b[0m",
      "\u001b[0;31mAttributeError\u001b[0m: 'numpy.ndarray' object has no attribute 'vstack'"
     ]
    }
   ],
   "source": [
    "A.vstack([newrow])"
   ]
  },
  {
   "cell_type": "code",
   "execution_count": null,
   "id": "251854bf",
   "metadata": {},
   "outputs": [],
   "source": []
  }
 ],
 "metadata": {
  "kernelspec": {
   "display_name": "base",
   "language": "python",
   "name": "base"
  },
  "language_info": {
   "codemirror_mode": {
    "name": "ipython",
    "version": 3
   },
   "file_extension": ".py",
   "mimetype": "text/x-python",
   "name": "python",
   "nbconvert_exporter": "python",
   "pygments_lexer": "ipython3",
   "version": "3.9.4"
  }
 },
 "nbformat": 4,
 "nbformat_minor": 5
}
