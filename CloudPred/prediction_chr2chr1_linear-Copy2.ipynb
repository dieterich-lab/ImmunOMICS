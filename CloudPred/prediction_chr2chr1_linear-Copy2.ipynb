{
 "cells": [
  {
   "cell_type": "markdown",
   "id": "bbbcb50e",
   "metadata": {},
   "source": [
    "# Prediction based on Linear model, GMM_class and GMM_patient"
   ]
  },
  {
   "cell_type": "code",
   "execution_count": null,
   "id": "dbcadad3",
   "metadata": {},
   "outputs": [],
   "source": [
    "import pickle\n",
    "import scipy\n",
    "import scipy.io\n",
    "import os\n",
    "import numpy as np\n",
    "import scanpy as sc\n",
    "from sklearn.preprocessing import LabelEncoder\n",
    "import pandas as pd\n",
    "import sklearn.model_selection as sks\n",
    "import warnings\n",
    "warnings.filterwarnings(\"ignore\")\n",
    "import matplotlib.pyplot as plt\n",
    "from matplotlib.pyplot import rc_context\n",
    "import sklearn.metrics as skm\n",
    "import collections\n",
    "from sklearn.model_selection import KFold\n",
    "import torch\n",
    "import traceback\n",
    "import random\n",
    "import pathlib\n",
    "import sklearn.mixture\n",
    "import math\n",
    "from lib import *"
   ]
  },
  {
   "cell_type": "code",
   "execution_count": null,
   "id": "b6be4d28",
   "metadata": {},
   "outputs": [],
   "source": [
    "class Linear(torch.nn.Module):\n",
    "    def __init__(self, dim, states):\n",
    "         super(Linear, self).__init__()\n",
    "         self.states = states\n",
    "         if states == 1:\n",
    "             self.layer = torch.nn.Linear(dim, states)\n",
    "         else:\n",
    "             self.layer = torch.nn.Linear(dim, states - 1)\n",
    "         self.layer.weight.data.zero_()\n",
    "         if self.layer.bias is not None:\n",
    "             self.layer.bias.data.zero_()\n",
    "\n",
    "    def forward(self, x):\n",
    "        if self.states == 1:\n",
    "            return torch.sum(self.layer(x), dim=-2, keepdim=True)\n",
    "        else:\n",
    "            return torch.cat([torch.zeros(1, 1), torch.sum(self.layer(x), dim=-2, keepdim=True)], dim=1)\n",
    "class Aggregator(torch.nn.Module):\n",
    "    \n",
    "    def __init__(self):\n",
    "        super(Aggregator, self).__init__()\n",
    "\n",
    "    def forward(self, x):\n",
    "        return torch.mean(x, dim=0).unsqueeze_(0)\n"
   ]
  },
  {
   "cell_type": "code",
   "execution_count": null,
   "id": "8a859b9e",
   "metadata": {},
   "outputs": [],
   "source": [
    "\n",
    "def train_classifier(Xtrain, Xvalid, Xtest, classifier, regularize=None,\n",
    "                     eta=1e-8, iterations=3, stochastic=True, cuda=False, state=None, regression=False,path=''):\n",
    "\n",
    "#     logger = logging.getLogger(__name__)\n",
    "\n",
    "    if torch.cuda.is_available() and cuda:\n",
    "        classifier.cuda()\n",
    "\n",
    "    if regression:\n",
    "        criterion = torch.nn.modules.MSELoss()\n",
    "    else:\n",
    "        criterion = torch.nn.modules.CrossEntropyLoss()\n",
    "#     if len(Xtrain)>0:\n",
    "#         kf = KFold(n_splits=5)\n",
    "#         X_train = Xtrain\n",
    "#         res_kfold=kf.split(X_train)\n",
    "#         for train_index, test_index in res_kfold: \n",
    "#             Xtrain, Xvalid = list(np.array(X_train)[train_index]), list(np.array(X_train)[test_index])\n",
    "#             pass\n",
    "    batch = {\"train\": [None for _ in range(len(Xtrain))],\n",
    "             \"valid\": [None for _ in range(len(Xvalid))],\n",
    "             \"test\": [None for _ in range(len(Xtest))]}\n",
    "\n",
    "    optimizer = torch.optim.SGD(classifier.parameters(), lr=eta, momentum=0.9)\n",
    "\n",
    "    log = []\n",
    "    best_res = {\"accuracy\": -float(\"inf\")}\n",
    "    best_res = {\"loss\": float(\"inf\")}\n",
    "    best_model = None\n",
    "\n",
    "\n",
    "    for iteration in range(iterations):\n",
    "#         logger.debug(\"Iteration #\" + str(iteration + 1) + \":\")\n",
    "        # logger.debug(list(classifier.parameters()))\n",
    "#         if len(Xtrain)>0:\n",
    "#             kf = KFold(n_splits=5).split(X_train)\n",
    "#         else:\n",
    "#             kf = ['e']\n",
    "#         for elem in kf: \n",
    "#             if len(Xtrain)>0:\n",
    "#                 train_index, test_index=elem\n",
    "#                 Xtrain, Xvalid = list(np.array(X_train)[train_index]), list(np.array(X_train)[test_index])\n",
    "        print(iteration)\n",
    "        for dataset in [\"train\", \"valid\"] + ([\"test\"] if (iteration == (iterations - 1)) else []):\n",
    "                if dataset == \"train\":\n",
    "#                     logger.debug(\"    Training:\")\n",
    "                    X = Xtrain\n",
    "                elif dataset == \"valid\":\n",
    "#                     logger.debug(\"    Validation:\")\n",
    "                    X = Xvalid\n",
    "                elif dataset == \"test\":\n",
    "#                     logger.debug(\"    Testing:\")\n",
    "                    X = Xtest\n",
    "                else:\n",
    "                    raise NotImplementedError()\n",
    "                n = len(X)\n",
    "                total = 0.\n",
    "                correct = 0\n",
    "                prob = 0.\n",
    "                loss = 0.\n",
    "                y_score = []\n",
    "                pred_=[]\n",
    "                y_true = []\n",
    "                reg = 0.\n",
    "                for (start, (x, y, *_)) in enumerate(X):\n",
    "                    if batch[dataset][start] is None:\n",
    "                        if isinstance(x, torch.Tensor):\n",
    "                            pass\n",
    "                        elif isinstance(x, np.ndarray):\n",
    "                            x = torch.Tensor(x)\n",
    "                        else:\n",
    "                            x = x.tocoo()\n",
    "                            v = torch.Tensor(x.data)\n",
    "                            i = torch.LongTensor([x.row, x.col])\n",
    "                            x = torch.sparse.FloatTensor(i, v, x.shape)\n",
    "\n",
    "                        if dataset != \"test\":\n",
    "                            if regression:\n",
    "                                y = torch.FloatTensor([y])\n",
    "                            else:\n",
    "                                y = torch.LongTensor([y])\n",
    "\n",
    "                        if torch.cuda.is_available() and cuda:\n",
    "                            x = x.cuda()\n",
    "                            if dataset != \"test\":\n",
    "                                y = y.cuda()\n",
    "\n",
    "                        batch[dataset][start] = (x, y)\n",
    "                    else:\n",
    "                        x, y = batch[dataset][start]\n",
    "\n",
    "#                     t = time.time()\n",
    "\n",
    "                    z = classifier(x)\n",
    "                    print(z)\n",
    "                    if regression:\n",
    "                        if len(z.shape) == 2:\n",
    "                            if z.shape[1] == 1:\n",
    "                                z = z[:, 0]\n",
    "                            elif z.shape[1] == 2:\n",
    "                                z = z[:, 1]\n",
    "                        y_score.append(z[0].detach().numpy().item())\n",
    "                    else:\n",
    "                        y_score.append((z[0, 1] - z[0, 0]).detach().numpy().item())\n",
    "                    y_true.append(y.detach().numpy().item())\n",
    "                    pred = torch.argmax(z)\n",
    "    #                 print(pred)\n",
    "                    pred_.append(torch.argmax(z))\n",
    "                    if dataset != \"test\":\n",
    "                        if not regression:\n",
    "                            prob += (torch.exp(z[0, y] - logsumexp(z))).detach().cpu().numpy()[0]\n",
    "                            correct += torch.sum(pred == y).cpu().numpy()\n",
    "                        l = criterion(z, y)\n",
    "                        if stochastic:\n",
    "                            loss = l\n",
    "                        else:\n",
    "                            loss += l\n",
    "                        total += l.detach().cpu().numpy()\n",
    "                        if regularize is not None:\n",
    "                            r = regularize(classifier)\n",
    "                            loss += r\n",
    "                            reg += r.detach().cpu().numpy()\n",
    "\n",
    "                    if dataset == \"train\" and (stochastic or start + 1 == len(X)):\n",
    "                        optimizer.zero_grad()\n",
    "                        loss.backward()\n",
    "                        optimizer.step()\n",
    "                    elif dataset == \"test\":\n",
    "                        pred = pred.numpy()\n",
    "                        if len(pred.shape) != 0:\n",
    "                            pred = pred[0]\n",
    "                        if state is not None:\n",
    "                            pred = state[pred]\n",
    "\n",
    "    #                     print(str(pred))\n",
    "#                         logger.info(y + \"\\t\" + str(pred))\n",
    "\n",
    "                if dataset != \"test\" and n != 0:\n",
    "                    res = {}\n",
    "                    res[\"loss\"] = total / float(n)\n",
    "                    res[\"accuracy\"] = correct / float(n)\n",
    "                    res[\"soft\"] = prob / float(n)\n",
    "                    if any(map(math.isnan, y_score)):\n",
    "                        res[\"auc\"] = float(\"nan\")\n",
    "                        res[\"r2\"] = float(\"nan\")\n",
    "                    elif regression:\n",
    "                        res[\"auc\"] = float(\"nan\")\n",
    "    #                     print(np.unique(y_score))\n",
    "    #                     print(np.unique(y_true))\n",
    "\n",
    "    #                     onehot_encoder = OneHotEncoder(sparse=False)\n",
    "    #                     integer_encoded = np.reshape(y_score,(len(y_score), 1))\n",
    "    #                     y_score = onehot_encoder.fit_transform(integer_encoded)\n",
    "                        # invert first example\n",
    "                        res[\"r2\"] = sklearn.metrics.r2_score(y_true, y_score, multi_class='ovo')\n",
    "                    else:\n",
    "    #                     onehot_encoder = OneHotEncoder(sparse=False)\n",
    "    #                     integer_encoded = np.reshape(y_score,(len(y_score), 1))\n",
    "    #                     y_score = onehot_encoder.fit_transform(integer_encoded)\n",
    "                        res[\"auc\"] = sklearn.metrics.roc_auc_score(y_true, y_score, multi_class='ovo')\n",
    "                        res[\"r2\"] = float(\"nan\")\n",
    "\n",
    "#                     logger = logging.getLogger(__name__)\n",
    "#                     logger.debug(\"        Loss           \" + str(res[\"loss\"]))\n",
    "#                     logger.debug(\"        Accuracy:      \" + str(res[\"accuracy\"]))\n",
    "#                     logger.debug(\"        Soft Accuracy: \" + str(res[\"soft\"]))\n",
    "#                     logger.debug(\"        AUC:           \" + str(res[\"auc\"]))\n",
    "#                     logger.debug(\"        R2:            \" + str(res[\"r2\"]))\n",
    "\n",
    "#                     if regularize is not None:\n",
    "#                         logger.debug(\"        Regularize:    \" + str(reg / float(n)))\n",
    "                if dataset == \"train\":\n",
    "                    log.append([])\n",
    "                log[-1].append((total / float(n), correct / float(n)) if n != 0 else (None, None))\n",
    "                if dataset == \"valid\":\n",
    "#                     print(\"-----------------------------------------------------------\")\n",
    "#                     print(res)                  \n",
    "                    if res[\"loss\"] <= best_res[\"loss\"]:\n",
    "                        best_res = res\n",
    "                        best_model = copy.deepcopy(classifier.state_dict())\n",
    "#                         if iterations - 1 ==0:\n",
    "#                             with open(path+'y_score3_', 'wb') as fp:\n",
    "#                                 pickle.dump(y_score, fp)\n",
    "#                             pred= torch.stack(pred_)\n",
    "#                             with open(path+'pred3_', 'wb') as fp:\n",
    "#                                 pickle.dump(pred.tolist(), fp)  \n",
    "#                             with open(path+'y_true3_', 'wb') as fp:\n",
    "#                                 pickle.dump(y_true, fp)                              \n",
    "    print(\"**********************************************\")\n",
    "    print(best_res)                        \n",
    "    classifier.load_state_dict(best_model)\n",
    "              \n",
    "\n",
    "    # torch.save(classifier.state_dict(), \"model.pt\")\n",
    "    return classifier, best_res\n"
   ]
  },
  {
   "cell_type": "code",
   "execution_count": null,
   "id": "89a57940",
   "metadata": {},
   "outputs": [],
   "source": [
    "for seed in [42]:\n",
    "    linear(Xtrain, Xtest, seed, 1000)"
   ]
  },
  {
   "cell_type": "code",
   "execution_count": null,
   "id": "12897a60",
   "metadata": {},
   "outputs": [],
   "source": [
    "\n",
    "def get_data(Xtrain,Xtest,set_clusters,n,adata_c,adata1_c,markers):\n",
    "            print(\"get data\")\n",
    "            df = markers.loc[markers[\"cluster\"].isin(set_clusters),:]\n",
    "            feat_tab = df.groupby('cluster')\n",
    "            df2= feat_tab.apply(lambda x: x.sort_values([\"avg_log2FC\"], ascending=False)).reset_index(drop=True)\n",
    "            feat=df2.groupby('cluster').head(n)\n",
    "            print(\"data got\")\n",
    "            \n",
    "            idx_te= np.where(adata1_c.isin (feat.gene.values))[0] \n",
    "            idx_tr= np.where(adata_c.isin (adata1_c[idx_te]))[0]            \n",
    "\n",
    "#             markers = ['HLA-DRA','HLA-DRB1','LYZ','CST3','TYROBP','AP1S2','CSTA','FCN1','MS4A6A','LST1','CYBB','CTSS','DUSP6','IL1B','SGK1','KLF4','CLEC7A','ATP2B1-AS1','MARCKS','SAT1','MYADM','IFI27','IFITM3','ISG15','APOBEC3A','IFI6','TNFSF10','MT2A','MX1','IFIT3','MNDA','S100A12','S100A9','S100A8','MAFB','VCAN','PLBD1','CXCL8','RNASE2','FCGR3A','MS4A7','CDKN1C','AIF1','COTL1','FCER1G','C1QA','RHOC','FCGR3B','IFITM2','NAMPT','G0S2','PROK2','CMTM2','BASP1','BCL2A1','SLC25A37','DEFA3','LTF','LCN2','CAMP','RETN','DEFA4','CD24','PGLYRP1','OLFM4']\n",
    "#             idx_tr= np.where(adata_c.isin (markers))[0]\n",
    "#             idx_te= np.where(adata1_c.isin (markers))[0]\n",
    "\n",
    "            Xtrain = list(map(lambda x: (x[0][:,idx_tr], *x[1:]), Xtrain))\n",
    "            Xtest = list(map(lambda x: (x[0][:,idx_te], *x[1:]), Xtest))\n",
    "            Xtrain = list(map(lambda x: (x[0].todense(), *x[1:]), Xtrain))\n",
    "            Xtest  = list(map(lambda x: (x[0].todense(), *x[1:]), Xtest))    \n",
    "            return Xtrain,Xtest\n"
   ]
  },
  {
   "cell_type": "code",
   "execution_count": null,
   "id": "1c8f6bd3",
   "metadata": {},
   "outputs": [],
   "source": [
    "def linear(Xtrain, Xtest, seed, ite):\n",
    "    print(\"start linear\")\n",
    "    torch.manual_seed(seed)\n",
    "#     X_train=Xtrain\n",
    "#     kf = KFold(n_splits=5, shuffle= True, random_state=seed).split(X_train)\n",
    "#     for elem in kf:\n",
    "#                         train_index, test_index=elem\n",
    "#                         Xtrain, Xvalid = list(np.array(X_train)[train_index]), list(np.array(X_train)[test_index])\n",
    "#                         print(\"##Train_75%\")\n",
    "#                         torch.manual_seed(seed)\n",
    "#                         linear = torch.nn.Sequential(Aggregator(), Linear(Xtrain[0][0].shape[1], len(state)))\n",
    "#                         model, res = train_classifier(Xtrain, [], [], linear, eta=1e-3, iterations=ite, state=state, regression=False,path=path+\"/\"+label)\n",
    "#                         print(\"##Test_25%\")\n",
    "#                         model, res = train_classifier([], Xvalid, [], model, regularize=None, iterations=1, eta=0, stochastic=True, regression=False,path=path+\"/\"+label+\"/\"+str(n)+\"_\")\n",
    "#                         print('##Test')\n",
    "#                         model, res = train_classifier([], Xtest, [], model, regularize=None, iterations=1, eta=0, stochastic=True, regression=False,path=path+\"/\"+label+\"/\"+str(n)+\"_\")\n",
    "                        \n",
    "#     Xtrain=X_train\n",
    "    linear = torch.nn.Sequential(Aggregator(),Linear(Xtrain[0][0].shape[1], len(state)))\n",
    "    print('##Trian_100%')\n",
    "    model, res = train_classifier(Xtrain, [], [], linear, eta=1e-3, iterations=ite, state=state, regression=False,path=path+\"/\"+label+\"/\"+str(n)+\"_\")\n",
    "    print('##Test')\n",
    "    model, res = train_classifier([], Xtest, [], model, regularize=None, iterations=1, eta=0, stochastic=True, regression=False,path=path+\"/\"+label)\n"
   ]
  },
  {
   "cell_type": "code",
   "execution_count": null,
   "id": "6f16e66a",
   "metadata": {},
   "outputs": [],
   "source": [
    "\n",
    "def GMM_class(Xtrain, Xtest, seed, set_centers):\n",
    "    print(\"start generative class with seed: \"+str(seed))\n",
    "    best_model = None\n",
    "    best_score = -float(\"inf\")\n",
    "    X_train = Xtrain\n",
    "    print(X_train[0][0].shape)\n",
    "    for centers in set_centers:\n",
    "                    kf = KFold(n_splits=5, shuffle= True, random_state=seed).split(X_train)\n",
    "                    for elem in kf:\n",
    "                        train_index, test_index=elem\n",
    "                        Xtrain, Xvalid = list(np.array(X_train)[train_index]), list(np.array(X_train)[test_index])\n",
    "                        model = train_class(Xtrain, centers,seed)\n",
    "                        res = eval_class(model, Xtrain,path=path+\"/\"+label+\"/\"+str(seed)+\"_\"+str(n)+\"_\")\n",
    "\n",
    "                        res = eval_class(model, Xvalid,path=path+\"/\"+label+\"/\"+str(seed)+\"_\"+str(n)+\"_\")\n",
    "\n",
    "                        if (res[\"accuracy\"] > best_score) or (res[\"accuracy\"] == best_score and res[\"auc\"] > best_score_auc):\n",
    "                            best_model = model\n",
    "                            best_score = res[\"accuracy\"]\n",
    "                            best_score_auc = res[\"auc\"]\n",
    "                            res_=res\n",
    "                            best_centers = centers\n",
    "\n",
    "    with open(path+'/gmm_class_'+str(seed)+\"_\"+str(best_centers)+\"_\"+label+\"_\"+str(n), 'wb') as fp:\n",
    "                     pickle.dump(best_model, fp)                    \n",
    "    \n",
    "    print(\"##Best Validation\")\n",
    "    print(res_)\n",
    "    print('best center: ' + str(best_centers))\n",
    "    print(\"##Test\")\n",
    "    res =eval_class(best_model, Xtest,path=path+\"/\"+label+\"/\"+str(seed)+\"_\"+str(n)+\"_\")\n",
    "    print(res)\n"
   ]
  },
  {
   "cell_type": "code",
   "execution_count": null,
   "id": "ada2c7de",
   "metadata": {},
   "outputs": [],
   "source": [
    "def GMM_patient(Xtrain, Xtest, seed, set_centers):\n",
    "    print(\"start generative patient with seed: \"+str(seed))\n",
    "    best_model = None\n",
    "    best_score = -float(\"inf\")\n",
    "    X_train = Xtrain\n",
    "    print(X_train[0][0].shape)\n",
    "    for centers in set_centers:\n",
    "                    kf = KFold(n_splits=5, shuffle= True, random_state=seed).split(X_train)\n",
    "                    for elem in kf:\n",
    "                        train_index, test_index=elem\n",
    "                        Xtrain, Xvalid = list(np.array(X_train)[train_index]), list(np.array(X_train)[test_index])\n",
    "                        model = train_patient(Xtrain, centers,seed)\n",
    "                        res = eval_patient(model, Xtrain,path=path+\"/\"+label+\"/\"+str(seed)+\"_\"+str(n)+\"_\")\n",
    "                        res = eval_patient(model, Xvalid,path=path+\"/\"+label+\"/\"+str(seed)+\"_\"+str(n)+\"_\")\n",
    "\n",
    "                        if (res[\"accuracy\"] > best_score) or (res[\"accuracy\"] == best_score and res[\"auc\"] > best_score_auc):\n",
    "                            best_model = model\n",
    "                            best_score = res[\"accuracy\"]\n",
    "                            best_score_auc = res[\"auc\"]\n",
    "                            res_=res\n",
    "                            best_centers = centers\n",
    "\n",
    "    with open(path+'/gmm_patient_'+str(seed)+\"_\"+str(best_centers)+\"_\"+label+\"_\"+str(n), 'wb') as fp:\n",
    "                     pickle.dump(best_model, fp)                    \n",
    "    \n",
    "    print(\"##Best Validation\")\n",
    "    print(res_)\n",
    "    print('best center: ' + str(best_centers))\n",
    "    print(\"##Test\")\n",
    "    res =eval_patient(best_model, Xtest,path=path+\"/\"+label+\"/\"+str(seed)+\"_\"+str(n)+\"_\")\n",
    "    print(res)\n"
   ]
  },
  {
   "cell_type": "markdown",
   "id": "68344f5f",
   "metadata": {},
   "source": [
    "## 1.Load data (all cells, Monocytes, Monocytes+neutrophils, Neutrophils)"
   ]
  },
  {
   "cell_type": "code",
   "execution_count": null,
   "id": "c9659e1d",
   "metadata": {},
   "outputs": [],
   "source": [
    "data = collections.defaultdict(list)\n",
    "path= \"../../chr2chr1/\"\n",
    "files= ['Xtest','Xall','Ctest','Call','state']\n",
    "ext= ['','_mono','_mono_neu','_neu']\n",
    "for fl in files:\n",
    "    for ex in ext:\n",
    "        car= fl+ex\n",
    "        with open(path+fl+ex+\".pkl\", \"rb\") as f:\n",
    "            buf = pickle.load(f)\n",
    "        if fl ==  'Xall':\n",
    "            buf=np.concatenate([buf[0],buf[1]])\n",
    "        data[car]=buf"
   ]
  },
  {
   "cell_type": "markdown",
   "id": "06d45f86",
   "metadata": {},
   "source": [
    "## Load marker genes"
   ]
  },
  {
   "cell_type": "code",
   "execution_count": null,
   "id": "b3726e71",
   "metadata": {},
   "outputs": [],
   "source": [
    "markers= pd.read_csv('../scripts/marker_cohort2')\n",
    "markers[\"avg_log2FC\"] = np.abs(markers[\"avg_log2FC\"])"
   ]
  },
  {
   "cell_type": "markdown",
   "id": "9cfde0f8",
   "metadata": {},
   "source": [
    "## 2.Prediction based on Monocytes "
   ]
  },
  {
   "cell_type": "markdown",
   "id": "6dc67d7d",
   "metadata": {},
   "source": [
    "### 2.1.Using top 50 genes per cluster"
   ]
  },
  {
   "cell_type": "code",
   "execution_count": null,
   "id": "d15e3225",
   "metadata": {},
   "outputs": [],
   "source": [
    "label= 'mono'\n",
    "Xtrain = data['Xall_mono']\n",
    "Xtest = data['Xtest_mono']\n",
    "set_clusters=[7,11,3,4,6]\n",
    "n = 50\n",
    "adata_c = data['Call_mono']\n",
    "adata1_c = data['Ctest_mono']\n",
    "Xtrain,Xtest = get_data(Xtrain,Xtest,set_clusters,n,adata_c,adata1_c,markers)\n",
    "state = data['state']\n"
   ]
  },
  {
   "cell_type": "markdown",
   "id": "baaa34dc",
   "metadata": {},
   "source": [
    "### 2.1.1.Linear model"
   ]
  },
  {
   "cell_type": "code",
   "execution_count": null,
   "id": "7b56741b",
   "metadata": {},
   "outputs": [],
   "source": [
    "for seed in [42]:\n",
    "    linear(Xtrain, Xtest, seed, 1000)"
   ]
  },
  {
   "cell_type": "markdown",
   "id": "eb1fbab8",
   "metadata": {},
   "source": [
    "### 2.1.2.GMM_class"
   ]
  },
  {
   "cell_type": "code",
   "execution_count": null,
   "id": "3ebf45af",
   "metadata": {},
   "outputs": [],
   "source": [
    "for seed in [0,42,10,1234,4321]:\n",
    "    GMM_class(Xtrain, Xtest, seed, [21,5])"
   ]
  },
  {
   "cell_type": "markdown",
   "id": "fbce88e2",
   "metadata": {},
   "source": [
    "### 2.1.3.GMM patient "
   ]
  },
  {
   "cell_type": "code",
   "execution_count": null,
   "id": "05908790",
   "metadata": {},
   "outputs": [],
   "source": [
    "# for seed in [0,42,10,1234,4321]:\n",
    "#     GMM_patient(Xtrain, Xtest, seed, [21,5])"
   ]
  },
  {
   "cell_type": "markdown",
   "id": "38ab8093",
   "metadata": {},
   "source": [
    "### 2.2.Using top 20 genes per cluster"
   ]
  },
  {
   "cell_type": "code",
   "execution_count": null,
   "id": "1b015223",
   "metadata": {},
   "outputs": [],
   "source": [
    "Xtrain = data['Xall_mono']\n",
    "Xtest = data['Xtest_mono']\n",
    "n = 20\n",
    "Xtrain,Xtest = get_data(Xtrain,Xtest,set_clusters,n,adata_c,adata1_c,markers)"
   ]
  },
  {
   "cell_type": "markdown",
   "id": "52e30d13",
   "metadata": {},
   "source": [
    "### 2.2.1.Linear model"
   ]
  },
  {
   "cell_type": "code",
   "execution_count": null,
   "id": "8ac80d32",
   "metadata": {},
   "outputs": [],
   "source": [
    "for seed in [42]:\n",
    "            print(\"start\")\n",
    "            torch.manual_seed(seed)\n",
    "            linear = torch.nn.Sequential(Aggregator(), Linear(Xtrain[0][0].shape[1], len(state)))\n",
    "            model, res = train_classifier(Xtrain, [], [], linear, eta=1e-3, iterations=500, state=state, regression=False)\n",
    "            model, res = train_classifier([], Xtest, [], model, regularize=None, iterations=1, eta=0, stochastic=True, regression=False, suff='linear')\n",
    "            print(res)"
   ]
  },
  {
   "cell_type": "markdown",
   "id": "3ced7e70",
   "metadata": {},
   "source": [
    "### 2.2.2.GMM class "
   ]
  },
  {
   "cell_type": "code",
   "execution_count": null,
   "id": "88ce942e",
   "metadata": {},
   "outputs": [],
   "source": [
    "for seed in [0,42,10,1234,4321]:\n",
    "    GMM_class(Xtrain, Xtest, seed, [21,5])"
   ]
  },
  {
   "cell_type": "markdown",
   "id": "c6767c5d",
   "metadata": {},
   "source": [
    "### 2.2.3.GMM patient "
   ]
  },
  {
   "cell_type": "code",
   "execution_count": null,
   "id": "bd554009",
   "metadata": {},
   "outputs": [],
   "source": [
    "# for seed in [0,42,10,1234,4321]:\n",
    "#     GMM_patient(Xtrain, Xtest, seed, [21,5])"
   ]
  },
  {
   "cell_type": "markdown",
   "id": "45c2a200",
   "metadata": {},
   "source": [
    "### 2.3.Using top 100 genes per cluster"
   ]
  },
  {
   "cell_type": "code",
   "execution_count": null,
   "id": "4169b28a",
   "metadata": {},
   "outputs": [],
   "source": [
    "Xtrain = data['Xall_mono']\n",
    "Xtest = data['Xtest_mono']\n",
    "n = 100\n",
    "Xtrain,Xtest = get_data(Xtrain,Xtest,set_clusters,n,adata_c,adata1_c,markers)"
   ]
  },
  {
   "cell_type": "markdown",
   "id": "ed7a3f86",
   "metadata": {},
   "source": [
    "### 2.3.1.Linear model"
   ]
  },
  {
   "cell_type": "code",
   "execution_count": null,
   "id": "91010638",
   "metadata": {},
   "outputs": [],
   "source": [
    "for seed in [42]:\n",
    "            print(\"start\")\n",
    "            torch.manual_seed(seed)\n",
    "            linear = torch.nn.Sequential(Aggregator(), Linear(Xtrain[0][0].shape[1], len(state)))\n",
    "            model, res = train_classifier(Xtrain, [], [], linear, eta=1e-3, iterations=500, state=state, regression=False)\n",
    "            model, res = train_classifier([], Xtest, [], model, regularize=None, iterations=1, eta=0, stochastic=True, regression=False, suff='linear')\n",
    "            print(res)"
   ]
  },
  {
   "cell_type": "markdown",
   "id": "21abdbcc",
   "metadata": {},
   "source": [
    "### 2.3.2.GMM class "
   ]
  },
  {
   "cell_type": "code",
   "execution_count": null,
   "id": "3afe7ac0",
   "metadata": {},
   "outputs": [],
   "source": [
    "for seed in [0,42,10,1234,4321]:\n",
    "    GMM_class(Xtrain, Xtest, seed, [21,5])"
   ]
  },
  {
   "cell_type": "markdown",
   "id": "11998c76",
   "metadata": {},
   "source": [
    "### 2.3.3.GMM patient "
   ]
  },
  {
   "cell_type": "code",
   "execution_count": null,
   "id": "df57c12a",
   "metadata": {},
   "outputs": [],
   "source": [
    "# for seed in [0,42,10,1234,4321]:\n",
    "#     GMM_patient(Xtrain, Xtest, seed, [21,5])"
   ]
  },
  {
   "cell_type": "markdown",
   "id": "b940f82a",
   "metadata": {},
   "source": [
    "## 3.Prediction based on Monocytes+Neutrophils "
   ]
  },
  {
   "cell_type": "markdown",
   "id": "99ba9716",
   "metadata": {},
   "source": [
    "### 3.1.Using top 50 genes per cluster"
   ]
  },
  {
   "cell_type": "code",
   "execution_count": null,
   "id": "c830ed1a",
   "metadata": {},
   "outputs": [],
   "source": [
    "label='mono_neu'\n",
    "Xtrain = data['Xall_mono_neu']\n",
    "Xtest = data['Xtest_mono_neu']\n",
    "set_clusters=[7,11,3,4,6,9,14]\n",
    "n = 50\n",
    "adata_c = data['Call_mono_neu']\n",
    "adata1_c = data['Ctest_mono_neu']\n",
    "Xtrain,Xtest = get_data(Xtrain,Xtest,set_clusters,n,adata_c,adata1_c,markers)\n",
    "state = data['state']\n"
   ]
  },
  {
   "cell_type": "markdown",
   "id": "bb438c3e",
   "metadata": {},
   "source": [
    "### 3.1.1.Linear model"
   ]
  },
  {
   "cell_type": "code",
   "execution_count": null,
   "id": "ae7d7955",
   "metadata": {},
   "outputs": [],
   "source": [
    "for seed in [42]:\n",
    "    linear(Xtrain, Xtest, seed, 1000)"
   ]
  },
  {
   "cell_type": "markdown",
   "id": "943a56a5",
   "metadata": {},
   "source": [
    "### 3.1.2.GMM_class"
   ]
  },
  {
   "cell_type": "code",
   "execution_count": null,
   "id": "2d24cded",
   "metadata": {},
   "outputs": [],
   "source": [
    "for seed in [0,42,10,1234,4321]:\n",
    "    GMM_class(Xtrain, Xtest, seed, [21,5])"
   ]
  },
  {
   "cell_type": "markdown",
   "id": "f1918c02",
   "metadata": {},
   "source": [
    "### 3.1.3.GMM patient "
   ]
  },
  {
   "cell_type": "code",
   "execution_count": null,
   "id": "59f500ae",
   "metadata": {},
   "outputs": [],
   "source": [
    "# for seed in [0,42,10,1234,4321]:\n",
    "#     GMM_patient(Xtrain, Xtest, seed, [21,5])"
   ]
  },
  {
   "cell_type": "markdown",
   "id": "3a1d5039",
   "metadata": {},
   "source": [
    "### 3.2.Using top 20 genes per cluster"
   ]
  },
  {
   "cell_type": "code",
   "execution_count": null,
   "id": "9b39db25",
   "metadata": {},
   "outputs": [],
   "source": [
    "Xtrain = data['Xall_mono_neu']\n",
    "Xtest = data['Xtest_mono_neu']\n",
    "n = 20\n",
    "Xtrain,Xtest = get_data(Xtrain,Xtest,set_clusters,n,adata_c,adata1_c,markers)"
   ]
  },
  {
   "cell_type": "markdown",
   "id": "4cdc4410",
   "metadata": {},
   "source": [
    "### 3.2.1.Linear model"
   ]
  },
  {
   "cell_type": "code",
   "execution_count": null,
   "id": "62870d65",
   "metadata": {},
   "outputs": [],
   "source": [
    "for seed in [42]:\n",
    "            print(\"start\")\n",
    "            torch.manual_seed(seed)\n",
    "            linear = torch.nn.Sequential(Aggregator(), Linear(Xtrain[0][0].shape[1], len(state)))\n",
    "            model, res = train_classifier(Xtrain, [], [], linear, eta=1e-3, iterations=500, state=state, regression=False)\n",
    "            model, res = train_classifier([], Xtest, [], model, regularize=None, iterations=1, eta=0, stochastic=True, regression=False, suff='linear')\n",
    "            print(res)"
   ]
  },
  {
   "cell_type": "markdown",
   "id": "2d2dd398",
   "metadata": {},
   "source": [
    "### 3.2.2.GMM class "
   ]
  },
  {
   "cell_type": "code",
   "execution_count": null,
   "id": "726ec461",
   "metadata": {},
   "outputs": [],
   "source": [
    "for seed in [0,42,10,1234,4321]:\n",
    "    GMM_class(Xtrain, Xtest, seed, [21,5])"
   ]
  },
  {
   "cell_type": "markdown",
   "id": "0d647356",
   "metadata": {},
   "source": [
    "### 3.2.3.GMM patient "
   ]
  },
  {
   "cell_type": "code",
   "execution_count": null,
   "id": "dd7ad228",
   "metadata": {},
   "outputs": [],
   "source": [
    "# for seed in [0,42,10,1234,4321]:\n",
    "#     GMM_patient(Xtrain, Xtest, seed, [21,5])"
   ]
  },
  {
   "cell_type": "markdown",
   "id": "6dd9a1e4",
   "metadata": {},
   "source": [
    "### 3.3.Using top 100 genes per cluster"
   ]
  },
  {
   "cell_type": "code",
   "execution_count": null,
   "id": "7b6f0791",
   "metadata": {},
   "outputs": [],
   "source": [
    "Xtrain = data['Xall_mono_neu']\n",
    "Xtest = data['Xtest_mono_neu']\n",
    "n = 100\n",
    "Xtrain,Xtest = get_data(Xtrain,Xtest,set_clusters,n,adata_c,adata1_c,markers)"
   ]
  },
  {
   "cell_type": "markdown",
   "id": "51d297f8",
   "metadata": {},
   "source": [
    "### 3.3.1.Linear model"
   ]
  },
  {
   "cell_type": "code",
   "execution_count": null,
   "id": "41f9b37f",
   "metadata": {},
   "outputs": [],
   "source": [
    "for seed in [42]:\n",
    "            print(\"start\")\n",
    "            torch.manual_seed(seed)\n",
    "            linear = torch.nn.Sequential(Aggregator(), Linear(Xtrain[0][0].shape[1], len(state)))\n",
    "            model, res = train_classifier(Xtrain, [], [], linear, eta=1e-3, iterations=500, state=state, regression=False)\n",
    "            model, res = train_classifier([], Xtest, [], model, regularize=None, iterations=1, eta=0, stochastic=True, regression=False, suff='linear')\n",
    "            print(res)"
   ]
  },
  {
   "cell_type": "markdown",
   "id": "29729c02",
   "metadata": {},
   "source": [
    "### 3.3.2.GMM class "
   ]
  },
  {
   "cell_type": "code",
   "execution_count": null,
   "id": "34e64759",
   "metadata": {},
   "outputs": [],
   "source": [
    "for seed in [0,42,10,1234,4321]:\n",
    "    GMM_class(Xtrain, Xtest, seed, [21,5])"
   ]
  },
  {
   "cell_type": "markdown",
   "id": "0f2370cc",
   "metadata": {},
   "source": [
    "### 3.3.3.GMM patient "
   ]
  },
  {
   "cell_type": "code",
   "execution_count": null,
   "id": "e6125f09",
   "metadata": {},
   "outputs": [],
   "source": [
    "# for seed in [0,42,10,1234,4321]:\n",
    "#     GMM_patient(Xtrain, Xtest, seed, [21,5])"
   ]
  },
  {
   "cell_type": "markdown",
   "id": "2dc9e384",
   "metadata": {},
   "source": [
    "## 4.Prediction based on Neutrophils "
   ]
  },
  {
   "cell_type": "markdown",
   "id": "0ef6cf7c",
   "metadata": {},
   "source": [
    "### 4.1.Using top 50 genes per cluster"
   ]
  },
  {
   "cell_type": "code",
   "execution_count": null,
   "id": "74a53291",
   "metadata": {},
   "outputs": [],
   "source": [
    "label='neu'\n",
    "Xtrain = data['Xall_neu']\n",
    "Xtest = data['Xtest_neu']\n",
    "set_clusters=[9,14]\n",
    "n = 50\n",
    "adata_c = data['Call_neu']\n",
    "adata1_c = data['Ctest_neu']\n",
    "Xtrain,Xtest = get_data(Xtrain,Xtest,set_clusters,n,adata_c,adata1_c,markers)\n",
    "state = data['state']\n"
   ]
  },
  {
   "cell_type": "markdown",
   "id": "c3b52d4c",
   "metadata": {},
   "source": [
    "### 4.1.1.Linear model"
   ]
  },
  {
   "cell_type": "code",
   "execution_count": null,
   "id": "e4dbd305",
   "metadata": {},
   "outputs": [],
   "source": [
    "for seed in [42]:\n",
    "    linear(Xtrain, Xtest, seed, 1000)"
   ]
  },
  {
   "cell_type": "markdown",
   "id": "e373d6e8",
   "metadata": {},
   "source": [
    "### 4.1.2.GMM_class"
   ]
  },
  {
   "cell_type": "code",
   "execution_count": null,
   "id": "807b1ee3",
   "metadata": {},
   "outputs": [],
   "source": [
    "for seed in [0,42,10,1234,4321]:\n",
    "    GMM_class(Xtrain, Xtest, seed, [21,5])"
   ]
  },
  {
   "cell_type": "markdown",
   "id": "b8ad9439",
   "metadata": {},
   "source": [
    "### 4.1.3.GMM patient "
   ]
  },
  {
   "cell_type": "code",
   "execution_count": null,
   "id": "b2f09fef",
   "metadata": {},
   "outputs": [],
   "source": [
    "# for seed in [0,42,10,1234,4321]:\n",
    "#     GMM_patient(Xtrain, Xtest, seed, [21,5])"
   ]
  },
  {
   "cell_type": "markdown",
   "id": "0431cbd9",
   "metadata": {},
   "source": [
    "### 4.2.Using top 20 genes per cluster"
   ]
  },
  {
   "cell_type": "code",
   "execution_count": null,
   "id": "52558921",
   "metadata": {},
   "outputs": [],
   "source": [
    "Xtrain = data['Xall_neu']\n",
    "Xtest = data['Xtest_neu']\n",
    "n = 20\n",
    "Xtrain,Xtest = get_data(Xtrain,Xtest,set_clusters,n,adata_c,adata1_c,markers)"
   ]
  },
  {
   "cell_type": "markdown",
   "id": "26e4b38b",
   "metadata": {},
   "source": [
    "### 4.2.1.Linear model"
   ]
  },
  {
   "cell_type": "code",
   "execution_count": null,
   "id": "c3760d99",
   "metadata": {},
   "outputs": [],
   "source": [
    "for seed in [42]:\n",
    "            print(\"start\")\n",
    "            torch.manual_seed(seed)\n",
    "            linear = torch.nn.Sequential(Aggregator(), Linear(Xtrain[0][0].shape[1], len(state)))\n",
    "            model, res = train_classifier(Xtrain, [], [], linear, eta=1e-3, iterations=500, state=state, regression=False)\n",
    "            model, res = train_classifier([], Xtest, [], model, regularize=None, iterations=1, eta=0, stochastic=True, regression=False, suff='linear')\n",
    "            print(res)"
   ]
  },
  {
   "cell_type": "markdown",
   "id": "706e548a",
   "metadata": {},
   "source": [
    "### 4.2.2.GMM class "
   ]
  },
  {
   "cell_type": "code",
   "execution_count": null,
   "id": "5a378382",
   "metadata": {},
   "outputs": [],
   "source": [
    "for seed in [0,42,10,1234,4321]:\n",
    "    GMM_class(Xtrain, Xtest, seed, [21,5])"
   ]
  },
  {
   "cell_type": "markdown",
   "id": "6aed09b7",
   "metadata": {},
   "source": [
    "### 4.2.3.GMM patient "
   ]
  },
  {
   "cell_type": "code",
   "execution_count": null,
   "id": "fe3585f0",
   "metadata": {},
   "outputs": [],
   "source": [
    "# for seed in [0,42,10,1234,4321]:\n",
    "#     GMM_patient(Xtrain, Xtest, seed, [21,5])"
   ]
  },
  {
   "cell_type": "markdown",
   "id": "4a363516",
   "metadata": {},
   "source": [
    "### 4.3.Using top 100 genes per cluster"
   ]
  },
  {
   "cell_type": "code",
   "execution_count": null,
   "id": "76404674",
   "metadata": {},
   "outputs": [],
   "source": [
    "Xtrain = data['Xall_neu']\n",
    "Xtest = data['Xtest_neu']\n",
    "n = 100\n",
    "Xtrain,Xtest = get_data(Xtrain,Xtest,set_clusters,n,adata_c,adata1_c,markers)"
   ]
  },
  {
   "cell_type": "markdown",
   "id": "884f3685",
   "metadata": {},
   "source": [
    "### 4.3.1.Linear model"
   ]
  },
  {
   "cell_type": "code",
   "execution_count": null,
   "id": "502c3b53",
   "metadata": {},
   "outputs": [],
   "source": [
    "for seed in [42]:\n",
    "            print(\"start\")\n",
    "            torch.manual_seed(seed)\n",
    "            linear = torch.nn.Sequential(Aggregator(), Linear(Xtrain[0][0].shape[1], len(state)))\n",
    "            model, res = train_classifier(Xtrain, [], [], linear, eta=1e-3, iterations=500, state=state, regression=False)\n",
    "            model, res = train_classifier([], Xtest, [], model, regularize=None, iterations=1, eta=0, stochastic=True, regression=False, suff='linear')\n",
    "            print(res)"
   ]
  },
  {
   "cell_type": "markdown",
   "id": "599229cf",
   "metadata": {},
   "source": [
    "### 4.3.2.GMM class "
   ]
  },
  {
   "cell_type": "code",
   "execution_count": null,
   "id": "2fc68d94",
   "metadata": {},
   "outputs": [],
   "source": [
    "for seed in [0,42,10,1234,4321]:\n",
    "    GMM_class(Xtrain, Xtest, seed, [21,5])"
   ]
  },
  {
   "cell_type": "markdown",
   "id": "f7d482e4",
   "metadata": {},
   "source": [
    "### 4.3.3.GMM patient "
   ]
  },
  {
   "cell_type": "code",
   "execution_count": null,
   "id": "ac58f07d",
   "metadata": {},
   "outputs": [],
   "source": [
    "# for seed in [0,42,10,1234,4321]:\n",
    "#     GMM_patient(Xtrain, Xtest, seed, [21,5])"
   ]
  },
  {
   "cell_type": "markdown",
   "id": "c5445142",
   "metadata": {},
   "source": [
    "## 5.Prediction based on All cells "
   ]
  },
  {
   "cell_type": "markdown",
   "id": "1c5220f6",
   "metadata": {},
   "source": [
    "### 5.1.Using top 50 genes per cluster"
   ]
  },
  {
   "cell_type": "code",
   "execution_count": null,
   "id": "4de09b5d",
   "metadata": {},
   "outputs": [],
   "source": [
    "label='all'\n",
    "Xtrain = data['Xall']\n",
    "Xtest = data['Xtest']\n",
    "set_clusters=np.unique(markers[\"cluster\"])\n",
    "n = 50\n",
    "adata_c = data['Call']\n",
    "adata1_c = data['Ctest']\n",
    "Xtrain,Xtest = get_data(Xtrain,Xtest,set_clusters,n,adata_c,adata1_c,markers)\n",
    "state = data['state']\n"
   ]
  },
  {
   "cell_type": "markdown",
   "id": "e546aa69",
   "metadata": {},
   "source": [
    "### 5.1.1.Linear model"
   ]
  },
  {
   "cell_type": "code",
   "execution_count": null,
   "id": "946ceb23",
   "metadata": {},
   "outputs": [],
   "source": [
    "for seed in [42]:\n",
    "    linear(Xtrain, Xtest, seed, 1000)"
   ]
  },
  {
   "cell_type": "markdown",
   "id": "1fe2454c",
   "metadata": {},
   "source": [
    "### 5.1.2.GMM_class"
   ]
  },
  {
   "cell_type": "code",
   "execution_count": null,
   "id": "9512e07f",
   "metadata": {},
   "outputs": [],
   "source": [
    "for seed in [0,42,10,1234,4321]:\n",
    "    GMM_class(Xtrain, Xtest, seed, [21,5])"
   ]
  },
  {
   "cell_type": "markdown",
   "id": "d35d65e0",
   "metadata": {},
   "source": [
    "### 5.1.3.GMM patient "
   ]
  },
  {
   "cell_type": "code",
   "execution_count": null,
   "id": "ff900a62",
   "metadata": {},
   "outputs": [],
   "source": [
    "# for seed in [0,42,10,1234,4321]:\n",
    "#     GMM_patient(Xtrain, Xtest, seed, [21,5])"
   ]
  },
  {
   "cell_type": "markdown",
   "id": "0787a768",
   "metadata": {},
   "source": [
    "### 5.2.Using top 20 genes per cluster"
   ]
  },
  {
   "cell_type": "code",
   "execution_count": null,
   "id": "3a44e9cc",
   "metadata": {},
   "outputs": [],
   "source": [
    "Xtrain = data['Xall']\n",
    "Xtest = data['Xtest']\n",
    "n = 20\n",
    "Xtrain,Xtest = get_data(Xtrain,Xtest,set_clusters,n,adata_c,adata1_c,markers)"
   ]
  },
  {
   "cell_type": "markdown",
   "id": "87c254b3",
   "metadata": {},
   "source": [
    "### 5.2.1.Linear model"
   ]
  },
  {
   "cell_type": "code",
   "execution_count": null,
   "id": "01a58ee5",
   "metadata": {},
   "outputs": [],
   "source": [
    "for seed in [42]:\n",
    "    linear(Xtrain, Xtest, seed, 1000)"
   ]
  },
  {
   "cell_type": "markdown",
   "id": "b7bb45d8",
   "metadata": {},
   "source": [
    "### 5.2.2.GMM class "
   ]
  },
  {
   "cell_type": "code",
   "execution_count": null,
   "id": "ad5263d4",
   "metadata": {},
   "outputs": [],
   "source": [
    "for seed in [0]:\n",
    "    GMM_class(Xtrain, Xtest, seed, [21])"
   ]
  },
  {
   "cell_type": "markdown",
   "id": "8d6fed0d",
   "metadata": {},
   "source": [
    "### 5.2.3.GMM patient "
   ]
  },
  {
   "cell_type": "code",
   "execution_count": null,
   "id": "b43bcc7d",
   "metadata": {},
   "outputs": [],
   "source": [
    "# for seed in [0,42,10,1234,4321]:\n",
    "#     GMM_patient(Xtrain, Xtest, seed, [21,5])"
   ]
  },
  {
   "cell_type": "markdown",
   "id": "d30f8794",
   "metadata": {},
   "source": [
    "### 5.3.Using top 100 genes per cluster"
   ]
  },
  {
   "cell_type": "code",
   "execution_count": null,
   "id": "061bfaf8",
   "metadata": {},
   "outputs": [],
   "source": [
    "Xtrain = data['Xall']\n",
    "Xtest = data['Xtest']\n",
    "n = 100\n",
    "Xtrain,Xtest = get_data(Xtrain,Xtest,set_clusters,n,adata_c,adata1_c,markers)"
   ]
  },
  {
   "cell_type": "markdown",
   "id": "65568422",
   "metadata": {},
   "source": [
    "### 5.3.1.Linear model"
   ]
  },
  {
   "cell_type": "code",
   "execution_count": null,
   "id": "ef26b0d8",
   "metadata": {},
   "outputs": [],
   "source": [
    "for seed in [42]:\n",
    "            print(\"start\")\n",
    "            torch.manual_seed(seed)\n",
    "            linear = torch.nn.Sequential(Aggregator(), Linear(Xtrain[0][0].shape[1], len(state)))\n",
    "            model, res = train_classifier(Xtrain, [], [], linear, eta=1e-3, iterations=500, state=state, regression=False)\n",
    "            model, res = train_classifier([], Xtest, [], model, regularize=None, iterations=1, eta=0, stochastic=True, regression=False, suff='linear')\n",
    "            print(res)"
   ]
  },
  {
   "cell_type": "markdown",
   "id": "74486354",
   "metadata": {},
   "source": [
    "### 5.3.2.GMM class "
   ]
  },
  {
   "cell_type": "code",
   "execution_count": null,
   "id": "72e8aa2d",
   "metadata": {},
   "outputs": [],
   "source": [
    "for seed in [0,42,10,1234,4321]:\n",
    "    GMM_class(Xtrain, Xtest, seed, [21,5])"
   ]
  },
  {
   "cell_type": "markdown",
   "id": "8736d13a",
   "metadata": {},
   "source": [
    "### 5.3.3.GMM patient "
   ]
  },
  {
   "cell_type": "code",
   "execution_count": null,
   "id": "613098fe",
   "metadata": {},
   "outputs": [],
   "source": [
    "# for seed in [0,42,10,1234,4321]:\n",
    "#     GMM_patient(Xtrain, Xtest, seed, [21,5])"
   ]
  }
 ],
 "metadata": {
  "kernelspec": {
   "display_name": "base",
   "language": "python",
   "name": "base"
  },
  "language_info": {
   "codemirror_mode": {
    "name": "ipython",
    "version": 3
   },
   "file_extension": ".py",
   "mimetype": "text/x-python",
   "name": "python",
   "nbconvert_exporter": "python",
   "pygments_lexer": "ipython3",
   "version": "3.9.4"
  }
 },
 "nbformat": 4,
 "nbformat_minor": 5
}
