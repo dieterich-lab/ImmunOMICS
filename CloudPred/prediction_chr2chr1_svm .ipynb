{
 "cells": [
  {
   "cell_type": "markdown",
   "id": "bbbcb50e",
   "metadata": {},
   "source": [
    "#Prediction based on Linear SVM with average at sample level"
   ]
  },
  {
   "cell_type": "code",
   "execution_count": 89,
   "id": "dbcadad3",
   "metadata": {},
   "outputs": [],
   "source": [
    "import pickle\n",
    "import scipy\n",
    "import scipy.io\n",
    "import os\n",
    "import numpy as np\n",
    "import scanpy as sc\n",
    "from sklearn.preprocessing import LabelEncoder\n",
    "import pandas as pd\n",
    "import scanpy as sc\n",
    "import sklearn.model_selection as sks\n",
    "import numpy as np\n",
    "import pandas as pd\n",
    "from sklearn import svm\n",
    "import warnings\n",
    "warnings.filterwarnings(\"ignore\")\n",
    "import matplotlib.pyplot as plt\n",
    "from matplotlib.pyplot import rc_context\n",
    "import sklearn.metrics as skm\n",
    "from itertools import cycle\n",
    "from sklearn.ensemble import RandomForestClassifier\n",
    "import matplotlib.gridspec as gridspec\n",
    "import matplotlib.colors as clr\n",
    "from matplotlib.ticker import MaxNLocator\n",
    "import random\n",
    "import collections\n"
   ]
  },
  {
   "cell_type": "markdown",
   "id": "c2536355",
   "metadata": {},
   "source": [
    "We use cohort 2 as a training set and cohort1 as test set and we use top marker genes as features "
   ]
  },
  {
   "cell_type": "markdown",
   "id": "5b984f27",
   "metadata": {},
   "source": [
    "# Load cohort1 and cohort2"
   ]
  },
  {
   "cell_type": "code",
   "execution_count": 2,
   "id": "9ffc36a6",
   "metadata": {},
   "outputs": [
    {
     "data": {
      "text/plain": [
       "AnnData object with n_obs × n_vars = 139848 × 33417\n",
       "    obs: 'orig.ident', 'nCount_RNA', 'nFeature_RNA', 'nCount_HTO', 'nFeature_HTO', 'percent.mito', 'meanCount_RNA', 'meanCount_HTO', 'HTO_maxID', 'HTO_secondID', 'HTO_margin', 'HTO_classification', 'HTO_classification.global', 'hash.ID', 'demultID', 'experiment', 'cartridge', 'ID', 'sample', 'abseq', 'date_of_sampling', 'donor', 'cells', 'purification', 'nCount_AB', 'nFeature_AB', 'group_4', 'group', 'diagnosis', 'onset_of_symptoms', 'outcome', 'oxygen', 'highest_WHO_classification', 'primary_complaint', 'bacterial_superinfection', 'medication', 'comorbidities', 'age', 'sex', 'days_after_onset', 'disease_stage', 'who_per_sample', 'group_per_sample', 'glucocorticoids', 'covid19_therapy', 'leukocyte_counts', 'neutrophil_counts', 'lymphocyte_counts', 'monocyte_counts', 'eosinophil_counts', 'basophil_counts', 'imm_granulocyte_counts', 'thrombocyte_counts', 'pCT', 'CRP', 'IL6', 'group_4_per_sample', 'percent.hb', 'group_per_sample_per_stage', 'group_4_per_sample_per_stage', 'hpca.labels', 'blueprint.labels', 'monaco.labels', 'immune.labels', 'dmap.labels', 'hemato.labels', 'RNA_snn_res.0.5', 'seurat_clusters', 'RNA_snn_res.0.4', 'cluster_labels_res.0.5', 'cluster_labels_res.0.4', 'new_order', 'fresh', 'Condition', 'cell.cond', 'celltype', 'celltypeL0'\n",
       "    var: 'vst.mean', 'vst.variance', 'vst.variance.expected', 'vst.variance.standardized', 'vst.variable'\n",
       "    obsm: 'X_pca', 'X_umap'\n",
       "    varm: 'PCs'"
      ]
     },
     "execution_count": 2,
     "metadata": {},
     "output_type": "execute_result"
    }
   ],
   "source": [
    "adata = sc.read_h5ad(\"../../data_/cohort2.h5ad\")\n",
    "adata"
   ]
  },
  {
   "cell_type": "code",
   "execution_count": 3,
   "id": "d469c921",
   "metadata": {},
   "outputs": [],
   "source": [
    "sc.pp.normalize_total(adata, target_sum=1e4)\n",
    "sc.pp.log1p(adata)\n"
   ]
  },
  {
   "cell_type": "code",
   "execution_count": 4,
   "id": "ef142060",
   "metadata": {},
   "outputs": [],
   "source": [
    "adata1 = sc.read_h5ad(\"../../data_/cohort1.h5ad\")\n",
    "sc.pp.normalize_total(adata1, target_sum=1e4)\n",
    "sc.pp.log1p(adata1)"
   ]
  },
  {
   "cell_type": "code",
   "execution_count": 5,
   "id": "f5e52a67",
   "metadata": {},
   "outputs": [],
   "source": [
    "adata1_x=adata1.X\n",
    "adata_x=adata.X\n",
    "adata_c=adata.var.index\n",
    "adata1_c=adata1.var.index"
   ]
  },
  {
   "cell_type": "markdown",
   "id": "42561a60",
   "metadata": {},
   "source": [
    "# Extract COVID samples and format the structure of input as sample(cells) -list of arrays"
   ]
  },
  {
   "cell_type": "code",
   "execution_count": 6,
   "id": "2fab73a7",
   "metadata": {},
   "outputs": [],
   "source": [
    "le = LabelEncoder()"
   ]
  },
  {
   "cell_type": "markdown",
   "id": "1f4ba528",
   "metadata": {},
   "source": [
    "### Test set"
   ]
  },
  {
   "cell_type": "code",
   "execution_count": 7,
   "id": "c97bc682",
   "metadata": {},
   "outputs": [
    {
     "name": "stdout",
     "output_type": "stream",
     "text": [
      "['Control' 'Mild' 'Severe']\n",
      "27\n"
     ]
    }
   ],
   "source": [
    "#cohort1_xtest\n",
    "label = le.fit_transform(adata1.obs[\"Condition\"])\n",
    "print(np.unique(adata1.obs[\"Condition\"]))\n",
    "label = label-1\n",
    "\n",
    "\n",
    "Xtest = []\n",
    "samples = np.unique(adata1.obs.SampleID[adata1.obs.Condition != 'Control'])\n",
    "X_ = []\n",
    "print(len(samples))\n",
    "for sample in samples:\n",
    "    x = adata1_x[adata1.obs.SampleID == sample,:]\n",
    "    y=label[adata1.obs.SampleID == sample][0] \n",
    "    y_= adata1.obs[\"new.id\"][adata1.obs.SampleID == sample].values \n",
    "    X_.append((x,y,y_))\n",
    "# X = list(map(lambda x: (x, y, None), X_))\n",
    "Xtest=X_\n",
    "# with open(\"../../2cohorts/chr2chr1/Xtest__.pkl\", \"wb\") as f:\n",
    "#             pickle.dump(Xtest, f)\n",
    "# with open(\"../../2cohorts/chr2chr1/Ctest__.pkl\", \"wb\") as f:\n",
    "#             pickle.dump(adata1_c, f)"
   ]
  },
  {
   "cell_type": "markdown",
   "id": "e37d7123",
   "metadata": {},
   "source": [
    "### Training set "
   ]
  },
  {
   "cell_type": "code",
   "execution_count": 8,
   "id": "215ad845",
   "metadata": {},
   "outputs": [
    {
     "name": "stdout",
     "output_type": "stream",
     "text": [
      "['Control' 'Mild' 'Severe']\n",
      "25\n",
      "25\n"
     ]
    }
   ],
   "source": [
    "label = le.fit_transform(adata.obs[\"Condition\"])\n",
    "print(np.unique(adata.obs[\"Condition\"]))\n",
    "label = label-1\n",
    "#cohort2\n",
    "Xall = []\n",
    "state = []\n",
    "samples = np.unique(adata.obs.ID[adata.obs.Condition == 'Mild'])\n",
    "X_ = []\n",
    "print(len(samples))\n",
    "for sample in samples:\n",
    "    x = adata_x[adata.obs.ID == sample,:]\n",
    "    y= label[adata.obs.ID == sample][0] \n",
    "    y_= adata.obs[\"new_order\"][adata.obs.ID == sample].values \n",
    "    X_.append((x,y_))\n",
    "X = list(map(lambda x: (x[0], y, x[1]), X_))\n",
    "state.append('Mild')\n",
    "Xall.append(X)\n",
    "\n",
    "samples = np.unique(adata.obs.ID[adata.obs.Condition == 'Severe'])\n",
    "print(len(samples))\n",
    "\n",
    "X_ = []\n",
    "for sample in samples:\n",
    "    x = adata_x[adata.obs.ID == sample,:]\n",
    "    y= label[adata.obs.ID == sample][0] \n",
    "    y_= adata.obs[\"new_order\"][adata.obs.ID == sample].values \n",
    "    X_.append((x,y_))\n",
    "X = list(map(lambda x: (x[0], y, x[1]), X_))\n",
    "state.append('Severe')\n",
    "Xall.append(X)\n",
    "# with open(\"../../2cohorts/chr2chr1/Xall.pkl\", \"wb\") as f:\n",
    "#             pickle.dump(Xall, f)\n",
    "# with open( \"../../2cohorts/chr2chr1/state.pkl\", \"wb\") as f:\n",
    "#             pickle.dump(state, f)\n",
    "# with open(\"../../2cohorts/chr2chr1/Call__.pkl\", \"wb\") as f:\n",
    "#             pickle.dump(adata_c, f)"
   ]
  },
  {
   "cell_type": "code",
   "execution_count": 90,
   "id": "78d7967a",
   "metadata": {},
   "outputs": [],
   "source": [
    "with open(\"../../2cohorts/chr2chr1/Xtest__.pkl\", \"rb\") as f:\n",
    "                Xtest = pickle.load(f)\n",
    "with open(\"../../2cohorts/chr2chr1/Xall.pkl\", \"rb\") as f:\n",
    "                Xall = pickle.load(f)\n",
    "with open(\"../../2cohorts/chr2chr1/Ctest__.pkl\", \"rb\") as f:\n",
    "                adata1_c = pickle.load(f)\n",
    "with open(\"../../2cohorts/chr2chr1/Call__.pkl\", \"rb\") as f:\n",
    "                adata_c = pickle.load(f)\n",
    "                "
   ]
  },
  {
   "cell_type": "markdown",
   "id": "9cfde0f8",
   "metadata": {},
   "source": [
    "## Load marker genes obtanined using seurat code"
   ]
  },
  {
   "cell_type": "code",
   "execution_count": 135,
   "id": "acc8f7aa",
   "metadata": {},
   "outputs": [],
   "source": [
    "df= pd.read_csv('../scripts/marker_cohort2')\n",
    "df[\"avg_log2FC\"] = np.abs(df[\"avg_log2FC\"])\n",
    "feat_tab = df.groupby('cluster')\n",
    "df2= feat_tab.apply(lambda x: x.sort_values([\"avg_log2FC\"], ascending=False)).reset_index(drop=True)\n",
    "feat=df2.groupby('cluster').head(20)     "
   ]
  },
  {
   "cell_type": "code",
   "execution_count": 136,
   "id": "ee567efb",
   "metadata": {},
   "outputs": [],
   "source": [
    "markers=feat.gene.values"
   ]
  },
  {
   "cell_type": "code",
   "execution_count": 137,
   "id": "22af6d99",
   "metadata": {},
   "outputs": [
    {
     "data": {
      "text/plain": [
       "array(['IL7R', 'TCF7', 'LTB', 'MAL', 'LEF1', 'RCAN3', 'TRAC', 'LDHB',\n",
       "       'TRBC2', 'CCR7', 'CD3E', 'AC245427.1', 'RPS12', 'DGKA', 'PIM2',\n",
       "       'BCL11B', 'TRABD2A', 'PCED1B-AS1', 'ETS1', 'AQP3', 'MAFB', 'RGCC',\n",
       "       'C5AR1', 'CXCL8', 'DUSP6', 'PLAUR', 'CD14', 'FCN1', 'LYZ',\n",
       "       'S100A9', 'VCAN', 'IL1B', 'G0S2', 'SGK1', 'KLF4', 'FOS', 'PSAP',\n",
       "       'CLEC7A', 'FTH1', 'PLBD1', 'CCL5', 'CD8A', 'GZMH', 'NKG7', 'TRGC2',\n",
       "       'GZMA', 'IL32', 'CST7', 'DUSP2', 'CD8B', 'CD3G', 'GZMK', 'FGFBP2',\n",
       "       'KLRG1', 'CD2', 'RUNX3', 'TRAC', 'CD3D', 'CD3E', 'ARL4C', 'GNLY',\n",
       "       'PRF1', 'FGFBP2', 'SPON2', 'NKG7', 'GZMB', 'IL2RB', 'KLRF1',\n",
       "       'CTSW', 'KLRD1', 'CST7', 'GZMA', 'CCL4', 'CCL5', 'RUNX3', 'SH2D1B',\n",
       "       'KLRB1', 'CD7', 'CX3CR1', 'FCGR3A', 'IFI27', 'IFI6', 'IFITM3',\n",
       "       'CLU', 'RNASE2', 'CD163', 'FCER1G', 'ISG15', 'SIGLEC1', 'APOBEC3A',\n",
       "       'MS4A4A', 'S100A9', 'FTL', 'PLBD1', 'SPI1', 'PSAP', 'MX1', 'CTSB',\n",
       "       'SELL', 'CCR1', 'MS4A1', 'CD79A', 'IGHM', 'IGHD', 'BANK1', 'CD22',\n",
       "       'RALGPS2', 'PAX5', 'FAM129C', 'CD74', 'HLA-DQB1', 'FCRL1',\n",
       "       'LINC00926', 'AFF3', 'HLA-DQA1', 'CD83', 'MEF2C', 'BACH2',\n",
       "       'HLA-DRA', 'BIRC3', 'LYZ', 'FGL2', 'MS4A6A', 'CTSS', 'AP1S2',\n",
       "       'MPEG1', 'CPVL', 'CST3', 'MNDA', 'TNFAIP2', 'HLA-DRA', 'HLA-DRB5',\n",
       "       'HLA-DRB1', 'CD302', 'FCN1', 'KCTD12', 'AIF1', 'CYBB', 'EGR1',\n",
       "       'TGFBI', 'IGHGP', 'FOSB', 'PLAUR', 'NAMPT', 'VCAN', 'IGKC', 'CD14',\n",
       "       'FCN1', 'CXCL8', 'S100A12', 'S100A9', 'C5AR1', 'LYZ', 'CST3',\n",
       "       'DOCK8', 'S100A8', 'USP15', 'LRRFIP1', 'TYROBP', 'FOS', 'FCGR3B',\n",
       "       'CSF3R', 'CXCR2', 'IFITM2', 'BASP1', 'SLC25A37', 'IL1R2', 'G0S2',\n",
       "       'CD177', 'NAMPT', 'PROK2', 'SOD2', 'GCA', 'ALPL', 'MME', 'KCNJ15',\n",
       "       'CXCR1', 'LIMK2', 'VNN2', 'FAM129A', 'CD247', 'TSHZ2', 'PDE3B',\n",
       "       'ARHGAP15', 'SKAP1', 'LINC-PINT', 'ZBTB20', 'MAML2', 'PRKCH',\n",
       "       'ANK3', 'SMYD3', 'INPP4B', 'FHIT', 'LINC01619', 'KLF12',\n",
       "       'RABGAP1L', 'PRKCA', 'DOCK10', 'LRBA', 'BTBD9', 'CDKN1C', 'FCGR3A',\n",
       "       'MS4A7', 'LST1', 'TCF7L2', 'CSF1R', 'AIF1', 'COTL1', 'SMIM25',\n",
       "       'PECAM1', 'LILRB2', 'SIGLEC10', 'HLA-DPA1', 'WARS', 'HMOX1',\n",
       "       'LRRC25', 'NR4A1', 'LYN', 'CUX1', 'CST3', 'IGKC', 'JCHAIN',\n",
       "       'IGHA1', 'IGHG1', 'IGLC2', 'IGHGP', 'IGLC3', 'IGHG3', 'IGHA2',\n",
       "       'IGHG2', 'IGHM', 'IGHG4', 'MZB1', 'HSP90B1', 'AC244205.1', 'ITM2C',\n",
       "       'SEC11C', 'IGLL5', 'POU2AF1', 'ENAM', 'STMN1', 'TUBA1B', 'TUBB',\n",
       "       'TYMS', 'HMGB2', 'MKI67', 'PCNA', 'DUT', 'HIST1H4C', 'TOP2A',\n",
       "       'GZMA', 'MCM4', 'SMC4', 'H2AFZ', 'GZMB', 'NUSAP1', 'RRM2', 'NASP',\n",
       "       'GNLY', 'CENPF', 'LTF', 'DEFA3', 'LCN2', 'CAMP', 'BPI', 'DEFA4',\n",
       "       'PGLYRP1', 'CEACAM8', 'MMP8', 'AZU1', 'CRISP3', 'CD24', 'MPO',\n",
       "       'TCN1', 'RETN', 'S100A8', 'CHI3L1', 'ELANE', 'RNASE3', 'ANXA3',\n",
       "       'PF4', 'PPBP', 'NRGN', 'TUBB1', 'AC068234.1', 'MPIG6B', 'CAVIN2',\n",
       "       'SPARC', 'ITGA2B', 'HIST1H2AC', 'PRKAR2B', 'RUFY1', 'F13A1',\n",
       "       'RGS18', 'MYL9', 'MTURN', 'VCL', 'TREML1', 'MMD', 'TRIM58', 'HBB',\n",
       "       'HBA2', 'HBA1', 'HBD', 'CA1', 'SLC25A37', 'SNCA', 'ALAS2',\n",
       "       'TRIM58', 'SLC25A39', 'SLC4A1', 'DMTN', 'ADIPOR1', 'AHSP', 'HBM',\n",
       "       'FAM210B', 'MXI1', 'PIM1', 'IFI27', 'FECH', 'FCER1A', 'HLA-DQA1',\n",
       "       'HLA-DPA1', 'CD1C', 'HLA-DRA', 'HLA-DPB1', 'HLA-DRB1', 'CD74',\n",
       "       'HLA-DQB1', 'HLA-DRB5', 'CST3', 'CLEC10A', 'NAPSB', 'AREG',\n",
       "       'HLA-DMB', 'HLA-DMA', 'SAMHD1', 'CPVL', 'PEA15', 'HLA-DOA',\n",
       "       'MS4A1', 'CD79A', 'IGHM', 'IGHD', 'BANK1', 'CD22', 'PAX5', 'CD74',\n",
       "       'FAM129C', 'RALGPS2', 'HLA-DQB1', 'HLA-DRA', 'FCRL1', 'HLA-DQA1',\n",
       "       'HLA-DPB1', 'CXCR4', 'LINC00926', 'ADAM28', 'PLPP5', 'BLK', 'IRF8',\n",
       "       'ITM2C', 'TCF4', 'PLD4', 'CCDC50', 'SERPINF1', 'C1orf186', 'UGCG',\n",
       "       'APP', 'LILRA4', 'IRF7', 'GZMB', 'NAPSB', 'SMPD3', 'BCL11A',\n",
       "       'SOX4', 'TSPAN13', 'IRF4', 'PTGDS', 'FAM129C', 'CDK6', 'SOX4',\n",
       "       'LRRC75A-AS1', 'CD34', 'MYB', 'MTURN', 'LAPTM4B', 'SPINK2',\n",
       "       'GATA2', 'SMIM24', 'GAS5', 'NREP', 'STMN1', 'ZFAS1', 'FAM117A',\n",
       "       'LMO4', 'HSP90AB1', 'ITM2C', 'NRIP1', 'H1F0', 'CLC', 'FCER1A',\n",
       "       'CSF2RB', 'GATA2', 'HDC', 'MS4A3', 'MS4A2', 'AKAP12', 'CPA3',\n",
       "       'CCR3', 'GCSAML', 'ATP10D', 'AREG', 'TMEM164', 'SLC45A3', 'RFLNB',\n",
       "       'PDLIM5', 'BHLHE40', 'SCCPDH', 'RUNX1'], dtype=object)"
      ]
     },
     "execution_count": 137,
     "metadata": {},
     "output_type": "execute_result"
    }
   ],
   "source": [
    "markers"
   ]
  },
  {
   "cell_type": "markdown",
   "id": "2a970e1e",
   "metadata": {},
   "source": [
    "### Markers from the published paper"
   ]
  },
  {
   "cell_type": "code",
   "execution_count": 138,
   "id": "952f372c",
   "metadata": {},
   "outputs": [],
   "source": [
    "# markers = ['HLA-DRA','HLA-DRB1','LYZ','CST3','TYROBP','AP1S2','CSTA','FCN1','MS4A6A','LST1','CYBB','CTSS','DUSP6','IL1B','SGK1','KLF4','CLEC7A','ATP2B1-AS1','MARCKS',\n",
    "# 'SAT1','MYADM','IFI27','IFITM3','ISG15','APOBEC3A','IFI6','TNFSF10','MT2A','MX1','IFIT3','MNDA','S100A12','S100A9','S100A8','MAFB','VCAN','PLBD1','CXCL8',\n",
    "# 'RNASE2','FCGR3A','MS4A7','CDKN1C','AIF1','COTL1','FCER1G','C1QA','RHOC','FCGR3B','IFITM2','NAMPT','G0S2','PROK2','CMTM2',\n",
    "# 'BASP1','BCL2A1','SLC25A37','DEFA3','LTF','LCN2','CAMP','RETN','DEFA4','CD24','PGLYRP1','OLFM4']"
   ]
  },
  {
   "cell_type": "code",
   "execution_count": 139,
   "id": "3e83a9c2",
   "metadata": {},
   "outputs": [
    {
     "data": {
      "text/plain": [
       "255"
      ]
     },
     "execution_count": 139,
     "metadata": {},
     "output_type": "execute_result"
    }
   ],
   "source": [
    "idx_te= np.where(adata1_c.isin (markers))[0]\n",
    "idx_tr= np.where(adata_c.isin (adata1_c[idx_te]))[0]\n",
    "len(idx_tr)"
   ]
  },
  {
   "cell_type": "markdown",
   "id": "eededa36",
   "metadata": {},
   "source": [
    "# Input formating for the prediction "
   ]
  },
  {
   "cell_type": "code",
   "execution_count": 162,
   "id": "ef41644e",
   "metadata": {},
   "outputs": [
    {
     "name": "stdout",
     "output_type": "stream",
     "text": [
      "25\n",
      "18\n",
      "6\n",
      "\n",
      "25\n",
      "18\n",
      "6\n",
      "\n",
      "(29120, 255)\n",
      "(9579, 255)\n"
     ]
    }
   ],
   "source": [
    "gm = collections.defaultdict(list)\n",
    "count_train = collections.defaultdict(int)\n",
    "count_test = collections.defaultdict(int)\n",
    "count_train_s = []\n",
    "count_test_s = []\n",
    "\n",
    "for XX in Xall:\n",
    "    random.shuffle(XX)\n",
    "    Xtrain = list(map(lambda x: (x[0].todense(), *x[1:]), XX))\n",
    "    Xtrain = list(map(lambda x: (x[0][:,idx_tr], *x[1:]), Xtrain))\n",
    "    print(len(Xtrain))\n",
    "    nb = int(len(Xtrain)*0.75)\n",
    "    print(nb)\n",
    "    nb_ = int(len(Xtrain)*0.25)\n",
    "    print(nb_)\n",
    "    print()\n",
    "    for i in range(nb+1):\n",
    "        X, y, *_ = Xtrain[i]\n",
    "        gm['train'].append(X)\n",
    "        count_train[y] += 1\n",
    "        count_train_s.append(X.shape[0])\n",
    "    for i in range(nb_):\n",
    "        X, y, *_ = Xtrain[nb+1+i]\n",
    "        gm['test'].append(X)\n",
    "        count_test[y] += 1   \n",
    "        count_test_s.append(X.shape[0])\n",
    "for state in gm:\n",
    "        gm[state] = np.concatenate(gm[state])\n",
    "        print(gm[state].shape)"
   ]
  },
  {
   "cell_type": "code",
   "execution_count": 163,
   "id": "0e2f82cb",
   "metadata": {},
   "outputs": [
    {
     "data": {
      "text/plain": [
       "38699"
      ]
     },
     "execution_count": 163,
     "metadata": {},
     "output_type": "execute_result"
    }
   ],
   "source": [
    "29120+9579"
   ]
  },
  {
   "cell_type": "markdown",
   "id": "baaa34dc",
   "metadata": {},
   "source": [
    "# SVM"
   ]
  },
  {
   "cell_type": "code",
   "execution_count": 172,
   "id": "7b56741b",
   "metadata": {},
   "outputs": [
    {
     "ename": "KeyboardInterrupt",
     "evalue": "",
     "output_type": "error",
     "traceback": [
      "\u001b[0;31m---------------------------------------------------------------------------\u001b[0m",
      "\u001b[0;31mKeyboardInterrupt\u001b[0m                         Traceback (most recent call last)",
      "\u001b[0;32m<ipython-input-172-ae96abc3d7c0>\u001b[0m in \u001b[0;36m<module>\u001b[0;34m\u001b[0m\n\u001b[1;32m     12\u001b[0m \u001b[0ma\u001b[0m\u001b[0;34m=\u001b[0m \u001b[0mnp\u001b[0m\u001b[0;34m.\u001b[0m\u001b[0mzeros\u001b[0m\u001b[0;34m(\u001b[0m\u001b[0msum\u001b[0m\u001b[0;34m(\u001b[0m\u001b[0mcount_train_s\u001b[0m\u001b[0;34m[\u001b[0m\u001b[0;34m:\u001b[0m\u001b[0mcount_train\u001b[0m\u001b[0;34m[\u001b[0m\u001b[0;36m0\u001b[0m\u001b[0;34m]\u001b[0m\u001b[0;34m]\u001b[0m\u001b[0;34m)\u001b[0m\u001b[0;34m)\u001b[0m\u001b[0;34m\u001b[0m\u001b[0;34m\u001b[0m\u001b[0m\n\u001b[1;32m     13\u001b[0m \u001b[0my_train\u001b[0m\u001b[0;34m=\u001b[0m\u001b[0mnp\u001b[0m\u001b[0;34m.\u001b[0m\u001b[0mappend\u001b[0m\u001b[0;34m(\u001b[0m\u001b[0ma\u001b[0m\u001b[0;34m,\u001b[0m\u001b[0mnp\u001b[0m\u001b[0;34m.\u001b[0m\u001b[0mones\u001b[0m\u001b[0;34m(\u001b[0m\u001b[0msum\u001b[0m\u001b[0;34m(\u001b[0m\u001b[0mcount_train_s\u001b[0m\u001b[0;34m[\u001b[0m\u001b[0mcount_train\u001b[0m\u001b[0;34m[\u001b[0m\u001b[0;36m0\u001b[0m\u001b[0;34m]\u001b[0m\u001b[0;34m:\u001b[0m\u001b[0;34m]\u001b[0m\u001b[0;34m)\u001b[0m\u001b[0;34m)\u001b[0m \u001b[0;34m)\u001b[0m\u001b[0;34m\u001b[0m\u001b[0;34m\u001b[0m\u001b[0m\n\u001b[0;32m---> 14\u001b[0;31m \u001b[0mgrid_result\u001b[0m \u001b[0;34m=\u001b[0m \u001b[0mclf\u001b[0m\u001b[0;34m.\u001b[0m\u001b[0mfit\u001b[0m\u001b[0;34m(\u001b[0m\u001b[0mgm\u001b[0m\u001b[0;34m[\u001b[0m\u001b[0;34m'train'\u001b[0m\u001b[0;34m]\u001b[0m\u001b[0;34m,\u001b[0m \u001b[0my_train\u001b[0m\u001b[0;34m)\u001b[0m\u001b[0;34m\u001b[0m\u001b[0;34m\u001b[0m\u001b[0m\n\u001b[0m\u001b[1;32m     15\u001b[0m \u001b[0mprint\u001b[0m\u001b[0;34m(\u001b[0m\u001b[0;34m\"Best: %f using %s\"\u001b[0m \u001b[0;34m%\u001b[0m \u001b[0;34m(\u001b[0m\u001b[0mgrid_result\u001b[0m\u001b[0;34m.\u001b[0m\u001b[0mbest_score_\u001b[0m\u001b[0;34m,\u001b[0m \u001b[0mgrid_result\u001b[0m\u001b[0;34m.\u001b[0m\u001b[0mbest_params_\u001b[0m\u001b[0;34m)\u001b[0m\u001b[0;34m)\u001b[0m\u001b[0;34m\u001b[0m\u001b[0;34m\u001b[0m\u001b[0m\n",
      "\u001b[0;32m~/miniconda3/lib/python3.9/site-packages/sklearn/model_selection/_search.py\u001b[0m in \u001b[0;36mfit\u001b[0;34m(self, X, y, groups, **fit_params)\u001b[0m\n\u001b[1;32m    889\u001b[0m                 \u001b[0;32mreturn\u001b[0m \u001b[0mresults\u001b[0m\u001b[0;34m\u001b[0m\u001b[0;34m\u001b[0m\u001b[0m\n\u001b[1;32m    890\u001b[0m \u001b[0;34m\u001b[0m\u001b[0m\n\u001b[0;32m--> 891\u001b[0;31m             \u001b[0mself\u001b[0m\u001b[0;34m.\u001b[0m\u001b[0m_run_search\u001b[0m\u001b[0;34m(\u001b[0m\u001b[0mevaluate_candidates\u001b[0m\u001b[0;34m)\u001b[0m\u001b[0;34m\u001b[0m\u001b[0;34m\u001b[0m\u001b[0m\n\u001b[0m\u001b[1;32m    892\u001b[0m \u001b[0;34m\u001b[0m\u001b[0m\n\u001b[1;32m    893\u001b[0m             \u001b[0;31m# multimetric is determined here because in the case of a callable\u001b[0m\u001b[0;34m\u001b[0m\u001b[0;34m\u001b[0m\u001b[0;34m\u001b[0m\u001b[0m\n",
      "\u001b[0;32m~/miniconda3/lib/python3.9/site-packages/sklearn/model_selection/_search.py\u001b[0m in \u001b[0;36m_run_search\u001b[0;34m(self, evaluate_candidates)\u001b[0m\n\u001b[1;32m   1390\u001b[0m     \u001b[0;32mdef\u001b[0m \u001b[0m_run_search\u001b[0m\u001b[0;34m(\u001b[0m\u001b[0mself\u001b[0m\u001b[0;34m,\u001b[0m \u001b[0mevaluate_candidates\u001b[0m\u001b[0;34m)\u001b[0m\u001b[0;34m:\u001b[0m\u001b[0;34m\u001b[0m\u001b[0;34m\u001b[0m\u001b[0m\n\u001b[1;32m   1391\u001b[0m         \u001b[0;34m\"\"\"Search all candidates in param_grid\"\"\"\u001b[0m\u001b[0;34m\u001b[0m\u001b[0;34m\u001b[0m\u001b[0m\n\u001b[0;32m-> 1392\u001b[0;31m         \u001b[0mevaluate_candidates\u001b[0m\u001b[0;34m(\u001b[0m\u001b[0mParameterGrid\u001b[0m\u001b[0;34m(\u001b[0m\u001b[0mself\u001b[0m\u001b[0;34m.\u001b[0m\u001b[0mparam_grid\u001b[0m\u001b[0;34m)\u001b[0m\u001b[0;34m)\u001b[0m\u001b[0;34m\u001b[0m\u001b[0;34m\u001b[0m\u001b[0m\n\u001b[0m\u001b[1;32m   1393\u001b[0m \u001b[0;34m\u001b[0m\u001b[0m\n\u001b[1;32m   1394\u001b[0m \u001b[0;34m\u001b[0m\u001b[0m\n",
      "\u001b[0;32m~/miniconda3/lib/python3.9/site-packages/sklearn/model_selection/_search.py\u001b[0m in \u001b[0;36mevaluate_candidates\u001b[0;34m(candidate_params, cv, more_results)\u001b[0m\n\u001b[1;32m    836\u001b[0m                     )\n\u001b[1;32m    837\u001b[0m \u001b[0;34m\u001b[0m\u001b[0m\n\u001b[0;32m--> 838\u001b[0;31m                 out = parallel(\n\u001b[0m\u001b[1;32m    839\u001b[0m                     delayed(_fit_and_score)(\n\u001b[1;32m    840\u001b[0m                         \u001b[0mclone\u001b[0m\u001b[0;34m(\u001b[0m\u001b[0mbase_estimator\u001b[0m\u001b[0;34m)\u001b[0m\u001b[0;34m,\u001b[0m\u001b[0;34m\u001b[0m\u001b[0;34m\u001b[0m\u001b[0m\n",
      "\u001b[0;32m~/miniconda3/lib/python3.9/site-packages/joblib/parallel.py\u001b[0m in \u001b[0;36m__call__\u001b[0;34m(self, iterable)\u001b[0m\n\u001b[1;32m   1044\u001b[0m                 \u001b[0mself\u001b[0m\u001b[0;34m.\u001b[0m\u001b[0m_iterating\u001b[0m \u001b[0;34m=\u001b[0m \u001b[0mself\u001b[0m\u001b[0;34m.\u001b[0m\u001b[0m_original_iterator\u001b[0m \u001b[0;32mis\u001b[0m \u001b[0;32mnot\u001b[0m \u001b[0;32mNone\u001b[0m\u001b[0;34m\u001b[0m\u001b[0;34m\u001b[0m\u001b[0m\n\u001b[1;32m   1045\u001b[0m \u001b[0;34m\u001b[0m\u001b[0m\n\u001b[0;32m-> 1046\u001b[0;31m             \u001b[0;32mwhile\u001b[0m \u001b[0mself\u001b[0m\u001b[0;34m.\u001b[0m\u001b[0mdispatch_one_batch\u001b[0m\u001b[0;34m(\u001b[0m\u001b[0miterator\u001b[0m\u001b[0;34m)\u001b[0m\u001b[0;34m:\u001b[0m\u001b[0;34m\u001b[0m\u001b[0;34m\u001b[0m\u001b[0m\n\u001b[0m\u001b[1;32m   1047\u001b[0m                 \u001b[0;32mpass\u001b[0m\u001b[0;34m\u001b[0m\u001b[0;34m\u001b[0m\u001b[0m\n\u001b[1;32m   1048\u001b[0m \u001b[0;34m\u001b[0m\u001b[0m\n",
      "\u001b[0;32m~/miniconda3/lib/python3.9/site-packages/joblib/parallel.py\u001b[0m in \u001b[0;36mdispatch_one_batch\u001b[0;34m(self, iterator)\u001b[0m\n\u001b[1;32m    859\u001b[0m                 \u001b[0;32mreturn\u001b[0m \u001b[0;32mFalse\u001b[0m\u001b[0;34m\u001b[0m\u001b[0;34m\u001b[0m\u001b[0m\n\u001b[1;32m    860\u001b[0m             \u001b[0;32melse\u001b[0m\u001b[0;34m:\u001b[0m\u001b[0;34m\u001b[0m\u001b[0;34m\u001b[0m\u001b[0m\n\u001b[0;32m--> 861\u001b[0;31m                 \u001b[0mself\u001b[0m\u001b[0;34m.\u001b[0m\u001b[0m_dispatch\u001b[0m\u001b[0;34m(\u001b[0m\u001b[0mtasks\u001b[0m\u001b[0;34m)\u001b[0m\u001b[0;34m\u001b[0m\u001b[0;34m\u001b[0m\u001b[0m\n\u001b[0m\u001b[1;32m    862\u001b[0m                 \u001b[0;32mreturn\u001b[0m \u001b[0;32mTrue\u001b[0m\u001b[0;34m\u001b[0m\u001b[0;34m\u001b[0m\u001b[0m\n\u001b[1;32m    863\u001b[0m \u001b[0;34m\u001b[0m\u001b[0m\n",
      "\u001b[0;32m~/miniconda3/lib/python3.9/site-packages/joblib/parallel.py\u001b[0m in \u001b[0;36m_dispatch\u001b[0;34m(self, batch)\u001b[0m\n\u001b[1;32m    777\u001b[0m         \u001b[0;32mwith\u001b[0m \u001b[0mself\u001b[0m\u001b[0;34m.\u001b[0m\u001b[0m_lock\u001b[0m\u001b[0;34m:\u001b[0m\u001b[0;34m\u001b[0m\u001b[0;34m\u001b[0m\u001b[0m\n\u001b[1;32m    778\u001b[0m             \u001b[0mjob_idx\u001b[0m \u001b[0;34m=\u001b[0m \u001b[0mlen\u001b[0m\u001b[0;34m(\u001b[0m\u001b[0mself\u001b[0m\u001b[0;34m.\u001b[0m\u001b[0m_jobs\u001b[0m\u001b[0;34m)\u001b[0m\u001b[0;34m\u001b[0m\u001b[0;34m\u001b[0m\u001b[0m\n\u001b[0;32m--> 779\u001b[0;31m             \u001b[0mjob\u001b[0m \u001b[0;34m=\u001b[0m \u001b[0mself\u001b[0m\u001b[0;34m.\u001b[0m\u001b[0m_backend\u001b[0m\u001b[0;34m.\u001b[0m\u001b[0mapply_async\u001b[0m\u001b[0;34m(\u001b[0m\u001b[0mbatch\u001b[0m\u001b[0;34m,\u001b[0m \u001b[0mcallback\u001b[0m\u001b[0;34m=\u001b[0m\u001b[0mcb\u001b[0m\u001b[0;34m)\u001b[0m\u001b[0;34m\u001b[0m\u001b[0;34m\u001b[0m\u001b[0m\n\u001b[0m\u001b[1;32m    780\u001b[0m             \u001b[0;31m# A job can complete so quickly than its callback is\u001b[0m\u001b[0;34m\u001b[0m\u001b[0;34m\u001b[0m\u001b[0;34m\u001b[0m\u001b[0m\n\u001b[1;32m    781\u001b[0m             \u001b[0;31m# called before we get here, causing self._jobs to\u001b[0m\u001b[0;34m\u001b[0m\u001b[0;34m\u001b[0m\u001b[0;34m\u001b[0m\u001b[0m\n",
      "\u001b[0;32m~/miniconda3/lib/python3.9/site-packages/joblib/_parallel_backends.py\u001b[0m in \u001b[0;36mapply_async\u001b[0;34m(self, func, callback)\u001b[0m\n\u001b[1;32m    206\u001b[0m     \u001b[0;32mdef\u001b[0m \u001b[0mapply_async\u001b[0m\u001b[0;34m(\u001b[0m\u001b[0mself\u001b[0m\u001b[0;34m,\u001b[0m \u001b[0mfunc\u001b[0m\u001b[0;34m,\u001b[0m \u001b[0mcallback\u001b[0m\u001b[0;34m=\u001b[0m\u001b[0;32mNone\u001b[0m\u001b[0;34m)\u001b[0m\u001b[0;34m:\u001b[0m\u001b[0;34m\u001b[0m\u001b[0;34m\u001b[0m\u001b[0m\n\u001b[1;32m    207\u001b[0m         \u001b[0;34m\"\"\"Schedule a func to be run\"\"\"\u001b[0m\u001b[0;34m\u001b[0m\u001b[0;34m\u001b[0m\u001b[0m\n\u001b[0;32m--> 208\u001b[0;31m         \u001b[0mresult\u001b[0m \u001b[0;34m=\u001b[0m \u001b[0mImmediateResult\u001b[0m\u001b[0;34m(\u001b[0m\u001b[0mfunc\u001b[0m\u001b[0;34m)\u001b[0m\u001b[0;34m\u001b[0m\u001b[0;34m\u001b[0m\u001b[0m\n\u001b[0m\u001b[1;32m    209\u001b[0m         \u001b[0;32mif\u001b[0m \u001b[0mcallback\u001b[0m\u001b[0;34m:\u001b[0m\u001b[0;34m\u001b[0m\u001b[0;34m\u001b[0m\u001b[0m\n\u001b[1;32m    210\u001b[0m             \u001b[0mcallback\u001b[0m\u001b[0;34m(\u001b[0m\u001b[0mresult\u001b[0m\u001b[0;34m)\u001b[0m\u001b[0;34m\u001b[0m\u001b[0;34m\u001b[0m\u001b[0m\n",
      "\u001b[0;32m~/miniconda3/lib/python3.9/site-packages/joblib/_parallel_backends.py\u001b[0m in \u001b[0;36m__init__\u001b[0;34m(self, batch)\u001b[0m\n\u001b[1;32m    570\u001b[0m         \u001b[0;31m# Don't delay the application, to avoid keeping the input\u001b[0m\u001b[0;34m\u001b[0m\u001b[0;34m\u001b[0m\u001b[0;34m\u001b[0m\u001b[0m\n\u001b[1;32m    571\u001b[0m         \u001b[0;31m# arguments in memory\u001b[0m\u001b[0;34m\u001b[0m\u001b[0;34m\u001b[0m\u001b[0;34m\u001b[0m\u001b[0m\n\u001b[0;32m--> 572\u001b[0;31m         \u001b[0mself\u001b[0m\u001b[0;34m.\u001b[0m\u001b[0mresults\u001b[0m \u001b[0;34m=\u001b[0m \u001b[0mbatch\u001b[0m\u001b[0;34m(\u001b[0m\u001b[0;34m)\u001b[0m\u001b[0;34m\u001b[0m\u001b[0;34m\u001b[0m\u001b[0m\n\u001b[0m\u001b[1;32m    573\u001b[0m \u001b[0;34m\u001b[0m\u001b[0m\n\u001b[1;32m    574\u001b[0m     \u001b[0;32mdef\u001b[0m \u001b[0mget\u001b[0m\u001b[0;34m(\u001b[0m\u001b[0mself\u001b[0m\u001b[0;34m)\u001b[0m\u001b[0;34m:\u001b[0m\u001b[0;34m\u001b[0m\u001b[0;34m\u001b[0m\u001b[0m\n",
      "\u001b[0;32m~/miniconda3/lib/python3.9/site-packages/joblib/parallel.py\u001b[0m in \u001b[0;36m__call__\u001b[0;34m(self)\u001b[0m\n\u001b[1;32m    260\u001b[0m         \u001b[0;31m# change the default number of processes to -1\u001b[0m\u001b[0;34m\u001b[0m\u001b[0;34m\u001b[0m\u001b[0;34m\u001b[0m\u001b[0m\n\u001b[1;32m    261\u001b[0m         \u001b[0;32mwith\u001b[0m \u001b[0mparallel_backend\u001b[0m\u001b[0;34m(\u001b[0m\u001b[0mself\u001b[0m\u001b[0;34m.\u001b[0m\u001b[0m_backend\u001b[0m\u001b[0;34m,\u001b[0m \u001b[0mn_jobs\u001b[0m\u001b[0;34m=\u001b[0m\u001b[0mself\u001b[0m\u001b[0;34m.\u001b[0m\u001b[0m_n_jobs\u001b[0m\u001b[0;34m)\u001b[0m\u001b[0;34m:\u001b[0m\u001b[0;34m\u001b[0m\u001b[0;34m\u001b[0m\u001b[0m\n\u001b[0;32m--> 262\u001b[0;31m             return [func(*args, **kwargs)\n\u001b[0m\u001b[1;32m    263\u001b[0m                     for func, args, kwargs in self.items]\n\u001b[1;32m    264\u001b[0m \u001b[0;34m\u001b[0m\u001b[0m\n",
      "\u001b[0;32m~/miniconda3/lib/python3.9/site-packages/joblib/parallel.py\u001b[0m in \u001b[0;36m<listcomp>\u001b[0;34m(.0)\u001b[0m\n\u001b[1;32m    260\u001b[0m         \u001b[0;31m# change the default number of processes to -1\u001b[0m\u001b[0;34m\u001b[0m\u001b[0;34m\u001b[0m\u001b[0;34m\u001b[0m\u001b[0m\n\u001b[1;32m    261\u001b[0m         \u001b[0;32mwith\u001b[0m \u001b[0mparallel_backend\u001b[0m\u001b[0;34m(\u001b[0m\u001b[0mself\u001b[0m\u001b[0;34m.\u001b[0m\u001b[0m_backend\u001b[0m\u001b[0;34m,\u001b[0m \u001b[0mn_jobs\u001b[0m\u001b[0;34m=\u001b[0m\u001b[0mself\u001b[0m\u001b[0;34m.\u001b[0m\u001b[0m_n_jobs\u001b[0m\u001b[0;34m)\u001b[0m\u001b[0;34m:\u001b[0m\u001b[0;34m\u001b[0m\u001b[0;34m\u001b[0m\u001b[0m\n\u001b[0;32m--> 262\u001b[0;31m             return [func(*args, **kwargs)\n\u001b[0m\u001b[1;32m    263\u001b[0m                     for func, args, kwargs in self.items]\n\u001b[1;32m    264\u001b[0m \u001b[0;34m\u001b[0m\u001b[0m\n",
      "\u001b[0;32m~/miniconda3/lib/python3.9/site-packages/sklearn/utils/fixes.py\u001b[0m in \u001b[0;36m__call__\u001b[0;34m(self, *args, **kwargs)\u001b[0m\n\u001b[1;32m    214\u001b[0m     \u001b[0;32mdef\u001b[0m \u001b[0m__call__\u001b[0m\u001b[0;34m(\u001b[0m\u001b[0mself\u001b[0m\u001b[0;34m,\u001b[0m \u001b[0;34m*\u001b[0m\u001b[0margs\u001b[0m\u001b[0;34m,\u001b[0m \u001b[0;34m**\u001b[0m\u001b[0mkwargs\u001b[0m\u001b[0;34m)\u001b[0m\u001b[0;34m:\u001b[0m\u001b[0;34m\u001b[0m\u001b[0;34m\u001b[0m\u001b[0m\n\u001b[1;32m    215\u001b[0m         \u001b[0;32mwith\u001b[0m \u001b[0mconfig_context\u001b[0m\u001b[0;34m(\u001b[0m\u001b[0;34m**\u001b[0m\u001b[0mself\u001b[0m\u001b[0;34m.\u001b[0m\u001b[0mconfig\u001b[0m\u001b[0;34m)\u001b[0m\u001b[0;34m:\u001b[0m\u001b[0;34m\u001b[0m\u001b[0;34m\u001b[0m\u001b[0m\n\u001b[0;32m--> 216\u001b[0;31m             \u001b[0;32mreturn\u001b[0m \u001b[0mself\u001b[0m\u001b[0;34m.\u001b[0m\u001b[0mfunction\u001b[0m\u001b[0;34m(\u001b[0m\u001b[0;34m*\u001b[0m\u001b[0margs\u001b[0m\u001b[0;34m,\u001b[0m \u001b[0;34m**\u001b[0m\u001b[0mkwargs\u001b[0m\u001b[0;34m)\u001b[0m\u001b[0;34m\u001b[0m\u001b[0;34m\u001b[0m\u001b[0m\n\u001b[0m\u001b[1;32m    217\u001b[0m \u001b[0;34m\u001b[0m\u001b[0m\n\u001b[1;32m    218\u001b[0m \u001b[0;34m\u001b[0m\u001b[0m\n",
      "\u001b[0;32m~/miniconda3/lib/python3.9/site-packages/sklearn/model_selection/_validation.py\u001b[0m in \u001b[0;36m_fit_and_score\u001b[0;34m(estimator, X, y, scorer, train, test, verbose, parameters, fit_params, return_train_score, return_parameters, return_n_test_samples, return_times, return_estimator, split_progress, candidate_progress, error_score)\u001b[0m\n\u001b[1;32m    678\u001b[0m             \u001b[0mestimator\u001b[0m\u001b[0;34m.\u001b[0m\u001b[0mfit\u001b[0m\u001b[0;34m(\u001b[0m\u001b[0mX_train\u001b[0m\u001b[0;34m,\u001b[0m \u001b[0;34m**\u001b[0m\u001b[0mfit_params\u001b[0m\u001b[0;34m)\u001b[0m\u001b[0;34m\u001b[0m\u001b[0;34m\u001b[0m\u001b[0m\n\u001b[1;32m    679\u001b[0m         \u001b[0;32melse\u001b[0m\u001b[0;34m:\u001b[0m\u001b[0;34m\u001b[0m\u001b[0;34m\u001b[0m\u001b[0m\n\u001b[0;32m--> 680\u001b[0;31m             \u001b[0mestimator\u001b[0m\u001b[0;34m.\u001b[0m\u001b[0mfit\u001b[0m\u001b[0;34m(\u001b[0m\u001b[0mX_train\u001b[0m\u001b[0;34m,\u001b[0m \u001b[0my_train\u001b[0m\u001b[0;34m,\u001b[0m \u001b[0;34m**\u001b[0m\u001b[0mfit_params\u001b[0m\u001b[0;34m)\u001b[0m\u001b[0;34m\u001b[0m\u001b[0;34m\u001b[0m\u001b[0m\n\u001b[0m\u001b[1;32m    681\u001b[0m \u001b[0;34m\u001b[0m\u001b[0m\n\u001b[1;32m    682\u001b[0m     \u001b[0;32mexcept\u001b[0m \u001b[0mException\u001b[0m\u001b[0;34m:\u001b[0m\u001b[0;34m\u001b[0m\u001b[0;34m\u001b[0m\u001b[0m\n",
      "\u001b[0;32m~/miniconda3/lib/python3.9/site-packages/sklearn/svm/_base.py\u001b[0m in \u001b[0;36mfit\u001b[0;34m(self, X, y, sample_weight)\u001b[0m\n\u001b[1;32m    253\u001b[0m \u001b[0;34m\u001b[0m\u001b[0m\n\u001b[1;32m    254\u001b[0m         \u001b[0mseed\u001b[0m \u001b[0;34m=\u001b[0m \u001b[0mrnd\u001b[0m\u001b[0;34m.\u001b[0m\u001b[0mrandint\u001b[0m\u001b[0;34m(\u001b[0m\u001b[0mnp\u001b[0m\u001b[0;34m.\u001b[0m\u001b[0miinfo\u001b[0m\u001b[0;34m(\u001b[0m\u001b[0;34m\"i\"\u001b[0m\u001b[0;34m)\u001b[0m\u001b[0;34m.\u001b[0m\u001b[0mmax\u001b[0m\u001b[0;34m)\u001b[0m\u001b[0;34m\u001b[0m\u001b[0;34m\u001b[0m\u001b[0m\n\u001b[0;32m--> 255\u001b[0;31m         \u001b[0mfit\u001b[0m\u001b[0;34m(\u001b[0m\u001b[0mX\u001b[0m\u001b[0;34m,\u001b[0m \u001b[0my\u001b[0m\u001b[0;34m,\u001b[0m \u001b[0msample_weight\u001b[0m\u001b[0;34m,\u001b[0m \u001b[0msolver_type\u001b[0m\u001b[0;34m,\u001b[0m \u001b[0mkernel\u001b[0m\u001b[0;34m,\u001b[0m \u001b[0mrandom_seed\u001b[0m\u001b[0;34m=\u001b[0m\u001b[0mseed\u001b[0m\u001b[0;34m)\u001b[0m\u001b[0;34m\u001b[0m\u001b[0;34m\u001b[0m\u001b[0m\n\u001b[0m\u001b[1;32m    256\u001b[0m         \u001b[0;31m# see comment on the other call to np.iinfo in this file\u001b[0m\u001b[0;34m\u001b[0m\u001b[0;34m\u001b[0m\u001b[0;34m\u001b[0m\u001b[0m\n\u001b[1;32m    257\u001b[0m \u001b[0;34m\u001b[0m\u001b[0m\n",
      "\u001b[0;32m~/miniconda3/lib/python3.9/site-packages/sklearn/svm/_base.py\u001b[0m in \u001b[0;36m_dense_fit\u001b[0;34m(self, X, y, sample_weight, solver_type, kernel, random_seed)\u001b[0m\n\u001b[1;32m    313\u001b[0m             \u001b[0mself\u001b[0m\u001b[0;34m.\u001b[0m\u001b[0m_probB\u001b[0m\u001b[0;34m,\u001b[0m\u001b[0;34m\u001b[0m\u001b[0;34m\u001b[0m\u001b[0m\n\u001b[1;32m    314\u001b[0m             \u001b[0mself\u001b[0m\u001b[0;34m.\u001b[0m\u001b[0mfit_status_\u001b[0m\u001b[0;34m,\u001b[0m\u001b[0;34m\u001b[0m\u001b[0;34m\u001b[0m\u001b[0m\n\u001b[0;32m--> 315\u001b[0;31m         \u001b[0;34m)\u001b[0m \u001b[0;34m=\u001b[0m \u001b[0mlibsvm\u001b[0m\u001b[0;34m.\u001b[0m\u001b[0mfit\u001b[0m\u001b[0;34m(\u001b[0m\u001b[0;34m\u001b[0m\u001b[0;34m\u001b[0m\u001b[0m\n\u001b[0m\u001b[1;32m    316\u001b[0m             \u001b[0mX\u001b[0m\u001b[0;34m,\u001b[0m\u001b[0;34m\u001b[0m\u001b[0;34m\u001b[0m\u001b[0m\n\u001b[1;32m    317\u001b[0m             \u001b[0my\u001b[0m\u001b[0;34m,\u001b[0m\u001b[0;34m\u001b[0m\u001b[0;34m\u001b[0m\u001b[0m\n",
      "\u001b[0;31mKeyboardInterrupt\u001b[0m: "
     ]
    }
   ],
   "source": [
    "# c_values = [1.0,  2.0]\n",
    "# class_weight = ['balanced']\n",
    "# loss = ['hinge']\n",
    "# hyperparam_grid = dict(C=c_values,loss= loss, class_weight= class_weight)\n",
    "# s = svm.LinearSVC(random_state=42)\n",
    "c_values = [1.0,  2.0]\n",
    "kernel_values = [ 'linear' , 'rbf' ]\n",
    "class_weight = [ None]\n",
    "hyperparam_grid = dict(C=c_values, kernel=kernel_values, class_weight= class_weight)\n",
    "s = svm.SVC(random_state=42,  probability=True)\n",
    "clf = sks.GridSearchCV(s,hyperparam_grid,scoring='f1',cv=5, refit=True)\n",
    "a= np.zeros(sum(count_train_s[:count_train[0]]))\n",
    "y_train=np.append(a,np.ones(sum(count_train_s[count_train[0]:])) )\n",
    "grid_result = clf.fit(gm['train'], y_train)\n",
    "print(\"Best: %f using %s\" % (grid_result.best_score_, grid_result.best_params_))\n"
   ]
  },
  {
   "cell_type": "markdown",
   "id": "3e71b7de",
   "metadata": {},
   "source": [
    "### prediction on 25% of cohort2"
   ]
  },
  {
   "cell_type": "code",
   "execution_count": 165,
   "id": "3ebf45af",
   "metadata": {},
   "outputs": [],
   "source": [
    "pred=clf.decision_function(gm['test'])\n",
    "a= np.zeros(sum(count_test_s[:count_test[0]]))\n",
    "y_true=np.append(a,np.ones(sum(count_test_s[count_test[0]:])) )"
   ]
  },
  {
   "cell_type": "markdown",
   "id": "fbce88e2",
   "metadata": {},
   "source": [
    "### Extract prediction at sample level"
   ]
  },
  {
   "cell_type": "code",
   "execution_count": 166,
   "id": "05908790",
   "metadata": {},
   "outputs": [],
   "source": [
    "pred_agg=[]\n",
    "y_t=[]\n",
    "a= np.zeros(sum(count_test_s[:count_test[0]]))\n",
    "for ii in range(len(count_test_s)):\n",
    "    if ii ==0:\n",
    "        pred_agg.append(np.mean(pred[:count_test_s[ii]]))\n",
    "        y_t.append(np.mean(y_true[:count_test_s[ii]]))\n",
    "\n",
    "    else:\n",
    "        iiii=ii-1\n",
    "        iii = sum(count_test_s[:ii])\n",
    "        pred_agg.append(np.mean(pred[iii:iii+count_test_s[ii]]))\n",
    "        y_t.append(np.mean(y_true[iii:iii+count_test_s[ii]]))\n"
   ]
  },
  {
   "cell_type": "markdown",
   "id": "38ab8093",
   "metadata": {},
   "source": [
    "### AUC"
   ]
  },
  {
   "cell_type": "code",
   "execution_count": 167,
   "id": "1b015223",
   "metadata": {},
   "outputs": [
    {
     "data": {
      "image/png": "[encoded data removed]",
      "text/plain": [
       "<Figure size 432x288 with 1 Axes>"
      ]
     },
     "metadata": {
      "needs_background": "light"
     },
     "output_type": "display_data"
    }
   ],
   "source": [
    "    classes_=[0,1]\n",
    "    fpr, tpr, _ = skm.roc_curve(y_t,  pred_agg)\n",
    "    auc = skm.roc_auc_score(y_t,  pred_agg)\n",
    "\n",
    "    #create ROC curve\n",
    "    plt.plot(fpr,tpr,label=\"AUC=\"+str(auc))\n",
    "    plt.ylabel('True Positive Rate')\n",
    "    plt.xlabel('False Positive Rate')\n",
    "    plt.legend(loc=4)\n",
    "    plt.show()"
   ]
  },
  {
   "cell_type": "markdown",
   "id": "7a40ba26",
   "metadata": {},
   "source": [
    "# Test on Cohort1"
   ]
  },
  {
   "cell_type": "code",
   "execution_count": 168,
   "id": "2f2abac7",
   "metadata": {},
   "outputs": [
    {
     "name": "stdout",
     "output_type": "stream",
     "text": [
      "27\n",
      "(11703, 255)\n"
     ]
    }
   ],
   "source": [
    "XX = list(map(lambda x: (x[0].todense(), *x[1:]), Xtest))\n",
    "gm2 = collections.defaultdict(list)\n",
    "count_test2 = collections.defaultdict(int)\n",
    "count_test2_s = []\n",
    "Xtest_ = list(map(lambda x: (x[0][:,idx_te], *x[1:]), XX))\n",
    "print(len(Xtest_))\n",
    "for X, y, *_ in Xtest_:\n",
    "        gm2['test'].append(X)\n",
    "        count_test2[y] += 1   \n",
    "        count_test2_s.append(X.shape[0])\n",
    "for state in gm2:\n",
    "        gm2[state] = np.concatenate(gm2[state])\n",
    "        print(gm2[state].shape)"
   ]
  },
  {
   "cell_type": "code",
   "execution_count": 169,
   "id": "69a0cab5",
   "metadata": {},
   "outputs": [],
   "source": [
    "pred2=clf.decision_function(gm2['test'])\n",
    "a= np.zeros(sum(count_test2_s[:count_test2[0]]))\n",
    "y_true2=np.append(a,np.ones(sum(count_test2_s[count_test2[0]:])) )\n"
   ]
  },
  {
   "cell_type": "code",
   "execution_count": 170,
   "id": "1a979baf",
   "metadata": {},
   "outputs": [],
   "source": [
    "pred_agg2=[]\n",
    "y_t2=[]\n",
    "for ii in range(len(count_test2_s)):\n",
    "    if ii ==0:\n",
    "        pred_agg2.append(np.mean(pred2[:count_test2_s[ii]]))\n",
    "        y_t2.append(np.mean(y_true2[:count_test2_s[ii]]))\n",
    "    else:\n",
    "        iiii=ii-1\n",
    "        iii = sum(count_test2_s[:ii])\n",
    "        pred_agg2.append(np.mean(pred2[iii:iii+count_test2_s[ii]]))\n",
    "        y_t2.append(np.mean(y_true2[iii:iii+count_test2_s[ii]]))\n"
   ]
  },
  {
   "cell_type": "code",
   "execution_count": 171,
   "id": "ab259b5b",
   "metadata": {},
   "outputs": [
    {
     "data": {
      "image/png": "[encoded data removed]",
      "text/plain": [
       "<Figure size 432x288 with 1 Axes>"
      ]
     },
     "metadata": {
      "needs_background": "light"
     },
     "output_type": "display_data"
    }
   ],
   "source": [
    "    classes_=[0,1]\n",
    "    fpr, tpr, _ = skm.roc_curve(y_t2,  pred_agg2)\n",
    "    auc = skm.roc_auc_score(y_t2,  pred_agg2)\n",
    "    #create ROC curve\n",
    "    plt.plot(fpr,tpr,label=\"AUC=\"+str(auc))\n",
    "    plt.ylabel('True Positive Rate')\n",
    "    plt.xlabel('False Positive Rate')\n",
    "    plt.legend(loc=4)\n",
    "    plt.show()"
   ]
  },
  {
   "cell_type": "code",
   "execution_count": null,
   "id": "faa712c2",
   "metadata": {},
   "outputs": [],
   "source": []
  }
 ],
 "metadata": {
  "kernelspec": {
   "display_name": "base",
   "language": "python",
   "name": "base"
  },
  "language_info": {
   "codemirror_mode": {
    "name": "ipython",
    "version": 3
   },
   "file_extension": ".py",
   "mimetype": "text/x-python",
   "name": "python",
   "nbconvert_exporter": "python",
   "pygments_lexer": "ipython3",
   "version": "3.9.4"
  }
 },
 "nbformat": 4,
 "nbformat_minor": 5
}
